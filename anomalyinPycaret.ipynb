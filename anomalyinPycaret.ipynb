{
 "cells": [
  {
   "cell_type": "code",
   "execution_count": 24,
   "source": [
    "import pandas as pd \r\n",
    "import numpy as np\r\n",
    "import matplotlib.pyplot as plt"
   ],
   "outputs": [],
   "metadata": {}
  },
  {
   "cell_type": "code",
   "execution_count": 25,
   "source": [
    "from pycaret.datasets import get_data\r\n",
    "Data= get_data(\"mice\")\r\n"
   ],
   "outputs": [
    {
     "output_type": "display_data",
     "data": {
      "text/plain": [
       "  MouseID  DYRK1A_N   ITSN1_N    BDNF_N     NR1_N    NR2A_N    pAKT_N  \\\n",
       "0   309_1  0.503644  0.747193  0.430175  2.816329  5.990152  0.218830   \n",
       "1   309_2  0.514617  0.689064  0.411770  2.789514  5.685038  0.211636   \n",
       "2   309_3  0.509183  0.730247  0.418309  2.687201  5.622059  0.209011   \n",
       "3   309_4  0.442107  0.617076  0.358626  2.466947  4.979503  0.222886   \n",
       "4   309_5  0.434940  0.617430  0.358802  2.365785  4.718679  0.213106   \n",
       "\n",
       "    pBRAF_N  pCAMKII_N   pCREB_N  ...   pCFOS_N     SYP_N  H3AcK18_N  \\\n",
       "0  0.177565   2.373744  0.232224  ...  0.108336  0.427099   0.114783   \n",
       "1  0.172817   2.292150  0.226972  ...  0.104315  0.441581   0.111974   \n",
       "2  0.175722   2.283337  0.230247  ...  0.106219  0.435777   0.111883   \n",
       "3  0.176463   2.152301  0.207004  ...  0.111262  0.391691   0.130405   \n",
       "4  0.173627   2.134014  0.192158  ...  0.110694  0.434154   0.118481   \n",
       "\n",
       "     EGR1_N  H3MeK4_N    CaNA_N  Genotype  Treatment  Behavior   class  \n",
       "0  0.131790  0.128186  1.675652   Control  Memantine       C/S  c-CS-m  \n",
       "1  0.135103  0.131119  1.743610   Control  Memantine       C/S  c-CS-m  \n",
       "2  0.133362  0.127431  1.926427   Control  Memantine       C/S  c-CS-m  \n",
       "3  0.147444  0.146901  1.700563   Control  Memantine       C/S  c-CS-m  \n",
       "4  0.140314  0.148380  1.839730   Control  Memantine       C/S  c-CS-m  \n",
       "\n",
       "[5 rows x 82 columns]"
      ],
      "text/html": [
       "<div>\n",
       "<style scoped>\n",
       "    .dataframe tbody tr th:only-of-type {\n",
       "        vertical-align: middle;\n",
       "    }\n",
       "\n",
       "    .dataframe tbody tr th {\n",
       "        vertical-align: top;\n",
       "    }\n",
       "\n",
       "    .dataframe thead th {\n",
       "        text-align: right;\n",
       "    }\n",
       "</style>\n",
       "<table border=\"1\" class=\"dataframe\">\n",
       "  <thead>\n",
       "    <tr style=\"text-align: right;\">\n",
       "      <th></th>\n",
       "      <th>MouseID</th>\n",
       "      <th>DYRK1A_N</th>\n",
       "      <th>ITSN1_N</th>\n",
       "      <th>BDNF_N</th>\n",
       "      <th>NR1_N</th>\n",
       "      <th>NR2A_N</th>\n",
       "      <th>pAKT_N</th>\n",
       "      <th>pBRAF_N</th>\n",
       "      <th>pCAMKII_N</th>\n",
       "      <th>pCREB_N</th>\n",
       "      <th>...</th>\n",
       "      <th>pCFOS_N</th>\n",
       "      <th>SYP_N</th>\n",
       "      <th>H3AcK18_N</th>\n",
       "      <th>EGR1_N</th>\n",
       "      <th>H3MeK4_N</th>\n",
       "      <th>CaNA_N</th>\n",
       "      <th>Genotype</th>\n",
       "      <th>Treatment</th>\n",
       "      <th>Behavior</th>\n",
       "      <th>class</th>\n",
       "    </tr>\n",
       "  </thead>\n",
       "  <tbody>\n",
       "    <tr>\n",
       "      <th>0</th>\n",
       "      <td>309_1</td>\n",
       "      <td>0.503644</td>\n",
       "      <td>0.747193</td>\n",
       "      <td>0.430175</td>\n",
       "      <td>2.816329</td>\n",
       "      <td>5.990152</td>\n",
       "      <td>0.218830</td>\n",
       "      <td>0.177565</td>\n",
       "      <td>2.373744</td>\n",
       "      <td>0.232224</td>\n",
       "      <td>...</td>\n",
       "      <td>0.108336</td>\n",
       "      <td>0.427099</td>\n",
       "      <td>0.114783</td>\n",
       "      <td>0.131790</td>\n",
       "      <td>0.128186</td>\n",
       "      <td>1.675652</td>\n",
       "      <td>Control</td>\n",
       "      <td>Memantine</td>\n",
       "      <td>C/S</td>\n",
       "      <td>c-CS-m</td>\n",
       "    </tr>\n",
       "    <tr>\n",
       "      <th>1</th>\n",
       "      <td>309_2</td>\n",
       "      <td>0.514617</td>\n",
       "      <td>0.689064</td>\n",
       "      <td>0.411770</td>\n",
       "      <td>2.789514</td>\n",
       "      <td>5.685038</td>\n",
       "      <td>0.211636</td>\n",
       "      <td>0.172817</td>\n",
       "      <td>2.292150</td>\n",
       "      <td>0.226972</td>\n",
       "      <td>...</td>\n",
       "      <td>0.104315</td>\n",
       "      <td>0.441581</td>\n",
       "      <td>0.111974</td>\n",
       "      <td>0.135103</td>\n",
       "      <td>0.131119</td>\n",
       "      <td>1.743610</td>\n",
       "      <td>Control</td>\n",
       "      <td>Memantine</td>\n",
       "      <td>C/S</td>\n",
       "      <td>c-CS-m</td>\n",
       "    </tr>\n",
       "    <tr>\n",
       "      <th>2</th>\n",
       "      <td>309_3</td>\n",
       "      <td>0.509183</td>\n",
       "      <td>0.730247</td>\n",
       "      <td>0.418309</td>\n",
       "      <td>2.687201</td>\n",
       "      <td>5.622059</td>\n",
       "      <td>0.209011</td>\n",
       "      <td>0.175722</td>\n",
       "      <td>2.283337</td>\n",
       "      <td>0.230247</td>\n",
       "      <td>...</td>\n",
       "      <td>0.106219</td>\n",
       "      <td>0.435777</td>\n",
       "      <td>0.111883</td>\n",
       "      <td>0.133362</td>\n",
       "      <td>0.127431</td>\n",
       "      <td>1.926427</td>\n",
       "      <td>Control</td>\n",
       "      <td>Memantine</td>\n",
       "      <td>C/S</td>\n",
       "      <td>c-CS-m</td>\n",
       "    </tr>\n",
       "    <tr>\n",
       "      <th>3</th>\n",
       "      <td>309_4</td>\n",
       "      <td>0.442107</td>\n",
       "      <td>0.617076</td>\n",
       "      <td>0.358626</td>\n",
       "      <td>2.466947</td>\n",
       "      <td>4.979503</td>\n",
       "      <td>0.222886</td>\n",
       "      <td>0.176463</td>\n",
       "      <td>2.152301</td>\n",
       "      <td>0.207004</td>\n",
       "      <td>...</td>\n",
       "      <td>0.111262</td>\n",
       "      <td>0.391691</td>\n",
       "      <td>0.130405</td>\n",
       "      <td>0.147444</td>\n",
       "      <td>0.146901</td>\n",
       "      <td>1.700563</td>\n",
       "      <td>Control</td>\n",
       "      <td>Memantine</td>\n",
       "      <td>C/S</td>\n",
       "      <td>c-CS-m</td>\n",
       "    </tr>\n",
       "    <tr>\n",
       "      <th>4</th>\n",
       "      <td>309_5</td>\n",
       "      <td>0.434940</td>\n",
       "      <td>0.617430</td>\n",
       "      <td>0.358802</td>\n",
       "      <td>2.365785</td>\n",
       "      <td>4.718679</td>\n",
       "      <td>0.213106</td>\n",
       "      <td>0.173627</td>\n",
       "      <td>2.134014</td>\n",
       "      <td>0.192158</td>\n",
       "      <td>...</td>\n",
       "      <td>0.110694</td>\n",
       "      <td>0.434154</td>\n",
       "      <td>0.118481</td>\n",
       "      <td>0.140314</td>\n",
       "      <td>0.148380</td>\n",
       "      <td>1.839730</td>\n",
       "      <td>Control</td>\n",
       "      <td>Memantine</td>\n",
       "      <td>C/S</td>\n",
       "      <td>c-CS-m</td>\n",
       "    </tr>\n",
       "  </tbody>\n",
       "</table>\n",
       "<p>5 rows × 82 columns</p>\n",
       "</div>"
      ]
     },
     "metadata": {}
    }
   ],
   "metadata": {}
  },
  {
   "cell_type": "code",
   "execution_count": 26,
   "source": [
    "Data.shape"
   ],
   "outputs": [
    {
     "output_type": "execute_result",
     "data": {
      "text/plain": [
       "(1080, 82)"
      ]
     },
     "metadata": {},
     "execution_count": 26
    }
   ],
   "metadata": {}
  },
  {
   "cell_type": "code",
   "execution_count": 27,
   "source": [
    "Data.columns"
   ],
   "outputs": [
    {
     "output_type": "execute_result",
     "data": {
      "text/plain": [
       "Index(['MouseID', 'DYRK1A_N', 'ITSN1_N', 'BDNF_N', 'NR1_N', 'NR2A_N', 'pAKT_N',\n",
       "       'pBRAF_N', 'pCAMKII_N', 'pCREB_N', 'pELK_N', 'pERK_N', 'pJNK_N',\n",
       "       'PKCA_N', 'pMEK_N', 'pNR1_N', 'pNR2A_N', 'pNR2B_N', 'pPKCAB_N',\n",
       "       'pRSK_N', 'AKT_N', 'BRAF_N', 'CAMKII_N', 'CREB_N', 'ELK_N', 'ERK_N',\n",
       "       'GSK3B_N', 'JNK_N', 'MEK_N', 'TRKA_N', 'RSK_N', 'APP_N', 'Bcatenin_N',\n",
       "       'SOD1_N', 'MTOR_N', 'P38_N', 'pMTOR_N', 'DSCR1_N', 'AMPKA_N', 'NR2B_N',\n",
       "       'pNUMB_N', 'RAPTOR_N', 'TIAM1_N', 'pP70S6_N', 'NUMB_N', 'P70S6_N',\n",
       "       'pGSK3B_N', 'pPKCG_N', 'CDK5_N', 'S6_N', 'ADARB1_N', 'AcetylH3K9_N',\n",
       "       'RRP1_N', 'BAX_N', 'ARC_N', 'ERBB4_N', 'nNOS_N', 'Tau_N', 'GFAP_N',\n",
       "       'GluR3_N', 'GluR4_N', 'IL1B_N', 'P3525_N', 'pCASP9_N', 'PSD95_N',\n",
       "       'SNCA_N', 'Ubiquitin_N', 'pGSK3B_Tyr216_N', 'SHH_N', 'BAD_N', 'BCL2_N',\n",
       "       'pS6_N', 'pCFOS_N', 'SYP_N', 'H3AcK18_N', 'EGR1_N', 'H3MeK4_N',\n",
       "       'CaNA_N', 'Genotype', 'Treatment', 'Behavior', 'class'],\n",
       "      dtype='object')"
      ]
     },
     "metadata": {},
     "execution_count": 27
    }
   ],
   "metadata": {}
  },
  {
   "cell_type": "code",
   "execution_count": 28,
   "source": [
    "Data.info()"
   ],
   "outputs": [
    {
     "output_type": "stream",
     "name": "stdout",
     "text": [
      "<class 'pandas.core.frame.DataFrame'>\n",
      "RangeIndex: 1080 entries, 0 to 1079\n",
      "Data columns (total 82 columns):\n",
      " #   Column           Non-Null Count  Dtype  \n",
      "---  ------           --------------  -----  \n",
      " 0   MouseID          1080 non-null   object \n",
      " 1   DYRK1A_N         1077 non-null   float64\n",
      " 2   ITSN1_N          1077 non-null   float64\n",
      " 3   BDNF_N           1077 non-null   float64\n",
      " 4   NR1_N            1077 non-null   float64\n",
      " 5   NR2A_N           1077 non-null   float64\n",
      " 6   pAKT_N           1077 non-null   float64\n",
      " 7   pBRAF_N          1077 non-null   float64\n",
      " 8   pCAMKII_N        1077 non-null   float64\n",
      " 9   pCREB_N          1077 non-null   float64\n",
      " 10  pELK_N           1077 non-null   float64\n",
      " 11  pERK_N           1077 non-null   float64\n",
      " 12  pJNK_N           1077 non-null   float64\n",
      " 13  PKCA_N           1077 non-null   float64\n",
      " 14  pMEK_N           1077 non-null   float64\n",
      " 15  pNR1_N           1077 non-null   float64\n",
      " 16  pNR2A_N          1077 non-null   float64\n",
      " 17  pNR2B_N          1077 non-null   float64\n",
      " 18  pPKCAB_N         1077 non-null   float64\n",
      " 19  pRSK_N           1077 non-null   float64\n",
      " 20  AKT_N            1077 non-null   float64\n",
      " 21  BRAF_N           1077 non-null   float64\n",
      " 22  CAMKII_N         1077 non-null   float64\n",
      " 23  CREB_N           1077 non-null   float64\n",
      " 24  ELK_N            1062 non-null   float64\n",
      " 25  ERK_N            1077 non-null   float64\n",
      " 26  GSK3B_N          1077 non-null   float64\n",
      " 27  JNK_N            1077 non-null   float64\n",
      " 28  MEK_N            1073 non-null   float64\n",
      " 29  TRKA_N           1077 non-null   float64\n",
      " 30  RSK_N            1077 non-null   float64\n",
      " 31  APP_N            1077 non-null   float64\n",
      " 32  Bcatenin_N       1062 non-null   float64\n",
      " 33  SOD1_N           1077 non-null   float64\n",
      " 34  MTOR_N           1077 non-null   float64\n",
      " 35  P38_N            1077 non-null   float64\n",
      " 36  pMTOR_N          1077 non-null   float64\n",
      " 37  DSCR1_N          1077 non-null   float64\n",
      " 38  AMPKA_N          1077 non-null   float64\n",
      " 39  NR2B_N           1077 non-null   float64\n",
      " 40  pNUMB_N          1077 non-null   float64\n",
      " 41  RAPTOR_N         1077 non-null   float64\n",
      " 42  TIAM1_N          1077 non-null   float64\n",
      " 43  pP70S6_N         1077 non-null   float64\n",
      " 44  NUMB_N           1080 non-null   float64\n",
      " 45  P70S6_N          1080 non-null   float64\n",
      " 46  pGSK3B_N         1080 non-null   float64\n",
      " 47  pPKCG_N          1080 non-null   float64\n",
      " 48  CDK5_N           1080 non-null   float64\n",
      " 49  S6_N             1080 non-null   float64\n",
      " 50  ADARB1_N         1080 non-null   float64\n",
      " 51  AcetylH3K9_N     1080 non-null   float64\n",
      " 52  RRP1_N           1080 non-null   float64\n",
      " 53  BAX_N            1080 non-null   float64\n",
      " 54  ARC_N            1080 non-null   float64\n",
      " 55  ERBB4_N          1080 non-null   float64\n",
      " 56  nNOS_N           1080 non-null   float64\n",
      " 57  Tau_N            1080 non-null   float64\n",
      " 58  GFAP_N           1080 non-null   float64\n",
      " 59  GluR3_N          1080 non-null   float64\n",
      " 60  GluR4_N          1080 non-null   float64\n",
      " 61  IL1B_N           1080 non-null   float64\n",
      " 62  P3525_N          1080 non-null   float64\n",
      " 63  pCASP9_N         1080 non-null   float64\n",
      " 64  PSD95_N          1080 non-null   float64\n",
      " 65  SNCA_N           1080 non-null   float64\n",
      " 66  Ubiquitin_N      1080 non-null   float64\n",
      " 67  pGSK3B_Tyr216_N  1080 non-null   float64\n",
      " 68  SHH_N            1080 non-null   float64\n",
      " 69  BAD_N            867 non-null    float64\n",
      " 70  BCL2_N           795 non-null    float64\n",
      " 71  pS6_N            1080 non-null   float64\n",
      " 72  pCFOS_N          1005 non-null   float64\n",
      " 73  SYP_N            1080 non-null   float64\n",
      " 74  H3AcK18_N        900 non-null    float64\n",
      " 75  EGR1_N           870 non-null    float64\n",
      " 76  H3MeK4_N         810 non-null    float64\n",
      " 77  CaNA_N           1080 non-null   float64\n",
      " 78  Genotype         1080 non-null   object \n",
      " 79  Treatment        1080 non-null   object \n",
      " 80  Behavior         1080 non-null   object \n",
      " 81  class            1080 non-null   object \n",
      "dtypes: float64(77), object(5)\n",
      "memory usage: 692.0+ KB\n"
     ]
    }
   ],
   "metadata": {}
  },
  {
   "cell_type": "code",
   "execution_count": 29,
   "source": [
    "Data[\"class\"].value_counts()"
   ],
   "outputs": [
    {
     "output_type": "execute_result",
     "data": {
      "text/plain": [
       "c-CS-m    150\n",
       "c-SC-m    150\n",
       "t-SC-m    135\n",
       "c-CS-s    135\n",
       "t-SC-s    135\n",
       "c-SC-s    135\n",
       "t-CS-m    135\n",
       "t-CS-s    105\n",
       "Name: class, dtype: int64"
      ]
     },
     "metadata": {},
     "execution_count": 29
    }
   ],
   "metadata": {}
  },
  {
   "cell_type": "code",
   "execution_count": 30,
   "source": [
    "train= Data.sample(frac= 0.90, random_state=111)"
   ],
   "outputs": [],
   "metadata": {}
  },
  {
   "cell_type": "code",
   "execution_count": 31,
   "source": [
    "train.shape"
   ],
   "outputs": [
    {
     "output_type": "execute_result",
     "data": {
      "text/plain": [
       "(972, 82)"
      ]
     },
     "metadata": {},
     "execution_count": 31
    }
   ],
   "metadata": {}
  },
  {
   "cell_type": "code",
   "execution_count": 32,
   "source": [
    "train.head()"
   ],
   "outputs": [
    {
     "output_type": "execute_result",
     "data": {
      "text/plain": [
       "       MouseID  DYRK1A_N   ITSN1_N    BDNF_N     NR1_N    NR2A_N    pAKT_N  \\\n",
       "608     3417_9  0.408687  0.569884  0.243436  1.633784  2.580888  0.209653   \n",
       "991     3491_2  0.430102  0.725551  0.401131  2.647296  4.216251  0.271278   \n",
       "434  50810F_15  0.347810  0.469789  0.344411  1.916918  2.724698  0.311178   \n",
       "87     3415_13  0.367629  0.504473  0.261285  1.892843  3.061814  0.216348   \n",
       "94      3499_5  0.353474  0.549559  0.308328  2.426567  3.817040  0.198122   \n",
       "\n",
       "      pBRAF_N  pCAMKII_N   pCREB_N  ...   pCFOS_N     SYP_N  H3AcK18_N  \\\n",
       "608  0.161969   2.362741  0.185714  ...  0.142336  0.428528        NaN   \n",
       "991  0.183252   5.483843  0.297420  ...  0.118276  0.605989   0.177346   \n",
       "434  0.197130   3.182779  0.274924  ...  0.161435  0.492377        NaN   \n",
       "87   0.165514   2.479870  0.135218  ...  0.092973  0.273364   0.079691   \n",
       "94   0.154560   3.606359  0.197103  ...  0.113255  0.412846   0.157152   \n",
       "\n",
       "       EGR1_N  H3MeK4_N    CaNA_N  Genotype  Treatment  Behavior   class  \n",
       "608       NaN       NaN  1.516119    Ts65Dn  Memantine       C/S  t-CS-m  \n",
       "991  0.168472  0.175116  1.403295    Ts65Dn     Saline       S/C  t-SC-s  \n",
       "434       NaN       NaN  1.453513   Control     Saline       C/S  c-CS-s  \n",
       "87   0.121468  0.101787  0.820333   Control  Memantine       C/S  c-CS-m  \n",
       "94   0.139935  0.147384  1.396850   Control  Memantine       C/S  c-CS-m  \n",
       "\n",
       "[5 rows x 82 columns]"
      ],
      "text/html": [
       "<div>\n",
       "<style scoped>\n",
       "    .dataframe tbody tr th:only-of-type {\n",
       "        vertical-align: middle;\n",
       "    }\n",
       "\n",
       "    .dataframe tbody tr th {\n",
       "        vertical-align: top;\n",
       "    }\n",
       "\n",
       "    .dataframe thead th {\n",
       "        text-align: right;\n",
       "    }\n",
       "</style>\n",
       "<table border=\"1\" class=\"dataframe\">\n",
       "  <thead>\n",
       "    <tr style=\"text-align: right;\">\n",
       "      <th></th>\n",
       "      <th>MouseID</th>\n",
       "      <th>DYRK1A_N</th>\n",
       "      <th>ITSN1_N</th>\n",
       "      <th>BDNF_N</th>\n",
       "      <th>NR1_N</th>\n",
       "      <th>NR2A_N</th>\n",
       "      <th>pAKT_N</th>\n",
       "      <th>pBRAF_N</th>\n",
       "      <th>pCAMKII_N</th>\n",
       "      <th>pCREB_N</th>\n",
       "      <th>...</th>\n",
       "      <th>pCFOS_N</th>\n",
       "      <th>SYP_N</th>\n",
       "      <th>H3AcK18_N</th>\n",
       "      <th>EGR1_N</th>\n",
       "      <th>H3MeK4_N</th>\n",
       "      <th>CaNA_N</th>\n",
       "      <th>Genotype</th>\n",
       "      <th>Treatment</th>\n",
       "      <th>Behavior</th>\n",
       "      <th>class</th>\n",
       "    </tr>\n",
       "  </thead>\n",
       "  <tbody>\n",
       "    <tr>\n",
       "      <th>608</th>\n",
       "      <td>3417_9</td>\n",
       "      <td>0.408687</td>\n",
       "      <td>0.569884</td>\n",
       "      <td>0.243436</td>\n",
       "      <td>1.633784</td>\n",
       "      <td>2.580888</td>\n",
       "      <td>0.209653</td>\n",
       "      <td>0.161969</td>\n",
       "      <td>2.362741</td>\n",
       "      <td>0.185714</td>\n",
       "      <td>...</td>\n",
       "      <td>0.142336</td>\n",
       "      <td>0.428528</td>\n",
       "      <td>NaN</td>\n",
       "      <td>NaN</td>\n",
       "      <td>NaN</td>\n",
       "      <td>1.516119</td>\n",
       "      <td>Ts65Dn</td>\n",
       "      <td>Memantine</td>\n",
       "      <td>C/S</td>\n",
       "      <td>t-CS-m</td>\n",
       "    </tr>\n",
       "    <tr>\n",
       "      <th>991</th>\n",
       "      <td>3491_2</td>\n",
       "      <td>0.430102</td>\n",
       "      <td>0.725551</td>\n",
       "      <td>0.401131</td>\n",
       "      <td>2.647296</td>\n",
       "      <td>4.216251</td>\n",
       "      <td>0.271278</td>\n",
       "      <td>0.183252</td>\n",
       "      <td>5.483843</td>\n",
       "      <td>0.297420</td>\n",
       "      <td>...</td>\n",
       "      <td>0.118276</td>\n",
       "      <td>0.605989</td>\n",
       "      <td>0.177346</td>\n",
       "      <td>0.168472</td>\n",
       "      <td>0.175116</td>\n",
       "      <td>1.403295</td>\n",
       "      <td>Ts65Dn</td>\n",
       "      <td>Saline</td>\n",
       "      <td>S/C</td>\n",
       "      <td>t-SC-s</td>\n",
       "    </tr>\n",
       "    <tr>\n",
       "      <th>434</th>\n",
       "      <td>50810F_15</td>\n",
       "      <td>0.347810</td>\n",
       "      <td>0.469789</td>\n",
       "      <td>0.344411</td>\n",
       "      <td>1.916918</td>\n",
       "      <td>2.724698</td>\n",
       "      <td>0.311178</td>\n",
       "      <td>0.197130</td>\n",
       "      <td>3.182779</td>\n",
       "      <td>0.274924</td>\n",
       "      <td>...</td>\n",
       "      <td>0.161435</td>\n",
       "      <td>0.492377</td>\n",
       "      <td>NaN</td>\n",
       "      <td>NaN</td>\n",
       "      <td>NaN</td>\n",
       "      <td>1.453513</td>\n",
       "      <td>Control</td>\n",
       "      <td>Saline</td>\n",
       "      <td>C/S</td>\n",
       "      <td>c-CS-s</td>\n",
       "    </tr>\n",
       "    <tr>\n",
       "      <th>87</th>\n",
       "      <td>3415_13</td>\n",
       "      <td>0.367629</td>\n",
       "      <td>0.504473</td>\n",
       "      <td>0.261285</td>\n",
       "      <td>1.892843</td>\n",
       "      <td>3.061814</td>\n",
       "      <td>0.216348</td>\n",
       "      <td>0.165514</td>\n",
       "      <td>2.479870</td>\n",
       "      <td>0.135218</td>\n",
       "      <td>...</td>\n",
       "      <td>0.092973</td>\n",
       "      <td>0.273364</td>\n",
       "      <td>0.079691</td>\n",
       "      <td>0.121468</td>\n",
       "      <td>0.101787</td>\n",
       "      <td>0.820333</td>\n",
       "      <td>Control</td>\n",
       "      <td>Memantine</td>\n",
       "      <td>C/S</td>\n",
       "      <td>c-CS-m</td>\n",
       "    </tr>\n",
       "    <tr>\n",
       "      <th>94</th>\n",
       "      <td>3499_5</td>\n",
       "      <td>0.353474</td>\n",
       "      <td>0.549559</td>\n",
       "      <td>0.308328</td>\n",
       "      <td>2.426567</td>\n",
       "      <td>3.817040</td>\n",
       "      <td>0.198122</td>\n",
       "      <td>0.154560</td>\n",
       "      <td>3.606359</td>\n",
       "      <td>0.197103</td>\n",
       "      <td>...</td>\n",
       "      <td>0.113255</td>\n",
       "      <td>0.412846</td>\n",
       "      <td>0.157152</td>\n",
       "      <td>0.139935</td>\n",
       "      <td>0.147384</td>\n",
       "      <td>1.396850</td>\n",
       "      <td>Control</td>\n",
       "      <td>Memantine</td>\n",
       "      <td>C/S</td>\n",
       "      <td>c-CS-m</td>\n",
       "    </tr>\n",
       "  </tbody>\n",
       "</table>\n",
       "<p>5 rows × 82 columns</p>\n",
       "</div>"
      ]
     },
     "metadata": {},
     "execution_count": 32
    }
   ],
   "metadata": {}
  },
  {
   "cell_type": "code",
   "execution_count": 33,
   "source": [
    "test=Data.drop(train.index)"
   ],
   "outputs": [],
   "metadata": {}
  },
  {
   "cell_type": "code",
   "execution_count": 34,
   "source": [
    "from pycaret.anomaly import *"
   ],
   "outputs": [],
   "metadata": {}
  },
  {
   "cell_type": "code",
   "execution_count": 39,
   "source": [
    "an = setup(train, normalize=True, ignore_features=[\"MouseID\"], categorical_imputation=\"mode\", numeric_imputation=\"median\", session_id=121)"
   ],
   "outputs": [
    {
     "output_type": "display_data",
     "data": {
      "text/plain": [
       "<pandas.io.formats.style.Styler at 0x23b141b3d30>"
      ],
      "text/html": [
       "<style  type=\"text/css\" >\n",
       "    #T_74602d86_ee0c_11eb_b4f3_a08cfd48767crow2_col1 {\n",
       "            background-color:  lightgreen;\n",
       "        }    #T_74602d86_ee0c_11eb_b4f3_a08cfd48767crow21_col1 {\n",
       "            background-color:  lightgreen;\n",
       "        }</style><table id=\"T_74602d86_ee0c_11eb_b4f3_a08cfd48767c\" ><thead>    <tr>        <th class=\"blank level0\" ></th>        <th class=\"col_heading level0 col0\" >Description</th>        <th class=\"col_heading level0 col1\" >Value</th>    </tr></thead><tbody>\n",
       "                <tr>\n",
       "                        <th id=\"T_74602d86_ee0c_11eb_b4f3_a08cfd48767clevel0_row0\" class=\"row_heading level0 row0\" >0</th>\n",
       "                        <td id=\"T_74602d86_ee0c_11eb_b4f3_a08cfd48767crow0_col0\" class=\"data row0 col0\" >session_id</td>\n",
       "                        <td id=\"T_74602d86_ee0c_11eb_b4f3_a08cfd48767crow0_col1\" class=\"data row0 col1\" >121</td>\n",
       "            </tr>\n",
       "            <tr>\n",
       "                        <th id=\"T_74602d86_ee0c_11eb_b4f3_a08cfd48767clevel0_row1\" class=\"row_heading level0 row1\" >1</th>\n",
       "                        <td id=\"T_74602d86_ee0c_11eb_b4f3_a08cfd48767crow1_col0\" class=\"data row1 col0\" >Original Data</td>\n",
       "                        <td id=\"T_74602d86_ee0c_11eb_b4f3_a08cfd48767crow1_col1\" class=\"data row1 col1\" >(972, 82)</td>\n",
       "            </tr>\n",
       "            <tr>\n",
       "                        <th id=\"T_74602d86_ee0c_11eb_b4f3_a08cfd48767clevel0_row2\" class=\"row_heading level0 row2\" >2</th>\n",
       "                        <td id=\"T_74602d86_ee0c_11eb_b4f3_a08cfd48767crow2_col0\" class=\"data row2 col0\" >Missing Values</td>\n",
       "                        <td id=\"T_74602d86_ee0c_11eb_b4f3_a08cfd48767crow2_col1\" class=\"data row2 col1\" >True</td>\n",
       "            </tr>\n",
       "            <tr>\n",
       "                        <th id=\"T_74602d86_ee0c_11eb_b4f3_a08cfd48767clevel0_row3\" class=\"row_heading level0 row3\" >3</th>\n",
       "                        <td id=\"T_74602d86_ee0c_11eb_b4f3_a08cfd48767crow3_col0\" class=\"data row3 col0\" >Numeric Features</td>\n",
       "                        <td id=\"T_74602d86_ee0c_11eb_b4f3_a08cfd48767crow3_col1\" class=\"data row3 col1\" >77</td>\n",
       "            </tr>\n",
       "            <tr>\n",
       "                        <th id=\"T_74602d86_ee0c_11eb_b4f3_a08cfd48767clevel0_row4\" class=\"row_heading level0 row4\" >4</th>\n",
       "                        <td id=\"T_74602d86_ee0c_11eb_b4f3_a08cfd48767crow4_col0\" class=\"data row4 col0\" >Categorical Features</td>\n",
       "                        <td id=\"T_74602d86_ee0c_11eb_b4f3_a08cfd48767crow4_col1\" class=\"data row4 col1\" >4</td>\n",
       "            </tr>\n",
       "            <tr>\n",
       "                        <th id=\"T_74602d86_ee0c_11eb_b4f3_a08cfd48767clevel0_row5\" class=\"row_heading level0 row5\" >5</th>\n",
       "                        <td id=\"T_74602d86_ee0c_11eb_b4f3_a08cfd48767crow5_col0\" class=\"data row5 col0\" >Ordinal Features</td>\n",
       "                        <td id=\"T_74602d86_ee0c_11eb_b4f3_a08cfd48767crow5_col1\" class=\"data row5 col1\" >False</td>\n",
       "            </tr>\n",
       "            <tr>\n",
       "                        <th id=\"T_74602d86_ee0c_11eb_b4f3_a08cfd48767clevel0_row6\" class=\"row_heading level0 row6\" >6</th>\n",
       "                        <td id=\"T_74602d86_ee0c_11eb_b4f3_a08cfd48767crow6_col0\" class=\"data row6 col0\" >High Cardinality Features</td>\n",
       "                        <td id=\"T_74602d86_ee0c_11eb_b4f3_a08cfd48767crow6_col1\" class=\"data row6 col1\" >False</td>\n",
       "            </tr>\n",
       "            <tr>\n",
       "                        <th id=\"T_74602d86_ee0c_11eb_b4f3_a08cfd48767clevel0_row7\" class=\"row_heading level0 row7\" >7</th>\n",
       "                        <td id=\"T_74602d86_ee0c_11eb_b4f3_a08cfd48767crow7_col0\" class=\"data row7 col0\" >High Cardinality Method</td>\n",
       "                        <td id=\"T_74602d86_ee0c_11eb_b4f3_a08cfd48767crow7_col1\" class=\"data row7 col1\" >None</td>\n",
       "            </tr>\n",
       "            <tr>\n",
       "                        <th id=\"T_74602d86_ee0c_11eb_b4f3_a08cfd48767clevel0_row8\" class=\"row_heading level0 row8\" >8</th>\n",
       "                        <td id=\"T_74602d86_ee0c_11eb_b4f3_a08cfd48767crow8_col0\" class=\"data row8 col0\" >Transformed Data</td>\n",
       "                        <td id=\"T_74602d86_ee0c_11eb_b4f3_a08cfd48767crow8_col1\" class=\"data row8 col1\" >(972, 91)</td>\n",
       "            </tr>\n",
       "            <tr>\n",
       "                        <th id=\"T_74602d86_ee0c_11eb_b4f3_a08cfd48767clevel0_row9\" class=\"row_heading level0 row9\" >9</th>\n",
       "                        <td id=\"T_74602d86_ee0c_11eb_b4f3_a08cfd48767crow9_col0\" class=\"data row9 col0\" >CPU Jobs</td>\n",
       "                        <td id=\"T_74602d86_ee0c_11eb_b4f3_a08cfd48767crow9_col1\" class=\"data row9 col1\" >-1</td>\n",
       "            </tr>\n",
       "            <tr>\n",
       "                        <th id=\"T_74602d86_ee0c_11eb_b4f3_a08cfd48767clevel0_row10\" class=\"row_heading level0 row10\" >10</th>\n",
       "                        <td id=\"T_74602d86_ee0c_11eb_b4f3_a08cfd48767crow10_col0\" class=\"data row10 col0\" >Use GPU</td>\n",
       "                        <td id=\"T_74602d86_ee0c_11eb_b4f3_a08cfd48767crow10_col1\" class=\"data row10 col1\" >False</td>\n",
       "            </tr>\n",
       "            <tr>\n",
       "                        <th id=\"T_74602d86_ee0c_11eb_b4f3_a08cfd48767clevel0_row11\" class=\"row_heading level0 row11\" >11</th>\n",
       "                        <td id=\"T_74602d86_ee0c_11eb_b4f3_a08cfd48767crow11_col0\" class=\"data row11 col0\" >Log Experiment</td>\n",
       "                        <td id=\"T_74602d86_ee0c_11eb_b4f3_a08cfd48767crow11_col1\" class=\"data row11 col1\" >False</td>\n",
       "            </tr>\n",
       "            <tr>\n",
       "                        <th id=\"T_74602d86_ee0c_11eb_b4f3_a08cfd48767clevel0_row12\" class=\"row_heading level0 row12\" >12</th>\n",
       "                        <td id=\"T_74602d86_ee0c_11eb_b4f3_a08cfd48767crow12_col0\" class=\"data row12 col0\" >Experiment Name</td>\n",
       "                        <td id=\"T_74602d86_ee0c_11eb_b4f3_a08cfd48767crow12_col1\" class=\"data row12 col1\" >anomaly-default-name</td>\n",
       "            </tr>\n",
       "            <tr>\n",
       "                        <th id=\"T_74602d86_ee0c_11eb_b4f3_a08cfd48767clevel0_row13\" class=\"row_heading level0 row13\" >13</th>\n",
       "                        <td id=\"T_74602d86_ee0c_11eb_b4f3_a08cfd48767crow13_col0\" class=\"data row13 col0\" >USI</td>\n",
       "                        <td id=\"T_74602d86_ee0c_11eb_b4f3_a08cfd48767crow13_col1\" class=\"data row13 col1\" >14d2</td>\n",
       "            </tr>\n",
       "            <tr>\n",
       "                        <th id=\"T_74602d86_ee0c_11eb_b4f3_a08cfd48767clevel0_row14\" class=\"row_heading level0 row14\" >14</th>\n",
       "                        <td id=\"T_74602d86_ee0c_11eb_b4f3_a08cfd48767crow14_col0\" class=\"data row14 col0\" >Imputation Type</td>\n",
       "                        <td id=\"T_74602d86_ee0c_11eb_b4f3_a08cfd48767crow14_col1\" class=\"data row14 col1\" >simple</td>\n",
       "            </tr>\n",
       "            <tr>\n",
       "                        <th id=\"T_74602d86_ee0c_11eb_b4f3_a08cfd48767clevel0_row15\" class=\"row_heading level0 row15\" >15</th>\n",
       "                        <td id=\"T_74602d86_ee0c_11eb_b4f3_a08cfd48767crow15_col0\" class=\"data row15 col0\" >Iterative Imputation Iteration</td>\n",
       "                        <td id=\"T_74602d86_ee0c_11eb_b4f3_a08cfd48767crow15_col1\" class=\"data row15 col1\" >None</td>\n",
       "            </tr>\n",
       "            <tr>\n",
       "                        <th id=\"T_74602d86_ee0c_11eb_b4f3_a08cfd48767clevel0_row16\" class=\"row_heading level0 row16\" >16</th>\n",
       "                        <td id=\"T_74602d86_ee0c_11eb_b4f3_a08cfd48767crow16_col0\" class=\"data row16 col0\" >Numeric Imputer</td>\n",
       "                        <td id=\"T_74602d86_ee0c_11eb_b4f3_a08cfd48767crow16_col1\" class=\"data row16 col1\" >median</td>\n",
       "            </tr>\n",
       "            <tr>\n",
       "                        <th id=\"T_74602d86_ee0c_11eb_b4f3_a08cfd48767clevel0_row17\" class=\"row_heading level0 row17\" >17</th>\n",
       "                        <td id=\"T_74602d86_ee0c_11eb_b4f3_a08cfd48767crow17_col0\" class=\"data row17 col0\" >Iterative Imputation Numeric Model</td>\n",
       "                        <td id=\"T_74602d86_ee0c_11eb_b4f3_a08cfd48767crow17_col1\" class=\"data row17 col1\" >None</td>\n",
       "            </tr>\n",
       "            <tr>\n",
       "                        <th id=\"T_74602d86_ee0c_11eb_b4f3_a08cfd48767clevel0_row18\" class=\"row_heading level0 row18\" >18</th>\n",
       "                        <td id=\"T_74602d86_ee0c_11eb_b4f3_a08cfd48767crow18_col0\" class=\"data row18 col0\" >Categorical Imputer</td>\n",
       "                        <td id=\"T_74602d86_ee0c_11eb_b4f3_a08cfd48767crow18_col1\" class=\"data row18 col1\" >mode</td>\n",
       "            </tr>\n",
       "            <tr>\n",
       "                        <th id=\"T_74602d86_ee0c_11eb_b4f3_a08cfd48767clevel0_row19\" class=\"row_heading level0 row19\" >19</th>\n",
       "                        <td id=\"T_74602d86_ee0c_11eb_b4f3_a08cfd48767crow19_col0\" class=\"data row19 col0\" >Iterative Imputation Categorical Model</td>\n",
       "                        <td id=\"T_74602d86_ee0c_11eb_b4f3_a08cfd48767crow19_col1\" class=\"data row19 col1\" >None</td>\n",
       "            </tr>\n",
       "            <tr>\n",
       "                        <th id=\"T_74602d86_ee0c_11eb_b4f3_a08cfd48767clevel0_row20\" class=\"row_heading level0 row20\" >20</th>\n",
       "                        <td id=\"T_74602d86_ee0c_11eb_b4f3_a08cfd48767crow20_col0\" class=\"data row20 col0\" >Unknown Categoricals Handling</td>\n",
       "                        <td id=\"T_74602d86_ee0c_11eb_b4f3_a08cfd48767crow20_col1\" class=\"data row20 col1\" >least_frequent</td>\n",
       "            </tr>\n",
       "            <tr>\n",
       "                        <th id=\"T_74602d86_ee0c_11eb_b4f3_a08cfd48767clevel0_row21\" class=\"row_heading level0 row21\" >21</th>\n",
       "                        <td id=\"T_74602d86_ee0c_11eb_b4f3_a08cfd48767crow21_col0\" class=\"data row21 col0\" >Normalize</td>\n",
       "                        <td id=\"T_74602d86_ee0c_11eb_b4f3_a08cfd48767crow21_col1\" class=\"data row21 col1\" >True</td>\n",
       "            </tr>\n",
       "            <tr>\n",
       "                        <th id=\"T_74602d86_ee0c_11eb_b4f3_a08cfd48767clevel0_row22\" class=\"row_heading level0 row22\" >22</th>\n",
       "                        <td id=\"T_74602d86_ee0c_11eb_b4f3_a08cfd48767crow22_col0\" class=\"data row22 col0\" >Normalize Method</td>\n",
       "                        <td id=\"T_74602d86_ee0c_11eb_b4f3_a08cfd48767crow22_col1\" class=\"data row22 col1\" >zscore</td>\n",
       "            </tr>\n",
       "            <tr>\n",
       "                        <th id=\"T_74602d86_ee0c_11eb_b4f3_a08cfd48767clevel0_row23\" class=\"row_heading level0 row23\" >23</th>\n",
       "                        <td id=\"T_74602d86_ee0c_11eb_b4f3_a08cfd48767crow23_col0\" class=\"data row23 col0\" >Transformation</td>\n",
       "                        <td id=\"T_74602d86_ee0c_11eb_b4f3_a08cfd48767crow23_col1\" class=\"data row23 col1\" >False</td>\n",
       "            </tr>\n",
       "            <tr>\n",
       "                        <th id=\"T_74602d86_ee0c_11eb_b4f3_a08cfd48767clevel0_row24\" class=\"row_heading level0 row24\" >24</th>\n",
       "                        <td id=\"T_74602d86_ee0c_11eb_b4f3_a08cfd48767crow24_col0\" class=\"data row24 col0\" >Transformation Method</td>\n",
       "                        <td id=\"T_74602d86_ee0c_11eb_b4f3_a08cfd48767crow24_col1\" class=\"data row24 col1\" >None</td>\n",
       "            </tr>\n",
       "            <tr>\n",
       "                        <th id=\"T_74602d86_ee0c_11eb_b4f3_a08cfd48767clevel0_row25\" class=\"row_heading level0 row25\" >25</th>\n",
       "                        <td id=\"T_74602d86_ee0c_11eb_b4f3_a08cfd48767crow25_col0\" class=\"data row25 col0\" >PCA</td>\n",
       "                        <td id=\"T_74602d86_ee0c_11eb_b4f3_a08cfd48767crow25_col1\" class=\"data row25 col1\" >False</td>\n",
       "            </tr>\n",
       "            <tr>\n",
       "                        <th id=\"T_74602d86_ee0c_11eb_b4f3_a08cfd48767clevel0_row26\" class=\"row_heading level0 row26\" >26</th>\n",
       "                        <td id=\"T_74602d86_ee0c_11eb_b4f3_a08cfd48767crow26_col0\" class=\"data row26 col0\" >PCA Method</td>\n",
       "                        <td id=\"T_74602d86_ee0c_11eb_b4f3_a08cfd48767crow26_col1\" class=\"data row26 col1\" >None</td>\n",
       "            </tr>\n",
       "            <tr>\n",
       "                        <th id=\"T_74602d86_ee0c_11eb_b4f3_a08cfd48767clevel0_row27\" class=\"row_heading level0 row27\" >27</th>\n",
       "                        <td id=\"T_74602d86_ee0c_11eb_b4f3_a08cfd48767crow27_col0\" class=\"data row27 col0\" >PCA Components</td>\n",
       "                        <td id=\"T_74602d86_ee0c_11eb_b4f3_a08cfd48767crow27_col1\" class=\"data row27 col1\" >None</td>\n",
       "            </tr>\n",
       "            <tr>\n",
       "                        <th id=\"T_74602d86_ee0c_11eb_b4f3_a08cfd48767clevel0_row28\" class=\"row_heading level0 row28\" >28</th>\n",
       "                        <td id=\"T_74602d86_ee0c_11eb_b4f3_a08cfd48767crow28_col0\" class=\"data row28 col0\" >Ignore Low Variance</td>\n",
       "                        <td id=\"T_74602d86_ee0c_11eb_b4f3_a08cfd48767crow28_col1\" class=\"data row28 col1\" >False</td>\n",
       "            </tr>\n",
       "            <tr>\n",
       "                        <th id=\"T_74602d86_ee0c_11eb_b4f3_a08cfd48767clevel0_row29\" class=\"row_heading level0 row29\" >29</th>\n",
       "                        <td id=\"T_74602d86_ee0c_11eb_b4f3_a08cfd48767crow29_col0\" class=\"data row29 col0\" >Combine Rare Levels</td>\n",
       "                        <td id=\"T_74602d86_ee0c_11eb_b4f3_a08cfd48767crow29_col1\" class=\"data row29 col1\" >False</td>\n",
       "            </tr>\n",
       "            <tr>\n",
       "                        <th id=\"T_74602d86_ee0c_11eb_b4f3_a08cfd48767clevel0_row30\" class=\"row_heading level0 row30\" >30</th>\n",
       "                        <td id=\"T_74602d86_ee0c_11eb_b4f3_a08cfd48767crow30_col0\" class=\"data row30 col0\" >Rare Level Threshold</td>\n",
       "                        <td id=\"T_74602d86_ee0c_11eb_b4f3_a08cfd48767crow30_col1\" class=\"data row30 col1\" >None</td>\n",
       "            </tr>\n",
       "            <tr>\n",
       "                        <th id=\"T_74602d86_ee0c_11eb_b4f3_a08cfd48767clevel0_row31\" class=\"row_heading level0 row31\" >31</th>\n",
       "                        <td id=\"T_74602d86_ee0c_11eb_b4f3_a08cfd48767crow31_col0\" class=\"data row31 col0\" >Numeric Binning</td>\n",
       "                        <td id=\"T_74602d86_ee0c_11eb_b4f3_a08cfd48767crow31_col1\" class=\"data row31 col1\" >False</td>\n",
       "            </tr>\n",
       "            <tr>\n",
       "                        <th id=\"T_74602d86_ee0c_11eb_b4f3_a08cfd48767clevel0_row32\" class=\"row_heading level0 row32\" >32</th>\n",
       "                        <td id=\"T_74602d86_ee0c_11eb_b4f3_a08cfd48767crow32_col0\" class=\"data row32 col0\" >Remove Outliers</td>\n",
       "                        <td id=\"T_74602d86_ee0c_11eb_b4f3_a08cfd48767crow32_col1\" class=\"data row32 col1\" >False</td>\n",
       "            </tr>\n",
       "            <tr>\n",
       "                        <th id=\"T_74602d86_ee0c_11eb_b4f3_a08cfd48767clevel0_row33\" class=\"row_heading level0 row33\" >33</th>\n",
       "                        <td id=\"T_74602d86_ee0c_11eb_b4f3_a08cfd48767crow33_col0\" class=\"data row33 col0\" >Outliers Threshold</td>\n",
       "                        <td id=\"T_74602d86_ee0c_11eb_b4f3_a08cfd48767crow33_col1\" class=\"data row33 col1\" >None</td>\n",
       "            </tr>\n",
       "            <tr>\n",
       "                        <th id=\"T_74602d86_ee0c_11eb_b4f3_a08cfd48767clevel0_row34\" class=\"row_heading level0 row34\" >34</th>\n",
       "                        <td id=\"T_74602d86_ee0c_11eb_b4f3_a08cfd48767crow34_col0\" class=\"data row34 col0\" >Remove Multicollinearity</td>\n",
       "                        <td id=\"T_74602d86_ee0c_11eb_b4f3_a08cfd48767crow34_col1\" class=\"data row34 col1\" >False</td>\n",
       "            </tr>\n",
       "            <tr>\n",
       "                        <th id=\"T_74602d86_ee0c_11eb_b4f3_a08cfd48767clevel0_row35\" class=\"row_heading level0 row35\" >35</th>\n",
       "                        <td id=\"T_74602d86_ee0c_11eb_b4f3_a08cfd48767crow35_col0\" class=\"data row35 col0\" >Multicollinearity Threshold</td>\n",
       "                        <td id=\"T_74602d86_ee0c_11eb_b4f3_a08cfd48767crow35_col1\" class=\"data row35 col1\" >None</td>\n",
       "            </tr>\n",
       "            <tr>\n",
       "                        <th id=\"T_74602d86_ee0c_11eb_b4f3_a08cfd48767clevel0_row36\" class=\"row_heading level0 row36\" >36</th>\n",
       "                        <td id=\"T_74602d86_ee0c_11eb_b4f3_a08cfd48767crow36_col0\" class=\"data row36 col0\" >Remove Perfect Collinearity</td>\n",
       "                        <td id=\"T_74602d86_ee0c_11eb_b4f3_a08cfd48767crow36_col1\" class=\"data row36 col1\" >False</td>\n",
       "            </tr>\n",
       "            <tr>\n",
       "                        <th id=\"T_74602d86_ee0c_11eb_b4f3_a08cfd48767clevel0_row37\" class=\"row_heading level0 row37\" >37</th>\n",
       "                        <td id=\"T_74602d86_ee0c_11eb_b4f3_a08cfd48767crow37_col0\" class=\"data row37 col0\" >Clustering</td>\n",
       "                        <td id=\"T_74602d86_ee0c_11eb_b4f3_a08cfd48767crow37_col1\" class=\"data row37 col1\" >False</td>\n",
       "            </tr>\n",
       "            <tr>\n",
       "                        <th id=\"T_74602d86_ee0c_11eb_b4f3_a08cfd48767clevel0_row38\" class=\"row_heading level0 row38\" >38</th>\n",
       "                        <td id=\"T_74602d86_ee0c_11eb_b4f3_a08cfd48767crow38_col0\" class=\"data row38 col0\" >Clustering Iteration</td>\n",
       "                        <td id=\"T_74602d86_ee0c_11eb_b4f3_a08cfd48767crow38_col1\" class=\"data row38 col1\" >None</td>\n",
       "            </tr>\n",
       "            <tr>\n",
       "                        <th id=\"T_74602d86_ee0c_11eb_b4f3_a08cfd48767clevel0_row39\" class=\"row_heading level0 row39\" >39</th>\n",
       "                        <td id=\"T_74602d86_ee0c_11eb_b4f3_a08cfd48767crow39_col0\" class=\"data row39 col0\" >Polynomial Features</td>\n",
       "                        <td id=\"T_74602d86_ee0c_11eb_b4f3_a08cfd48767crow39_col1\" class=\"data row39 col1\" >False</td>\n",
       "            </tr>\n",
       "            <tr>\n",
       "                        <th id=\"T_74602d86_ee0c_11eb_b4f3_a08cfd48767clevel0_row40\" class=\"row_heading level0 row40\" >40</th>\n",
       "                        <td id=\"T_74602d86_ee0c_11eb_b4f3_a08cfd48767crow40_col0\" class=\"data row40 col0\" >Polynomial Degree</td>\n",
       "                        <td id=\"T_74602d86_ee0c_11eb_b4f3_a08cfd48767crow40_col1\" class=\"data row40 col1\" >None</td>\n",
       "            </tr>\n",
       "            <tr>\n",
       "                        <th id=\"T_74602d86_ee0c_11eb_b4f3_a08cfd48767clevel0_row41\" class=\"row_heading level0 row41\" >41</th>\n",
       "                        <td id=\"T_74602d86_ee0c_11eb_b4f3_a08cfd48767crow41_col0\" class=\"data row41 col0\" >Trignometry Features</td>\n",
       "                        <td id=\"T_74602d86_ee0c_11eb_b4f3_a08cfd48767crow41_col1\" class=\"data row41 col1\" >False</td>\n",
       "            </tr>\n",
       "            <tr>\n",
       "                        <th id=\"T_74602d86_ee0c_11eb_b4f3_a08cfd48767clevel0_row42\" class=\"row_heading level0 row42\" >42</th>\n",
       "                        <td id=\"T_74602d86_ee0c_11eb_b4f3_a08cfd48767crow42_col0\" class=\"data row42 col0\" >Polynomial Threshold</td>\n",
       "                        <td id=\"T_74602d86_ee0c_11eb_b4f3_a08cfd48767crow42_col1\" class=\"data row42 col1\" >None</td>\n",
       "            </tr>\n",
       "            <tr>\n",
       "                        <th id=\"T_74602d86_ee0c_11eb_b4f3_a08cfd48767clevel0_row43\" class=\"row_heading level0 row43\" >43</th>\n",
       "                        <td id=\"T_74602d86_ee0c_11eb_b4f3_a08cfd48767crow43_col0\" class=\"data row43 col0\" >Group Features</td>\n",
       "                        <td id=\"T_74602d86_ee0c_11eb_b4f3_a08cfd48767crow43_col1\" class=\"data row43 col1\" >False</td>\n",
       "            </tr>\n",
       "            <tr>\n",
       "                        <th id=\"T_74602d86_ee0c_11eb_b4f3_a08cfd48767clevel0_row44\" class=\"row_heading level0 row44\" >44</th>\n",
       "                        <td id=\"T_74602d86_ee0c_11eb_b4f3_a08cfd48767crow44_col0\" class=\"data row44 col0\" >Feature Selection</td>\n",
       "                        <td id=\"T_74602d86_ee0c_11eb_b4f3_a08cfd48767crow44_col1\" class=\"data row44 col1\" >False</td>\n",
       "            </tr>\n",
       "            <tr>\n",
       "                        <th id=\"T_74602d86_ee0c_11eb_b4f3_a08cfd48767clevel0_row45\" class=\"row_heading level0 row45\" >45</th>\n",
       "                        <td id=\"T_74602d86_ee0c_11eb_b4f3_a08cfd48767crow45_col0\" class=\"data row45 col0\" >Feature Selection Method</td>\n",
       "                        <td id=\"T_74602d86_ee0c_11eb_b4f3_a08cfd48767crow45_col1\" class=\"data row45 col1\" >classic</td>\n",
       "            </tr>\n",
       "            <tr>\n",
       "                        <th id=\"T_74602d86_ee0c_11eb_b4f3_a08cfd48767clevel0_row46\" class=\"row_heading level0 row46\" >46</th>\n",
       "                        <td id=\"T_74602d86_ee0c_11eb_b4f3_a08cfd48767crow46_col0\" class=\"data row46 col0\" >Features Selection Threshold</td>\n",
       "                        <td id=\"T_74602d86_ee0c_11eb_b4f3_a08cfd48767crow46_col1\" class=\"data row46 col1\" >None</td>\n",
       "            </tr>\n",
       "            <tr>\n",
       "                        <th id=\"T_74602d86_ee0c_11eb_b4f3_a08cfd48767clevel0_row47\" class=\"row_heading level0 row47\" >47</th>\n",
       "                        <td id=\"T_74602d86_ee0c_11eb_b4f3_a08cfd48767crow47_col0\" class=\"data row47 col0\" >Feature Interaction</td>\n",
       "                        <td id=\"T_74602d86_ee0c_11eb_b4f3_a08cfd48767crow47_col1\" class=\"data row47 col1\" >False</td>\n",
       "            </tr>\n",
       "            <tr>\n",
       "                        <th id=\"T_74602d86_ee0c_11eb_b4f3_a08cfd48767clevel0_row48\" class=\"row_heading level0 row48\" >48</th>\n",
       "                        <td id=\"T_74602d86_ee0c_11eb_b4f3_a08cfd48767crow48_col0\" class=\"data row48 col0\" >Feature Ratio</td>\n",
       "                        <td id=\"T_74602d86_ee0c_11eb_b4f3_a08cfd48767crow48_col1\" class=\"data row48 col1\" >False</td>\n",
       "            </tr>\n",
       "            <tr>\n",
       "                        <th id=\"T_74602d86_ee0c_11eb_b4f3_a08cfd48767clevel0_row49\" class=\"row_heading level0 row49\" >49</th>\n",
       "                        <td id=\"T_74602d86_ee0c_11eb_b4f3_a08cfd48767crow49_col0\" class=\"data row49 col0\" >Interaction Threshold</td>\n",
       "                        <td id=\"T_74602d86_ee0c_11eb_b4f3_a08cfd48767crow49_col1\" class=\"data row49 col1\" >None</td>\n",
       "            </tr>\n",
       "    </tbody></table>"
      ]
     },
     "metadata": {}
    }
   ],
   "metadata": {}
  },
  {
   "cell_type": "code",
   "execution_count": 15,
   "source": [
    "test.shape"
   ],
   "outputs": [
    {
     "output_type": "execute_result",
     "data": {
      "text/plain": [
       "(108, 82)"
      ]
     },
     "metadata": {},
     "execution_count": 15
    }
   ],
   "metadata": {}
  },
  {
   "cell_type": "code",
   "execution_count": 45,
   "source": [
    "models()"
   ],
   "outputs": [
    {
     "output_type": "execute_result",
     "data": {
      "text/plain": [
       "                                        Name                    Reference\n",
       "ID                                                                       \n",
       "abod            Angle-base Outlier Detection        pyod.models.abod.ABOD\n",
       "cluster       Clustering-Based Local Outlier      pyod.models.cblof.CBLOF\n",
       "cof         Connectivity-Based Local Outlier          pyod.models.cof.COF\n",
       "iforest                     Isolation Forest  pyod.models.iforest.IForest\n",
       "histogram  Histogram-based Outlier Detection        pyod.models.hbos.HBOS\n",
       "knn             K-Nearest Neighbors Detector          pyod.models.knn.KNN\n",
       "lof                     Local Outlier Factor          pyod.models.lof.LOF\n",
       "svm                   One-class SVM detector      pyod.models.ocsvm.OCSVM\n",
       "pca             Principal Component Analysis          pyod.models.pca.PCA\n",
       "mcd           Minimum Covariance Determinant          pyod.models.mcd.MCD\n",
       "sod               Subspace Outlier Detection          pyod.models.sod.SOD\n",
       "sos             Stochastic Outlier Selection          pyod.models.sos.SOS"
      ],
      "text/html": [
       "<div>\n",
       "<style scoped>\n",
       "    .dataframe tbody tr th:only-of-type {\n",
       "        vertical-align: middle;\n",
       "    }\n",
       "\n",
       "    .dataframe tbody tr th {\n",
       "        vertical-align: top;\n",
       "    }\n",
       "\n",
       "    .dataframe thead th {\n",
       "        text-align: right;\n",
       "    }\n",
       "</style>\n",
       "<table border=\"1\" class=\"dataframe\">\n",
       "  <thead>\n",
       "    <tr style=\"text-align: right;\">\n",
       "      <th></th>\n",
       "      <th>Name</th>\n",
       "      <th>Reference</th>\n",
       "    </tr>\n",
       "    <tr>\n",
       "      <th>ID</th>\n",
       "      <th></th>\n",
       "      <th></th>\n",
       "    </tr>\n",
       "  </thead>\n",
       "  <tbody>\n",
       "    <tr>\n",
       "      <th>abod</th>\n",
       "      <td>Angle-base Outlier Detection</td>\n",
       "      <td>pyod.models.abod.ABOD</td>\n",
       "    </tr>\n",
       "    <tr>\n",
       "      <th>cluster</th>\n",
       "      <td>Clustering-Based Local Outlier</td>\n",
       "      <td>pyod.models.cblof.CBLOF</td>\n",
       "    </tr>\n",
       "    <tr>\n",
       "      <th>cof</th>\n",
       "      <td>Connectivity-Based Local Outlier</td>\n",
       "      <td>pyod.models.cof.COF</td>\n",
       "    </tr>\n",
       "    <tr>\n",
       "      <th>iforest</th>\n",
       "      <td>Isolation Forest</td>\n",
       "      <td>pyod.models.iforest.IForest</td>\n",
       "    </tr>\n",
       "    <tr>\n",
       "      <th>histogram</th>\n",
       "      <td>Histogram-based Outlier Detection</td>\n",
       "      <td>pyod.models.hbos.HBOS</td>\n",
       "    </tr>\n",
       "    <tr>\n",
       "      <th>knn</th>\n",
       "      <td>K-Nearest Neighbors Detector</td>\n",
       "      <td>pyod.models.knn.KNN</td>\n",
       "    </tr>\n",
       "    <tr>\n",
       "      <th>lof</th>\n",
       "      <td>Local Outlier Factor</td>\n",
       "      <td>pyod.models.lof.LOF</td>\n",
       "    </tr>\n",
       "    <tr>\n",
       "      <th>svm</th>\n",
       "      <td>One-class SVM detector</td>\n",
       "      <td>pyod.models.ocsvm.OCSVM</td>\n",
       "    </tr>\n",
       "    <tr>\n",
       "      <th>pca</th>\n",
       "      <td>Principal Component Analysis</td>\n",
       "      <td>pyod.models.pca.PCA</td>\n",
       "    </tr>\n",
       "    <tr>\n",
       "      <th>mcd</th>\n",
       "      <td>Minimum Covariance Determinant</td>\n",
       "      <td>pyod.models.mcd.MCD</td>\n",
       "    </tr>\n",
       "    <tr>\n",
       "      <th>sod</th>\n",
       "      <td>Subspace Outlier Detection</td>\n",
       "      <td>pyod.models.sod.SOD</td>\n",
       "    </tr>\n",
       "    <tr>\n",
       "      <th>sos</th>\n",
       "      <td>Stochastic Outlier Selection</td>\n",
       "      <td>pyod.models.sos.SOS</td>\n",
       "    </tr>\n",
       "  </tbody>\n",
       "</table>\n",
       "</div>"
      ]
     },
     "metadata": {},
     "execution_count": 45
    }
   ],
   "metadata": {}
  },
  {
   "cell_type": "code",
   "execution_count": 43,
   "source": [
    "iforest= create_model(\"iforest\")"
   ],
   "outputs": [],
   "metadata": {}
  },
  {
   "cell_type": "code",
   "execution_count": 44,
   "source": [
    "print(iforest)"
   ],
   "outputs": [
    {
     "output_type": "stream",
     "name": "stdout",
     "text": [
      "IForest(behaviour='new', bootstrap=False, contamination=0.05,\n",
      "    max_features=1.0, max_samples='auto', n_estimators=100, n_jobs=-1,\n",
      "    random_state=121, verbose=0)\n"
     ]
    }
   ],
   "metadata": {}
  },
  {
   "cell_type": "code",
   "execution_count": 46,
   "source": [
    "forestresults= assign_model(iforest)"
   ],
   "outputs": [],
   "metadata": {}
  },
  {
   "cell_type": "code",
   "execution_count": 47,
   "source": [
    "forestresults.head()"
   ],
   "outputs": [
    {
     "output_type": "execute_result",
     "data": {
      "text/plain": [
       "       MouseID  DYRK1A_N   ITSN1_N    BDNF_N     NR1_N    NR2A_N    pAKT_N  \\\n",
       "608     3417_9  0.408687  0.569884  0.243436  1.633784  2.580888  0.209653   \n",
       "991     3491_2  0.430102  0.725551  0.401131  2.647296  4.216251  0.271278   \n",
       "434  50810F_15  0.347810  0.469789  0.344411  1.916918  2.724698  0.311178   \n",
       "87     3415_13  0.367629  0.504473  0.261285  1.892843  3.061814  0.216348   \n",
       "94      3499_5  0.353474  0.549559  0.308328  2.426567  3.817040  0.198122   \n",
       "\n",
       "      pBRAF_N  pCAMKII_N   pCREB_N  ...  H3AcK18_N    EGR1_N  H3MeK4_N  \\\n",
       "608  0.161969   2.362741  0.185714  ...        NaN       NaN       NaN   \n",
       "991  0.183252   5.483843  0.297420  ...   0.177346  0.168472  0.175116   \n",
       "434  0.197130   3.182779  0.274924  ...        NaN       NaN       NaN   \n",
       "87   0.165514   2.479870  0.135218  ...   0.079691  0.121468  0.101787   \n",
       "94   0.154560   3.606359  0.197103  ...   0.157152  0.139935  0.147384   \n",
       "\n",
       "       CaNA_N  Genotype  Treatment  Behavior   class  Anomaly  Anomaly_Score  \n",
       "608  1.516119    Ts65Dn  Memantine       C/S  t-CS-m        0      -0.058571  \n",
       "991  1.403295    Ts65Dn     Saline       S/C  t-SC-s        0      -0.028943  \n",
       "434  1.453513   Control     Saline       C/S  c-CS-s        0      -0.011503  \n",
       "87   0.820333   Control  Memantine       C/S  c-CS-m        1       0.018920  \n",
       "94   1.396850   Control  Memantine       C/S  c-CS-m        0      -0.087683  \n",
       "\n",
       "[5 rows x 84 columns]"
      ],
      "text/html": [
       "<div>\n",
       "<style scoped>\n",
       "    .dataframe tbody tr th:only-of-type {\n",
       "        vertical-align: middle;\n",
       "    }\n",
       "\n",
       "    .dataframe tbody tr th {\n",
       "        vertical-align: top;\n",
       "    }\n",
       "\n",
       "    .dataframe thead th {\n",
       "        text-align: right;\n",
       "    }\n",
       "</style>\n",
       "<table border=\"1\" class=\"dataframe\">\n",
       "  <thead>\n",
       "    <tr style=\"text-align: right;\">\n",
       "      <th></th>\n",
       "      <th>MouseID</th>\n",
       "      <th>DYRK1A_N</th>\n",
       "      <th>ITSN1_N</th>\n",
       "      <th>BDNF_N</th>\n",
       "      <th>NR1_N</th>\n",
       "      <th>NR2A_N</th>\n",
       "      <th>pAKT_N</th>\n",
       "      <th>pBRAF_N</th>\n",
       "      <th>pCAMKII_N</th>\n",
       "      <th>pCREB_N</th>\n",
       "      <th>...</th>\n",
       "      <th>H3AcK18_N</th>\n",
       "      <th>EGR1_N</th>\n",
       "      <th>H3MeK4_N</th>\n",
       "      <th>CaNA_N</th>\n",
       "      <th>Genotype</th>\n",
       "      <th>Treatment</th>\n",
       "      <th>Behavior</th>\n",
       "      <th>class</th>\n",
       "      <th>Anomaly</th>\n",
       "      <th>Anomaly_Score</th>\n",
       "    </tr>\n",
       "  </thead>\n",
       "  <tbody>\n",
       "    <tr>\n",
       "      <th>608</th>\n",
       "      <td>3417_9</td>\n",
       "      <td>0.408687</td>\n",
       "      <td>0.569884</td>\n",
       "      <td>0.243436</td>\n",
       "      <td>1.633784</td>\n",
       "      <td>2.580888</td>\n",
       "      <td>0.209653</td>\n",
       "      <td>0.161969</td>\n",
       "      <td>2.362741</td>\n",
       "      <td>0.185714</td>\n",
       "      <td>...</td>\n",
       "      <td>NaN</td>\n",
       "      <td>NaN</td>\n",
       "      <td>NaN</td>\n",
       "      <td>1.516119</td>\n",
       "      <td>Ts65Dn</td>\n",
       "      <td>Memantine</td>\n",
       "      <td>C/S</td>\n",
       "      <td>t-CS-m</td>\n",
       "      <td>0</td>\n",
       "      <td>-0.058571</td>\n",
       "    </tr>\n",
       "    <tr>\n",
       "      <th>991</th>\n",
       "      <td>3491_2</td>\n",
       "      <td>0.430102</td>\n",
       "      <td>0.725551</td>\n",
       "      <td>0.401131</td>\n",
       "      <td>2.647296</td>\n",
       "      <td>4.216251</td>\n",
       "      <td>0.271278</td>\n",
       "      <td>0.183252</td>\n",
       "      <td>5.483843</td>\n",
       "      <td>0.297420</td>\n",
       "      <td>...</td>\n",
       "      <td>0.177346</td>\n",
       "      <td>0.168472</td>\n",
       "      <td>0.175116</td>\n",
       "      <td>1.403295</td>\n",
       "      <td>Ts65Dn</td>\n",
       "      <td>Saline</td>\n",
       "      <td>S/C</td>\n",
       "      <td>t-SC-s</td>\n",
       "      <td>0</td>\n",
       "      <td>-0.028943</td>\n",
       "    </tr>\n",
       "    <tr>\n",
       "      <th>434</th>\n",
       "      <td>50810F_15</td>\n",
       "      <td>0.347810</td>\n",
       "      <td>0.469789</td>\n",
       "      <td>0.344411</td>\n",
       "      <td>1.916918</td>\n",
       "      <td>2.724698</td>\n",
       "      <td>0.311178</td>\n",
       "      <td>0.197130</td>\n",
       "      <td>3.182779</td>\n",
       "      <td>0.274924</td>\n",
       "      <td>...</td>\n",
       "      <td>NaN</td>\n",
       "      <td>NaN</td>\n",
       "      <td>NaN</td>\n",
       "      <td>1.453513</td>\n",
       "      <td>Control</td>\n",
       "      <td>Saline</td>\n",
       "      <td>C/S</td>\n",
       "      <td>c-CS-s</td>\n",
       "      <td>0</td>\n",
       "      <td>-0.011503</td>\n",
       "    </tr>\n",
       "    <tr>\n",
       "      <th>87</th>\n",
       "      <td>3415_13</td>\n",
       "      <td>0.367629</td>\n",
       "      <td>0.504473</td>\n",
       "      <td>0.261285</td>\n",
       "      <td>1.892843</td>\n",
       "      <td>3.061814</td>\n",
       "      <td>0.216348</td>\n",
       "      <td>0.165514</td>\n",
       "      <td>2.479870</td>\n",
       "      <td>0.135218</td>\n",
       "      <td>...</td>\n",
       "      <td>0.079691</td>\n",
       "      <td>0.121468</td>\n",
       "      <td>0.101787</td>\n",
       "      <td>0.820333</td>\n",
       "      <td>Control</td>\n",
       "      <td>Memantine</td>\n",
       "      <td>C/S</td>\n",
       "      <td>c-CS-m</td>\n",
       "      <td>1</td>\n",
       "      <td>0.018920</td>\n",
       "    </tr>\n",
       "    <tr>\n",
       "      <th>94</th>\n",
       "      <td>3499_5</td>\n",
       "      <td>0.353474</td>\n",
       "      <td>0.549559</td>\n",
       "      <td>0.308328</td>\n",
       "      <td>2.426567</td>\n",
       "      <td>3.817040</td>\n",
       "      <td>0.198122</td>\n",
       "      <td>0.154560</td>\n",
       "      <td>3.606359</td>\n",
       "      <td>0.197103</td>\n",
       "      <td>...</td>\n",
       "      <td>0.157152</td>\n",
       "      <td>0.139935</td>\n",
       "      <td>0.147384</td>\n",
       "      <td>1.396850</td>\n",
       "      <td>Control</td>\n",
       "      <td>Memantine</td>\n",
       "      <td>C/S</td>\n",
       "      <td>c-CS-m</td>\n",
       "      <td>0</td>\n",
       "      <td>-0.087683</td>\n",
       "    </tr>\n",
       "  </tbody>\n",
       "</table>\n",
       "<p>5 rows × 84 columns</p>\n",
       "</div>"
      ]
     },
     "metadata": {},
     "execution_count": 47
    }
   ],
   "metadata": {}
  },
  {
   "cell_type": "code",
   "execution_count": 48,
   "source": [
    "plot_model(iforest)"
   ],
   "outputs": [
    {
     "output_type": "display_data",
     "data": {
      "application/vnd.plotly.v1+json": {
       "config": {
        "plotlyServerURL": "https://plot.ly"
       },
       "data": [
        {
         "customdata": [
          [
           "309_1"
          ],
          [
           "309_2"
          ],
          [
           "309_3"
          ],
          [
           "309_4"
          ],
          [
           "309_5"
          ],
          [
           "309_6"
          ],
          [
           "309_7"
          ],
          [
           "309_8"
          ],
          [
           "309_9"
          ],
          [
           "309_10"
          ],
          [
           "309_11"
          ],
          [
           "309_12"
          ],
          [
           "309_13"
          ],
          [
           "309_14"
          ],
          [
           "309_15"
          ],
          [
           "311_1"
          ],
          [
           "311_2"
          ],
          [
           "311_3"
          ],
          [
           "311_4"
          ],
          [
           "311_5"
          ],
          [
           "311_6"
          ],
          [
           "311_7"
          ],
          [
           "311_8"
          ],
          [
           "311_9"
          ],
          [
           "311_10"
          ],
          [
           "311_11"
          ],
          [
           "311_12"
          ],
          [
           "311_13"
          ],
          [
           "311_14"
          ],
          [
           "311_15"
          ],
          [
           "320_1"
          ],
          [
           "320_2"
          ],
          [
           "320_3"
          ],
          [
           "320_4"
          ],
          [
           "320_5"
          ],
          [
           "320_6"
          ],
          [
           "320_7"
          ],
          [
           null
          ],
          [
           "320_9"
          ],
          [
           "320_10"
          ],
          [
           "320_11"
          ],
          [
           "320_12"
          ],
          [
           null
          ],
          [
           "320_14"
          ],
          [
           "320_15"
          ],
          [
           "321_1"
          ],
          [
           "321_2"
          ],
          [
           "321_3"
          ],
          [
           "321_4"
          ],
          [
           "321_5"
          ],
          [
           null
          ],
          [
           "321_7"
          ],
          [
           "321_8"
          ],
          [
           "321_9"
          ],
          [
           "321_10"
          ],
          [
           "321_11"
          ],
          [
           "321_12"
          ],
          [
           "321_13"
          ],
          [
           "321_14"
          ],
          [
           "321_15"
          ],
          [
           "322_1"
          ],
          [
           "322_2"
          ],
          [
           null
          ],
          [
           "322_4"
          ],
          [
           "322_5"
          ],
          [
           "322_6"
          ],
          [
           "322_7"
          ],
          [
           "322_8"
          ],
          [
           "322_9"
          ],
          [
           null
          ],
          [
           "322_11"
          ],
          [
           "322_12"
          ],
          [
           "322_13"
          ],
          [
           "322_14"
          ],
          [
           "322_15"
          ],
          [
           null
          ],
          [
           "3415_2"
          ],
          [
           "3415_3"
          ],
          [
           "3415_4"
          ],
          [
           "3415_5"
          ],
          [
           "3415_6"
          ],
          [
           "3415_7"
          ],
          [
           "3415_8"
          ],
          [
           "3415_9"
          ],
          [
           "3415_10"
          ],
          [
           "3415_11"
          ],
          [
           null
          ],
          [
           "3415_13"
          ],
          [
           "3415_14"
          ],
          [
           "3415_15"
          ],
          [
           "3499_1"
          ],
          [
           null
          ],
          [
           "3499_3"
          ],
          [
           "3499_4"
          ],
          [
           "3499_5"
          ],
          [
           "3499_6"
          ],
          [
           "3499_7"
          ],
          [
           "3499_8"
          ],
          [
           "3499_9"
          ],
          [
           "3499_10"
          ],
          [
           "3499_11"
          ],
          [
           "3499_12"
          ],
          [
           "3499_13"
          ],
          [
           "3499_14"
          ],
          [
           "3499_15"
          ],
          [
           null
          ],
          [
           "3507_2"
          ],
          [
           "3507_3"
          ],
          [
           "3507_4"
          ],
          [
           "3507_5"
          ],
          [
           null
          ],
          [
           "3507_7"
          ],
          [
           "3507_8"
          ],
          [
           null
          ],
          [
           "3507_10"
          ],
          [
           "3507_11"
          ],
          [
           "3507_12"
          ],
          [
           "3507_13"
          ],
          [
           null
          ],
          [
           "3507_15"
          ],
          [
           "3520_1"
          ],
          [
           "3520_2"
          ],
          [
           "3520_3"
          ],
          [
           null
          ],
          [
           "3520_5"
          ],
          [
           "3520_6"
          ],
          [
           "3520_7"
          ],
          [
           "3520_8"
          ],
          [
           "3520_9"
          ],
          [
           "3520_10"
          ],
          [
           "3520_11"
          ],
          [
           "3520_12"
          ],
          [
           "3520_13"
          ],
          [
           "3520_14"
          ],
          [
           "3520_15"
          ],
          [
           "3521_1"
          ],
          [
           "3521_2"
          ],
          [
           "3521_3"
          ],
          [
           "3521_4"
          ],
          [
           "3521_5"
          ],
          [
           "3521_6"
          ],
          [
           null
          ],
          [
           "3521_8"
          ],
          [
           "3521_9"
          ],
          [
           "3521_10"
          ],
          [
           "3521_11"
          ],
          [
           "3521_12"
          ],
          [
           "3521_13"
          ],
          [
           "3521_14"
          ],
          [
           "3521_15"
          ],
          [
           "294_1"
          ],
          [
           "294_2"
          ],
          [
           "294_3"
          ],
          [
           "294_4"
          ],
          [
           "294_5"
          ],
          [
           "294_6"
          ],
          [
           null
          ],
          [
           "294_8"
          ],
          [
           "294_9"
          ],
          [
           "294_10"
          ],
          [
           null
          ],
          [
           "294_12"
          ],
          [
           "294_13"
          ],
          [
           "294_14"
          ],
          [
           "294_15"
          ],
          [
           "3412_1"
          ],
          [
           "3412_2"
          ],
          [
           "3412_3"
          ],
          [
           "3412_4"
          ],
          [
           "3412_5"
          ],
          [
           "3412_6"
          ],
          [
           "3412_7"
          ],
          [
           "3412_8"
          ],
          [
           null
          ],
          [
           "3412_10"
          ],
          [
           "3412_11"
          ],
          [
           "3412_12"
          ],
          [
           null
          ],
          [
           "3412_14"
          ],
          [
           "3412_15"
          ],
          [
           "3413_1"
          ],
          [
           "3413_2"
          ],
          [
           "3413_3"
          ],
          [
           "3413_4"
          ],
          [
           "3413_5"
          ],
          [
           "3413_6"
          ],
          [
           "3413_7"
          ],
          [
           "3413_8"
          ],
          [
           "3413_9"
          ],
          [
           "3413_10"
          ],
          [
           "3413_11"
          ],
          [
           "3413_12"
          ],
          [
           "3413_13"
          ],
          [
           "3413_14"
          ],
          [
           "3413_15"
          ],
          [
           "3419_1"
          ],
          [
           "3419_2"
          ],
          [
           "3419_3"
          ],
          [
           "3419_4"
          ],
          [
           "3419_5"
          ],
          [
           null
          ],
          [
           "3419_7"
          ],
          [
           "3419_8"
          ],
          [
           "3419_9"
          ],
          [
           "3419_10"
          ],
          [
           "3419_11"
          ],
          [
           "3419_12"
          ],
          [
           "3419_13"
          ],
          [
           "3419_14"
          ],
          [
           "3419_15"
          ],
          [
           "3420_1"
          ],
          [
           "3420_2"
          ],
          [
           "3420_3"
          ],
          [
           "3420_4"
          ],
          [
           "3420_5"
          ],
          [
           "3420_6"
          ],
          [
           "3420_7"
          ],
          [
           "3420_8"
          ],
          [
           "3420_9"
          ],
          [
           null
          ],
          [
           "3420_11"
          ],
          [
           "3420_12"
          ],
          [
           null
          ],
          [
           "3420_14"
          ],
          [
           "3420_15"
          ],
          [
           "3500_1"
          ],
          [
           "3500_2"
          ],
          [
           "3500_3"
          ],
          [
           "3500_4"
          ],
          [
           "3500_5"
          ],
          [
           "3500_6"
          ],
          [
           null
          ],
          [
           "3500_8"
          ],
          [
           "3500_9"
          ],
          [
           "3500_10"
          ],
          [
           "3500_11"
          ],
          [
           "3500_12"
          ],
          [
           "3500_13"
          ],
          [
           "3500_14"
          ],
          [
           "3500_15"
          ],
          [
           "3503_1"
          ],
          [
           "3503_2"
          ],
          [
           "3503_3"
          ],
          [
           "3503_4"
          ],
          [
           "3503_5"
          ],
          [
           "3503_6"
          ],
          [
           "3503_7"
          ],
          [
           "3503_8"
          ],
          [
           "3503_9"
          ],
          [
           "3503_10"
          ],
          [
           "3503_11"
          ],
          [
           "3503_12"
          ],
          [
           "3503_13"
          ],
          [
           "3503_14"
          ],
          [
           "3503_15"
          ],
          [
           "362_1"
          ],
          [
           "362_2"
          ],
          [
           "362_3"
          ],
          [
           "362_4"
          ],
          [
           "362_5"
          ],
          [
           "362_6"
          ],
          [
           "362_7"
          ],
          [
           "362_8"
          ],
          [
           "362_9"
          ],
          [
           "362_10"
          ],
          [
           "362_11"
          ],
          [
           "362_12"
          ],
          [
           "362_13"
          ],
          [
           null
          ],
          [
           "362_15"
          ],
          [
           "364_1"
          ],
          [
           "364_2"
          ],
          [
           "364_3"
          ],
          [
           null
          ],
          [
           "364_5"
          ],
          [
           "364_6"
          ],
          [
           "364_7"
          ],
          [
           "364_8"
          ],
          [
           "364_9"
          ],
          [
           "364_10"
          ],
          [
           "364_11"
          ],
          [
           "364_12"
          ],
          [
           "364_13"
          ],
          [
           null
          ],
          [
           "364_15"
          ],
          [
           "365_1"
          ],
          [
           "365_2"
          ],
          [
           "365_3"
          ],
          [
           "365_4"
          ],
          [
           null
          ],
          [
           "365_6"
          ],
          [
           "365_7"
          ],
          [
           "365_8"
          ],
          [
           "365_9"
          ],
          [
           "365_10"
          ],
          [
           "365_11"
          ],
          [
           null
          ],
          [
           "365_13"
          ],
          [
           "365_14"
          ],
          [
           "365_15"
          ],
          [
           "3477_1"
          ],
          [
           "3477_2"
          ],
          [
           null
          ],
          [
           "3477_4"
          ],
          [
           null
          ],
          [
           "3477_6"
          ],
          [
           "3477_7"
          ],
          [
           "3477_8"
          ],
          [
           "3477_9"
          ],
          [
           "3477_10"
          ],
          [
           "3477_11"
          ],
          [
           "3477_12"
          ],
          [
           "3477_13"
          ],
          [
           "3477_14"
          ],
          [
           "3477_15"
          ],
          [
           "3478_1"
          ],
          [
           "3478_2"
          ],
          [
           null
          ],
          [
           "3478_4"
          ],
          [
           "3478_5"
          ],
          [
           "3478_6"
          ],
          [
           "3478_7"
          ],
          [
           "3478_8"
          ],
          [
           "3478_9"
          ],
          [
           null
          ],
          [
           "3478_11"
          ],
          [
           "3478_12"
          ],
          [
           "3478_13"
          ],
          [
           "3478_14"
          ],
          [
           "3478_15"
          ],
          [
           "3479_1"
          ],
          [
           "3479_2"
          ],
          [
           "3479_3"
          ],
          [
           "3479_4"
          ],
          [
           null
          ],
          [
           "3479_6"
          ],
          [
           "3479_7"
          ],
          [
           "3479_8"
          ],
          [
           "3479_9"
          ],
          [
           "3479_10"
          ],
          [
           "3479_11"
          ],
          [
           "3479_12"
          ],
          [
           "3479_13"
          ],
          [
           "3479_14"
          ],
          [
           null
          ],
          [
           "3480_1"
          ],
          [
           "3480_2"
          ],
          [
           "3480_3"
          ],
          [
           "3480_4"
          ],
          [
           "3480_5"
          ],
          [
           null
          ],
          [
           "3480_7"
          ],
          [
           "3480_8"
          ],
          [
           "3480_9"
          ],
          [
           "3480_10"
          ],
          [
           "3480_11"
          ],
          [
           "3480_12"
          ],
          [
           "3480_13"
          ],
          [
           "3480_14"
          ],
          [
           "3480_15"
          ],
          [
           "3484_1"
          ],
          [
           "3484_2"
          ],
          [
           "3484_3"
          ],
          [
           null
          ],
          [
           "3484_5"
          ],
          [
           "3484_6"
          ],
          [
           "3484_7"
          ],
          [
           "3484_8"
          ],
          [
           "3484_9"
          ],
          [
           "3484_10"
          ],
          [
           "3484_11"
          ],
          [
           "3484_12"
          ],
          [
           "3484_13"
          ],
          [
           "3484_14"
          ],
          [
           "3484_15"
          ],
          [
           "3497_1"
          ],
          [
           "3497_2"
          ],
          [
           null
          ],
          [
           "3497_4"
          ],
          [
           "3497_5"
          ],
          [
           "3497_6"
          ],
          [
           "3497_7"
          ],
          [
           "3497_8"
          ],
          [
           "3497_9"
          ],
          [
           "3497_10"
          ],
          [
           "3497_11"
          ],
          [
           "3497_12"
          ],
          [
           "3497_13"
          ],
          [
           "3497_14"
          ],
          [
           "3497_15"
          ],
          [
           "50810A_1"
          ],
          [
           null
          ],
          [
           "50810A_3"
          ],
          [
           "50810A_4"
          ],
          [
           "50810A_5"
          ],
          [
           "50810A_6"
          ],
          [
           null
          ],
          [
           "50810A_8"
          ],
          [
           "50810A_9"
          ],
          [
           "50810A_10"
          ],
          [
           "50810A_11"
          ],
          [
           "50810A_12"
          ],
          [
           "50810A_13"
          ],
          [
           "50810A_14"
          ],
          [
           "50810A_15"
          ],
          [
           "50810D_1"
          ],
          [
           "50810D_2"
          ],
          [
           "50810D_3"
          ],
          [
           "50810D_4"
          ],
          [
           "50810D_5"
          ],
          [
           "50810D_6"
          ],
          [
           "50810D_7"
          ],
          [
           "50810D_8"
          ],
          [
           "50810D_9"
          ],
          [
           "50810D_10"
          ],
          [
           "50810D_11"
          ],
          [
           "50810D_12"
          ],
          [
           "50810D_13"
          ],
          [
           null
          ],
          [
           "50810D_15"
          ],
          [
           "50810F_1"
          ],
          [
           "50810F_2"
          ],
          [
           "50810F_3"
          ],
          [
           "50810F_4"
          ],
          [
           "50810F_5"
          ],
          [
           "50810F_6"
          ],
          [
           null
          ],
          [
           "50810F_8"
          ],
          [
           null
          ],
          [
           null
          ],
          [
           "50810F_11"
          ],
          [
           "50810F_12"
          ],
          [
           "50810F_13"
          ],
          [
           "50810F_14"
          ],
          [
           "50810F_15"
          ],
          [
           "3422_1"
          ],
          [
           "3422_2"
          ],
          [
           "3422_3"
          ],
          [
           "3422_4"
          ],
          [
           "3422_5"
          ],
          [
           "3422_6"
          ],
          [
           "3422_7"
          ],
          [
           "3422_8"
          ],
          [
           "3422_9"
          ],
          [
           "3422_10"
          ],
          [
           "3422_11"
          ],
          [
           "3422_12"
          ],
          [
           "3422_13"
          ],
          [
           "3422_14"
          ],
          [
           "3422_15"
          ],
          [
           "3423_1"
          ],
          [
           "3423_2"
          ],
          [
           "3423_3"
          ],
          [
           "3423_4"
          ],
          [
           "3423_5"
          ],
          [
           "3423_6"
          ],
          [
           "3423_7"
          ],
          [
           "3423_8"
          ],
          [
           "3423_9"
          ],
          [
           "3423_10"
          ],
          [
           "3423_11"
          ],
          [
           "3423_12"
          ],
          [
           "3423_13"
          ],
          [
           "3423_14"
          ],
          [
           "3423_15"
          ],
          [
           "3424_1"
          ],
          [
           null
          ],
          [
           "3424_3"
          ],
          [
           "3424_4"
          ],
          [
           "3424_5"
          ],
          [
           "3424_6"
          ],
          [
           "3424_7"
          ],
          [
           "3424_8"
          ],
          [
           "3424_9"
          ],
          [
           "3424_10"
          ],
          [
           "3424_11"
          ],
          [
           "3424_12"
          ],
          [
           "3424_13"
          ],
          [
           "3424_14"
          ],
          [
           "3424_15"
          ],
          [
           "3481_1"
          ],
          [
           "3481_2"
          ],
          [
           "3481_3"
          ],
          [
           null
          ],
          [
           "3481_5"
          ],
          [
           "3481_6"
          ],
          [
           "3481_7"
          ],
          [
           "3481_8"
          ],
          [
           null
          ],
          [
           "3481_10"
          ],
          [
           null
          ],
          [
           "3481_12"
          ],
          [
           "3481_13"
          ],
          [
           "3481_14"
          ],
          [
           "3481_15"
          ],
          [
           "3488_1"
          ],
          [
           "3488_2"
          ],
          [
           "3488_3"
          ],
          [
           "3488_4"
          ],
          [
           "3488_5"
          ],
          [
           "3488_6"
          ],
          [
           "3488_7"
          ],
          [
           "3488_8"
          ],
          [
           "3488_9"
          ],
          [
           "3488_10"
          ],
          [
           "3488_11"
          ],
          [
           "3488_12"
          ],
          [
           "3488_13"
          ],
          [
           null
          ],
          [
           "3488_15"
          ],
          [
           "3489_1"
          ],
          [
           null
          ],
          [
           "3489_3"
          ],
          [
           null
          ],
          [
           "3489_5"
          ],
          [
           "3489_6"
          ],
          [
           "3489_7"
          ],
          [
           "3489_8"
          ],
          [
           "3489_9"
          ],
          [
           null
          ],
          [
           "3489_11"
          ],
          [
           "3489_12"
          ],
          [
           "3489_13"
          ],
          [
           "3489_14"
          ],
          [
           "3489_15"
          ],
          [
           null
          ],
          [
           "3490_2"
          ],
          [
           "3490_3"
          ],
          [
           "3490_4"
          ],
          [
           "3490_5"
          ],
          [
           "3490_6"
          ],
          [
           "3490_7"
          ],
          [
           "3490_8"
          ],
          [
           "3490_9"
          ],
          [
           "3490_10"
          ],
          [
           "3490_11"
          ],
          [
           "3490_12"
          ],
          [
           "3490_13"
          ],
          [
           "3490_14"
          ],
          [
           "3490_15"
          ],
          [
           "3516_1"
          ],
          [
           "3516_2"
          ],
          [
           "3516_3"
          ],
          [
           "3516_4"
          ],
          [
           "3516_5"
          ],
          [
           "3516_6"
          ],
          [
           null
          ],
          [
           "3516_8"
          ],
          [
           "3516_9"
          ],
          [
           "3516_10"
          ],
          [
           "3516_11"
          ],
          [
           "3516_12"
          ],
          [
           "3516_13"
          ],
          [
           "3516_14"
          ],
          [
           "3516_15"
          ],
          [
           "J2292_1"
          ],
          [
           "J2292_2"
          ],
          [
           "J2292_3"
          ],
          [
           "J2292_4"
          ],
          [
           "J2292_5"
          ],
          [
           "J2292_6"
          ],
          [
           "J2292_7"
          ],
          [
           null
          ],
          [
           null
          ],
          [
           "J2292_10"
          ],
          [
           "J2292_11"
          ],
          [
           "J2292_12"
          ],
          [
           "J2292_13"
          ],
          [
           "J2292_14"
          ],
          [
           "J2292_15"
          ],
          [
           "3414_1"
          ],
          [
           "3414_2"
          ],
          [
           "3414_3"
          ],
          [
           "3414_4"
          ],
          [
           "3414_5"
          ],
          [
           "3414_6"
          ],
          [
           "3414_7"
          ],
          [
           "3414_8"
          ],
          [
           "3414_9"
          ],
          [
           "3414_10"
          ],
          [
           null
          ],
          [
           "3414_12"
          ],
          [
           "3414_13"
          ],
          [
           "3414_14"
          ],
          [
           "3414_15"
          ],
          [
           "3416_1"
          ],
          [
           "3416_2"
          ],
          [
           "3416_3"
          ],
          [
           "3416_4"
          ],
          [
           "3416_5"
          ],
          [
           null
          ],
          [
           "3416_7"
          ],
          [
           "3416_8"
          ],
          [
           "3416_9"
          ],
          [
           "3416_10"
          ],
          [
           "3416_11"
          ],
          [
           "3416_12"
          ],
          [
           "3416_13"
          ],
          [
           "3416_14"
          ],
          [
           "3416_15"
          ],
          [
           "3417_1"
          ],
          [
           "3417_2"
          ],
          [
           "3417_3"
          ],
          [
           "3417_4"
          ],
          [
           "3417_5"
          ],
          [
           "3417_6"
          ],
          [
           "3417_7"
          ],
          [
           "3417_8"
          ],
          [
           "3417_9"
          ],
          [
           "3417_10"
          ],
          [
           "3417_11"
          ],
          [
           "3417_12"
          ],
          [
           "3417_13"
          ],
          [
           "3417_14"
          ],
          [
           "3417_15"
          ],
          [
           "3429_1"
          ],
          [
           "3429_2"
          ],
          [
           null
          ],
          [
           "3429_4"
          ],
          [
           "3429_5"
          ],
          [
           "3429_6"
          ],
          [
           "3429_7"
          ],
          [
           "3429_8"
          ],
          [
           "3429_9"
          ],
          [
           "3429_10"
          ],
          [
           "3429_11"
          ],
          [
           "3429_12"
          ],
          [
           "3429_13"
          ],
          [
           "3429_14"
          ],
          [
           "3429_15"
          ],
          [
           "3504_1"
          ],
          [
           null
          ],
          [
           "3504_3"
          ],
          [
           "3504_4"
          ],
          [
           "3504_5"
          ],
          [
           "3504_6"
          ],
          [
           "3504_7"
          ],
          [
           "3504_8"
          ],
          [
           "3504_9"
          ],
          [
           "3504_10"
          ],
          [
           "3504_11"
          ],
          [
           "3504_12"
          ],
          [
           "3504_13"
          ],
          [
           null
          ],
          [
           "3504_15"
          ],
          [
           "3505_1"
          ],
          [
           null
          ],
          [
           "3505_3"
          ],
          [
           "3505_4"
          ],
          [
           "3505_5"
          ],
          [
           "3505_6"
          ],
          [
           "3505_7"
          ],
          [
           "3505_8"
          ],
          [
           "3505_9"
          ],
          [
           "3505_10"
          ],
          [
           "3505_11"
          ],
          [
           "3505_12"
          ],
          [
           "3505_13"
          ],
          [
           "3505_14"
          ],
          [
           "3505_15"
          ],
          [
           "3522_1"
          ],
          [
           "3522_2"
          ],
          [
           "3522_3"
          ],
          [
           "3522_4"
          ],
          [
           "3522_5"
          ],
          [
           "3522_6"
          ],
          [
           "3522_7"
          ],
          [
           "3522_8"
          ],
          [
           "3522_9"
          ],
          [
           null
          ],
          [
           "3522_11"
          ],
          [
           "3522_12"
          ],
          [
           "3522_13"
          ],
          [
           "3522_14"
          ],
          [
           "3522_15"
          ],
          [
           "361_1"
          ],
          [
           "361_2"
          ],
          [
           "361_3"
          ],
          [
           "361_4"
          ],
          [
           "361_5"
          ],
          [
           null
          ],
          [
           null
          ],
          [
           "361_8"
          ],
          [
           "361_9"
          ],
          [
           "361_10"
          ],
          [
           null
          ],
          [
           "361_12"
          ],
          [
           "361_13"
          ],
          [
           "361_14"
          ],
          [
           "361_15"
          ],
          [
           "363_1"
          ],
          [
           "363_2"
          ],
          [
           "363_3"
          ],
          [
           "363_4"
          ],
          [
           "363_5"
          ],
          [
           "363_6"
          ],
          [
           "363_7"
          ],
          [
           "363_8"
          ],
          [
           "363_9"
          ],
          [
           "363_10"
          ],
          [
           "363_11"
          ],
          [
           "363_12"
          ],
          [
           "363_13"
          ],
          [
           "363_14"
          ],
          [
           "363_15"
          ],
          [
           "293_1"
          ],
          [
           "293_2"
          ],
          [
           "293_3"
          ],
          [
           "293_4"
          ],
          [
           "293_5"
          ],
          [
           "293_6"
          ],
          [
           "293_7"
          ],
          [
           null
          ],
          [
           "293_9"
          ],
          [
           null
          ],
          [
           "293_11"
          ],
          [
           "293_12"
          ],
          [
           null
          ],
          [
           "293_14"
          ],
          [
           "293_15"
          ],
          [
           "3411_1"
          ],
          [
           "3411_2"
          ],
          [
           "3411_3"
          ],
          [
           "3411_4"
          ],
          [
           null
          ],
          [
           "3411_6"
          ],
          [
           "3411_7"
          ],
          [
           "3411_8"
          ],
          [
           null
          ],
          [
           "3411_10"
          ],
          [
           "3411_11"
          ],
          [
           "3411_12"
          ],
          [
           null
          ],
          [
           "3411_14"
          ],
          [
           "3411_15"
          ],
          [
           "3418_1"
          ],
          [
           "3418_2"
          ],
          [
           "3418_3"
          ],
          [
           null
          ],
          [
           "3418_5"
          ],
          [
           "3418_6"
          ],
          [
           "3418_7"
          ],
          [
           "3418_8"
          ],
          [
           null
          ],
          [
           "3418_10"
          ],
          [
           "3418_11"
          ],
          [
           "3418_12"
          ],
          [
           null
          ],
          [
           "3418_14"
          ],
          [
           "3418_15"
          ],
          [
           "3501_1"
          ],
          [
           "3501_2"
          ],
          [
           "3501_3"
          ],
          [
           "3501_4"
          ],
          [
           "3501_5"
          ],
          [
           "3501_6"
          ],
          [
           "3501_7"
          ],
          [
           "3501_8"
          ],
          [
           "3501_9"
          ],
          [
           null
          ],
          [
           "3501_11"
          ],
          [
           "3501_12"
          ],
          [
           "3501_13"
          ],
          [
           "3501_14"
          ],
          [
           "3501_15"
          ],
          [
           "3502_1"
          ],
          [
           "3502_2"
          ],
          [
           "3502_3"
          ],
          [
           "3502_4"
          ],
          [
           "3502_5"
          ],
          [
           "3502_6"
          ],
          [
           "3502_7"
          ],
          [
           "3502_8"
          ],
          [
           null
          ],
          [
           "3502_10"
          ],
          [
           "3502_11"
          ],
          [
           "3502_12"
          ],
          [
           "3502_13"
          ],
          [
           "3502_14"
          ],
          [
           "3502_15"
          ],
          [
           "3530_1"
          ],
          [
           "3530_2"
          ],
          [
           "3530_3"
          ],
          [
           "3530_4"
          ],
          [
           "3530_5"
          ],
          [
           "3530_6"
          ],
          [
           "3530_7"
          ],
          [
           "3530_8"
          ],
          [
           "3530_9"
          ],
          [
           "3530_10"
          ],
          [
           "3530_11"
          ],
          [
           "3530_12"
          ],
          [
           "3530_13"
          ],
          [
           "3530_14"
          ],
          [
           "3530_15"
          ],
          [
           "3534_1"
          ],
          [
           "3534_2"
          ],
          [
           "3534_3"
          ],
          [
           "3534_4"
          ],
          [
           "3534_5"
          ],
          [
           null
          ],
          [
           "3534_7"
          ],
          [
           "3534_8"
          ],
          [
           "3534_9"
          ],
          [
           "3534_10"
          ],
          [
           "3534_11"
          ],
          [
           "3534_12"
          ],
          [
           "3534_13"
          ],
          [
           null
          ],
          [
           "3534_15"
          ],
          [
           "3605_1"
          ],
          [
           "3605_2"
          ],
          [
           "3605_3"
          ],
          [
           "3605_4"
          ],
          [
           "3605_5"
          ],
          [
           "3605_6"
          ],
          [
           "3605_7"
          ],
          [
           "3605_8"
          ],
          [
           null
          ],
          [
           "3605_10"
          ],
          [
           "3605_11"
          ],
          [
           "3605_12"
          ],
          [
           "3605_13"
          ],
          [
           "3605_14"
          ],
          [
           "3605_15"
          ],
          [
           "3606_1"
          ],
          [
           "3606_2"
          ],
          [
           "3606_3"
          ],
          [
           "3606_4"
          ],
          [
           "3606_5"
          ],
          [
           "3606_6"
          ],
          [
           "3606_7"
          ],
          [
           "3606_8"
          ],
          [
           "3606_9"
          ],
          [
           "3606_10"
          ],
          [
           "3606_11"
          ],
          [
           "3606_12"
          ],
          [
           "3606_13"
          ],
          [
           "3606_14"
          ],
          [
           "3606_15"
          ],
          [
           "18899_1"
          ],
          [
           "18899_2"
          ],
          [
           "18899_3"
          ],
          [
           "18899_4"
          ],
          [
           "18899_5"
          ],
          [
           "18899_6"
          ],
          [
           null
          ],
          [
           "18899_8"
          ],
          [
           "18899_9"
          ],
          [
           "18899_10"
          ],
          [
           "18899_11"
          ],
          [
           "18899_12"
          ],
          [
           "18899_13"
          ],
          [
           "18899_14"
          ],
          [
           "18899_15"
          ],
          [
           "3476_1"
          ],
          [
           null
          ],
          [
           null
          ],
          [
           "3476_4"
          ],
          [
           "3476_5"
          ],
          [
           "3476_6"
          ],
          [
           "3476_7"
          ],
          [
           null
          ],
          [
           "3476_9"
          ],
          [
           null
          ],
          [
           null
          ],
          [
           "3476_12"
          ],
          [
           "3476_13"
          ],
          [
           "3476_14"
          ],
          [
           null
          ],
          [
           "3483_1"
          ],
          [
           "3483_2"
          ],
          [
           "3483_3"
          ],
          [
           "3483_4"
          ],
          [
           "3483_5"
          ],
          [
           "3483_6"
          ],
          [
           null
          ],
          [
           "3483_8"
          ],
          [
           "3483_9"
          ],
          [
           "3483_10"
          ],
          [
           "3483_11"
          ],
          [
           "3483_12"
          ],
          [
           "3483_13"
          ],
          [
           "3483_14"
          ],
          [
           "3483_15"
          ],
          [
           "3498_1"
          ],
          [
           "3498_2"
          ],
          [
           "3498_3"
          ],
          [
           "3498_4"
          ],
          [
           "3498_5"
          ],
          [
           "3498_6"
          ],
          [
           "3498_7"
          ],
          [
           "3498_8"
          ],
          [
           "3498_9"
          ],
          [
           "3498_10"
          ],
          [
           "3498_11"
          ],
          [
           "3498_12"
          ],
          [
           "3498_13"
          ],
          [
           "3498_14"
          ],
          [
           null
          ],
          [
           "50810B_1"
          ],
          [
           null
          ],
          [
           "50810B_3"
          ],
          [
           "50810B_4"
          ],
          [
           "50810B_5"
          ],
          [
           "50810B_6"
          ],
          [
           "50810B_7"
          ],
          [
           "50810B_8"
          ],
          [
           "50810B_9"
          ],
          [
           "50810B_10"
          ],
          [
           "50810B_11"
          ],
          [
           "50810B_12"
          ],
          [
           "50810B_13"
          ],
          [
           "50810B_14"
          ],
          [
           "50810B_15"
          ],
          [
           "50810C_1"
          ],
          [
           null
          ],
          [
           "50810C_3"
          ],
          [
           "50810C_4"
          ],
          [
           "50810C_5"
          ],
          [
           "50810C_6"
          ],
          [
           "50810C_7"
          ],
          [
           "50810C_8"
          ],
          [
           "50810C_9"
          ],
          [
           "50810C_10"
          ],
          [
           "50810C_11"
          ],
          [
           "50810C_12"
          ],
          [
           "50810C_13"
          ],
          [
           "50810C_14"
          ],
          [
           "50810C_15"
          ],
          [
           null
          ],
          [
           "50810E_2"
          ],
          [
           "50810E_3"
          ],
          [
           "50810E_4"
          ],
          [
           null
          ],
          [
           "50810E_6"
          ],
          [
           "50810E_7"
          ],
          [
           "50810E_8"
          ],
          [
           "50810E_9"
          ],
          [
           "50810E_10"
          ],
          [
           "50810E_11"
          ],
          [
           "50810E_12"
          ],
          [
           "50810E_13"
          ],
          [
           "50810E_14"
          ],
          [
           "50810E_15"
          ],
          [
           "3421_1"
          ],
          [
           "3421_2"
          ],
          [
           "3421_3"
          ],
          [
           "3421_4"
          ],
          [
           "3421_5"
          ],
          [
           "3421_6"
          ],
          [
           "3421_7"
          ],
          [
           "3421_8"
          ],
          [
           null
          ],
          [
           "3421_10"
          ],
          [
           "3421_11"
          ],
          [
           "3421_12"
          ],
          [
           "3421_13"
          ],
          [
           "3421_14"
          ],
          [
           "3421_15"
          ],
          [
           "3425_1"
          ],
          [
           "3425_2"
          ],
          [
           "3425_3"
          ],
          [
           "3425_4"
          ],
          [
           "3425_5"
          ],
          [
           "3425_6"
          ],
          [
           "3425_7"
          ],
          [
           null
          ],
          [
           "3425_9"
          ],
          [
           "3425_10"
          ],
          [
           "3425_11"
          ],
          [
           "3425_12"
          ]
         ],
         "hovertemplate": "0=%{x}<br>1=%{y}<br>2=%{z}<br>Feature=%{customdata[0]}<br>Anomaly=%{marker.color}<extra></extra>",
         "legendgroup": "",
         "marker": {
          "color": [
           0,
           0,
           0,
           1,
           0,
           0,
           0,
           0,
           0,
           0,
           0,
           0,
           0,
           0,
           0,
           0,
           0,
           0,
           0,
           0,
           0,
           0,
           0,
           0,
           0,
           0,
           0,
           0,
           1,
           0,
           0,
           0,
           0,
           0,
           1,
           0,
           0,
           0,
           0,
           0,
           0,
           0,
           0,
           0,
           0,
           0,
           0,
           0,
           0,
           0,
           0,
           0,
           0,
           0,
           0,
           0,
           0,
           0,
           0,
           0,
           0,
           0,
           0,
           0,
           0,
           0,
           0,
           0,
           0,
           0,
           0,
           0,
           0,
           0,
           0,
           0,
           0,
           0,
           0,
           0,
           1,
           0,
           0,
           0,
           0,
           0,
           0,
           0,
           0,
           0,
           0,
           0,
           0,
           1,
           0,
           0,
           0,
           0,
           0,
           0,
           0,
           0,
           0,
           0,
           0,
           0,
           0,
           0,
           0,
           0,
           0,
           0,
           1,
           0,
           1,
           0,
           0,
           0,
           0,
           0,
           0,
           1,
           0,
           0,
           0,
           0,
           0,
           0,
           0,
           0,
           0,
           1,
           0,
           0,
           0,
           0,
           0,
           0,
           0,
           0,
           0,
           0,
           0,
           0,
           0,
           0,
           0,
           0,
           0,
           0,
           0,
           0,
           0,
           0,
           0,
           0,
           0,
           1,
           0,
           0,
           0,
           0,
           0,
           0,
           0,
           0,
           0,
           0,
           0,
           0,
           0,
           0,
           0,
           0,
           0,
           0,
           0,
           0,
           0,
           0,
           0,
           0,
           0,
           0,
           0,
           0,
           0,
           0,
           0,
           0,
           0,
           0,
           0,
           0,
           0,
           0,
           0,
           0,
           0,
           0,
           0,
           0,
           0,
           0,
           1,
           0,
           0,
           0,
           0,
           0,
           0,
           0,
           0,
           0,
           0,
           0,
           0,
           0,
           0,
           1,
           0,
           0,
           0,
           0,
           0,
           0,
           0,
           0,
           0,
           0,
           1,
           1,
           0,
           0,
           0,
           0,
           0,
           0,
           0,
           0,
           0,
           0,
           0,
           0,
           0,
           0,
           0,
           0,
           0,
           0,
           0,
           0,
           0,
           0,
           0,
           0,
           0,
           0,
           0,
           0,
           0,
           0,
           0,
           0,
           0,
           0,
           0,
           0,
           0,
           0,
           0,
           0,
           1,
           0,
           0,
           0,
           0,
           0,
           0,
           0,
           0,
           0,
           0,
           0,
           0,
           0,
           0,
           0,
           0,
           0,
           0,
           0,
           0,
           0,
           0,
           0,
           0,
           0,
           0,
           0,
           0,
           1,
           0,
           0,
           0,
           0,
           0,
           0,
           0,
           0,
           0,
           0,
           0,
           0,
           0,
           0,
           0,
           0,
           0,
           0,
           0,
           0,
           0,
           0,
           0,
           0,
           0,
           0,
           0,
           0,
           1,
           0,
           0,
           0,
           0,
           0,
           0,
           0,
           0,
           0,
           0,
           0,
           0,
           0,
           0,
           0,
           0,
           0,
           0,
           0,
           0,
           0,
           0,
           0,
           0,
           0,
           0,
           0,
           0,
           0,
           0,
           0,
           0,
           0,
           0,
           0,
           0,
           0,
           0,
           0,
           0,
           0,
           0,
           0,
           0,
           0,
           1,
           0,
           0,
           1,
           0,
           0,
           0,
           0,
           0,
           0,
           0,
           0,
           0,
           0,
           0,
           0,
           0,
           0,
           1,
           1,
           0,
           0,
           0,
           0,
           0,
           0,
           0,
           0,
           0,
           0,
           0,
           0,
           0,
           0,
           0,
           0,
           0,
           0,
           0,
           0,
           0,
           0,
           0,
           0,
           0,
           0,
           1,
           0,
           0,
           0,
           0,
           0,
           1,
           0,
           0,
           0,
           0,
           0,
           0,
           0,
           0,
           0,
           0,
           0,
           0,
           0,
           0,
           0,
           0,
           0,
           0,
           0,
           0,
           0,
           0,
           0,
           0,
           0,
           0,
           0,
           0,
           0,
           0,
           0,
           0,
           0,
           0,
           0,
           0,
           0,
           0,
           0,
           0,
           0,
           0,
           0,
           0,
           0,
           1,
           0,
           0,
           0,
           0,
           0,
           0,
           0,
           0,
           0,
           0,
           0,
           0,
           0,
           0,
           0,
           0,
           0,
           0,
           0,
           0,
           0,
           0,
           0,
           0,
           0,
           0,
           0,
           0,
           0,
           0,
           0,
           0,
           0,
           0,
           0,
           0,
           1,
           0,
           0,
           0,
           0,
           0,
           0,
           0,
           0,
           0,
           0,
           0,
           0,
           0,
           0,
           0,
           0,
           0,
           0,
           0,
           0,
           0,
           0,
           1,
           0,
           1,
           0,
           0,
           0,
           0,
           0,
           0,
           0,
           0,
           0,
           0,
           0,
           0,
           1,
           0,
           0,
           0,
           0,
           0,
           0,
           0,
           0,
           0,
           0,
           0,
           0,
           0,
           0,
           0,
           0,
           1,
           0,
           0,
           0,
           0,
           0,
           0,
           0,
           0,
           0,
           0,
           0,
           0,
           0,
           0,
           0,
           0,
           0,
           0,
           0,
           0,
           0,
           0,
           0,
           0,
           0,
           0,
           0,
           0,
           0,
           1,
           0,
           0,
           1,
           0,
           0,
           0,
           0,
           0,
           0,
           0,
           0,
           0,
           0,
           0,
           0,
           0,
           0,
           0,
           0,
           0,
           0,
           0,
           0,
           0,
           0,
           0,
           0,
           0,
           0,
           0,
           0,
           0,
           0,
           0,
           0,
           0,
           0,
           0,
           0,
           0,
           0,
           0,
           0,
           0,
           0,
           0,
           0,
           0,
           0,
           0,
           0,
           0,
           0,
           1,
           0,
           1,
           0,
           0,
           0,
           0,
           0,
           0,
           0,
           1,
           0,
           0,
           0,
           0,
           0,
           0,
           0,
           0,
           0,
           0,
           0,
           0,
           0,
           0,
           0,
           0,
           0,
           0,
           0,
           0,
           0,
           0,
           0,
           0,
           0,
           0,
           0,
           0,
           0,
           0,
           0,
           0,
           0,
           0,
           0,
           0,
           0,
           0,
           0,
           0,
           0,
           0,
           0,
           0,
           0,
           0,
           0,
           0,
           0,
           0,
           0,
           0,
           0,
           0,
           0,
           0,
           0,
           0,
           0,
           0,
           0,
           0,
           0,
           0,
           0,
           0,
           0,
           0,
           0,
           0,
           0,
           0,
           0,
           0,
           0,
           0,
           0,
           1,
           0,
           0,
           0,
           0,
           0,
           0,
           0,
           0,
           0,
           0,
           1,
           0,
           0,
           1,
           0,
           0,
           0,
           0,
           0,
           0,
           0,
           0,
           0,
           0,
           0,
           0,
           0,
           0,
           0,
           0,
           0,
           0,
           0,
           1,
           0,
           1,
           0,
           0,
           0,
           0,
           0,
           0,
           1,
           0,
           0,
           0,
           0,
           0,
           0,
           0,
           0,
           0,
           0,
           0,
           0,
           0,
           0,
           0,
           0,
           0,
           0,
           0,
           0,
           0,
           0,
           0,
           0,
           0,
           0,
           0,
           0,
           0,
           1,
           0,
           0,
           0,
           0,
           0,
           0,
           0,
           0,
           0,
           0,
           0,
           0,
           0,
           0,
           0,
           0,
           0,
           0,
           0,
           0,
           0,
           0,
           1,
           0,
           1,
           0,
           0,
           0,
           0,
           0,
           0,
           0,
           0,
           0,
           0,
           0,
           0,
           0,
           0,
           0,
           0,
           0,
           0,
           0,
           0,
           1,
           0,
           0,
           0,
           0,
           0,
           0,
           0,
           0,
           0,
           0,
           0,
           0,
           0,
           1,
           0,
           0,
           0,
           0,
           1,
           0,
           0,
           0,
           0,
           0,
           0,
           0,
           0,
           0,
           0,
           0,
           0,
           0,
           0,
           0,
           0,
           0,
           0,
           0,
           0,
           0,
           0,
           0,
           0,
           0,
           0,
           0,
           0,
           0,
           1,
           0,
           0,
           0,
           0,
           1,
           0,
           0,
           0,
           0,
           0,
           0,
           0,
           0,
           0,
           0,
           0,
           0,
           0,
           0,
           0,
           0,
           0,
           0,
           0,
           0,
           0,
           0,
           0,
           0,
           0,
           0,
           0,
           0,
           0,
           0,
           0,
           0,
           0,
           0,
           0,
           0,
           0,
           0,
           0,
           0,
           0,
           0,
           0,
           0,
           1,
           0,
           0,
           0,
           0,
           0,
           0,
           0,
           0,
           0,
           0,
           0,
           0,
           0,
           0,
           0
          ],
          "coloraxis": "coloraxis",
          "opacity": 0.7,
          "symbol": "circle"
         },
         "mode": "markers",
         "name": "",
         "scene": "scene",
         "showlegend": false,
         "type": "scatter3d",
         "x": [
          -0.6090564727783203,
          5.142828941345215,
          -6.738253593444824,
          -1.7254843711853027,
          2.4834539890289307,
          1.580823540687561,
          0.4197063744068146,
          1.853886365890503,
          1.699088215827942,
          4.11920690536499,
          -5.584895610809326,
          -5.293295860290527,
          2.278859853744507,
          0.5251455307006836,
          -4.548924446105957,
          -7.932231426239014,
          -11.460318565368652,
          -9.474884033203125,
          2.646785259246826,
          -0.8654607534408569,
          1.2469346523284912,
          7.119082450866699,
          4.002257347106934,
          -9.358040809631348,
          0.47285521030426025,
          6.476831436157227,
          3.450537919998169,
          6.987159729003906,
          4.9671311378479,
          5.501682281494141,
          -11.235654830932617,
          -4.070071697235107,
          -6.961915016174316,
          4.83381986618042,
          4.842121124267578,
          -3.9847047328948975,
          9.953786849975586,
          0.4032311737537384,
          -8.066950798034668,
          -10.811500549316406,
          9.089816093444824,
          2.9972872734069824,
          -7.516460418701172,
          9.210232734680176,
          5.434815406799316,
          -11.85440444946289,
          -4.334298133850098,
          -0.2840218245983124,
          -3.6927225589752197,
          6.834870338439941,
          -0.40385398268699646,
          -3.29797625541687,
          -1.579392671585083,
          1.6963441371917725,
          9.4138765335083,
          -4.289440631866455,
          10.920692443847656,
          -1.466814637184143,
          1.6243373155593872,
          10.588340759277344,
          5.560539245605469,
          2.5577592849731445,
          -1.089612364768982,
          -1.8736729621887207,
          -12.122469902038574,
          5.8970046043396,
          0.5025255084037781,
          -8.14127254486084,
          5.125645637512207,
          0.30875545740127563,
          8.367940902709961,
          -2.255492925643921,
          3.078002691268921,
          2.3587896823883057,
          -3.216643810272217,
          -10.242122650146484,
          2.3357460498809814,
          -0.6178265810012817,
          4.230439186096191,
          -2.0603787899017334,
          -1.5804798603057861,
          10.599425315856934,
          4.4354119300842285,
          -2.2268640995025635,
          10.077078819274902,
          4.3812642097473145,
          -4.34194278717041,
          3.082528591156006,
          -4.7775068283081055,
          10.486085891723633,
          8.877402305603027,
          0.1551339477300644,
          0.9214562773704529,
          -1.770900011062622,
          -7.398097515106201,
          -3.6621551513671875,
          3.0286407470703125,
          -3.5850467681884766,
          7.641193389892578,
          -0.6079045534133911,
          1.3871742486953735,
          7.366319179534912,
          3.919250011444092,
          -3.974022626876831,
          -2.3063013553619385,
          -7.019205093383789,
          -0.2772146165370941,
          10.494102478027344,
          -6.6810455322265625,
          -7.6796956062316895,
          2.2739739418029785,
          10.367687225341797,
          10.693822860717773,
          6.520651817321777,
          -10.088530540466309,
          -7.564115047454834,
          12.171442031860352,
          9.614501953125,
          -1.9063400030136108,
          8.655434608459473,
          4.86937141418457,
          -4.814292907714844,
          -10.814438819885254,
          4.583970546722412,
          7.496577262878418,
          -0.15001381933689117,
          -10.429189682006836,
          -2.942551612854004,
          -7.476276397705078,
          -2.6026477813720703,
          8.533662796020508,
          0.5422142148017883,
          2.759453535079956,
          0.20757512748241425,
          5.745851516723633,
          5.552204132080078,
          -2.67734956741333,
          7.138161659240723,
          8.316864013671875,
          -13.128643035888672,
          8.25687313079834,
          -12.223712921142578,
          -0.02011341229081154,
          -5.700157165527344,
          5.555896759033203,
          8.09409236907959,
          -0.6676995158195496,
          -3.748763084411621,
          -3.2314367294311523,
          -6.721706867218018,
          4.832589626312256,
          -10.704608917236328,
          -3.931934356689453,
          1.6223336458206177,
          -11.738245010375977,
          2.462315320968628,
          -5.308107852935791,
          8.751336097717285,
          -0.4653887152671814,
          -11.15326976776123,
          -5.086307048797607,
          -5.930123805999756,
          -6.7409844398498535,
          -1.7808928489685059,
          -7.155577659606934,
          -4.0435028076171875,
          -0.473539799451828,
          7.9797186851501465,
          5.747953414916992,
          -8.024348258972168,
          -1.7838443517684937,
          6.047679424285889,
          8.889518737792969,
          -1.93135666847229,
          -5.876043796539307,
          5.884356498718262,
          8.491446495056152,
          1.9501357078552246,
          -2.251504421234131,
          10.917335510253906,
          -1.9120051860809326,
          8.811921119689941,
          -5.748857498168945,
          -2.817690849304199,
          -10.322819709777832,
          6.436172008514404,
          6.8214006423950195,
          8.480225563049316,
          -6.867403507232666,
          13.767794609069824,
          0.38687747716903687,
          3.9159703254699707,
          1.0813090801239014,
          -3.4144608974456787,
          9.275339126586914,
          10.102953910827637,
          0.23475141823291779,
          -1.4799963235855103,
          -4.553705215454102,
          -2.4981956481933594,
          -2.610638380050659,
          2.4524052143096924,
          -0.10067487508058548,
          3.928913116455078,
          -1.0033693313598633,
          5.562603950500488,
          -7.424412250518799,
          5.075340747833252,
          -0.8533981442451477,
          2.9327776432037354,
          -0.45954588055610657,
          5.829564571380615,
          10.838886260986328,
          2.4807851314544678,
          -9.088706016540527,
          -3.424264430999756,
          -3.5534675121307373,
          -1.3782185316085815,
          7.898612976074219,
          -1.2244393825531006,
          0.05611591786146164,
          1.9084035158157349,
          3.418269157409668,
          -12.218430519104004,
          1.6898797750473022,
          1.20182204246521,
          -3.3675107955932617,
          -7.769368648529053,
          -8.697958946228027,
          -3.3102660179138184,
          2.0028347969055176,
          6.978946685791016,
          -7.070082664489746,
          0.8167788982391357,
          1.5991499423980713,
          -3.2599282264709473,
          8.650185585021973,
          -1.389359712600708,
          -2.9660751819610596,
          -3.260120391845703,
          1.2731904983520508,
          0.529568076133728,
          8.303821563720703,
          -8.034391403198242,
          7.098587989807129,
          7.979714393615723,
          2.5997495651245117,
          13.430221557617188,
          2.802368640899658,
          4.7344536781311035,
          -8.450181007385254,
          -4.80853796005249,
          -2.238976001739502,
          -2.9204792976379395,
          -1.1061958074569702,
          8.877243995666504,
          -7.491894721984863,
          7.251834869384766,
          -6.892263889312744,
          7.945828914642334,
          7.769407272338867,
          -9.600881576538086,
          -6.681302070617676,
          4.704901218414307,
          -3.2701423168182373,
          3.5461299419403076,
          3.1647937297821045,
          3.7553813457489014,
          -8.98974895477295,
          9.52596664428711,
          -0.596226155757904,
          -9.19531536102295,
          10.245319366455078,
          1.213997483253479,
          5.900399684906006,
          -5.773519992828369,
          1.7252960205078125,
          0.26534053683280945,
          4.303539752960205,
          -13.662806510925293,
          -8.486656188964844,
          -0.781363844871521,
          -4.685245990753174,
          3.762540578842163,
          4.839210510253906,
          4.587154865264893,
          -8.69938850402832,
          3.871155023574829,
          7.330582618713379,
          -10.896831512451172,
          5.902857780456543,
          3.3045568466186523,
          -11.591193199157715,
          3.2597668170928955,
          8.57119369506836,
          -3.552724599838257,
          5.170511722564697,
          -0.6303215026855469,
          9.79769229888916,
          -11.510258674621582,
          -11.415274620056152,
          10.205497741699219,
          -4.825570583343506,
          -12.103397369384766,
          -12.85964298248291,
          6.854214191436768,
          1.570014476776123,
          -3.476304054260254,
          3.864917278289795,
          5.224191188812256,
          1.6334919929504395,
          -3.1212165355682373,
          -11.079888343811035,
          -4.00557279586792,
          -1.641099214553833,
          9.10384750366211,
          -6.050003528594971,
          2.818127155303955,
          4.463748455047607,
          -2.557023763656616,
          6.3970465660095215,
          1.7720649242401123,
          -1.2365169525146484,
          -5.771183490753174,
          -11.36292839050293,
          5.765066623687744,
          -7.375471115112305,
          3.6724088191986084,
          3.0560951232910156,
          6.899492263793945,
          9.337047576904297,
          -7.894409656524658,
          8.6292142868042,
          9.672260284423828,
          -4.308913230895996,
          3.566434860229492,
          1.4144777059555054,
          5.148814678192139,
          13.570996284484863,
          -0.676604151725769,
          1.3337681293487549,
          7.937026500701904,
          1.3654553890228271,
          -4.821523666381836,
          6.541236400604248,
          -2.9494667053222656,
          5.991318225860596,
          7.611396312713623,
          2.600825548171997,
          1.3069883584976196,
          -2.509810447692871,
          -2.0830671787261963,
          -9.068856239318848,
          -12.952282905578613,
          -3.2204232215881348,
          -8.528841018676758,
          -6.785735130310059,
          7.521838188171387,
          2.6346726417541504,
          12.461414337158203,
          -5.219131946563721,
          9.170004844665527,
          -6.207484245300293,
          -4.215461254119873,
          -10.857353210449219,
          3.1380369663238525,
          6.995703220367432,
          12.589742660522461,
          -10.058341979980469,
          -2.0174872875213623,
          3.4094901084899902,
          -3.291152000427246,
          -6.81484317779541,
          -7.368345260620117,
          -7.182949542999268,
          -3.554093837738037,
          4.58221960067749,
          10.417987823486328,
          -4.104409694671631,
          9.003671646118164,
          3.2814221382141113,
          -0.8142822980880737,
          6.603645324707031,
          -11.027689933776855,
          2.8162214756011963,
          9.745997428894043,
          -5.357483386993408,
          -0.22192919254302979,
          -1.7655678987503052,
          -10.256800651550293,
          -7.884286403656006,
          9.034750938415527,
          -2.2097465991973877,
          -11.44655990600586,
          -4.777716636657715,
          2.488264322280884,
          4.961668491363525,
          -10.52660083770752,
          5.339000225067139,
          0.02155848778784275,
          -7.047622203826904,
          -3.863377094268799,
          5.916840076446533,
          -2.1080636978149414,
          -7.543337821960449,
          3.7413573265075684,
          -2.833035707473755,
          9.059470176696777,
          5.363905906677246,
          2.3914146423339844,
          -5.48475456237793,
          -5.944620609283447,
          6.605787754058838,
          -7.1714067459106445,
          2.787081241607666,
          3.848461389541626,
          -4.9260759353637695,
          -10.829702377319336,
          5.924391746520996,
          2.387514114379883,
          1.2756984233856201,
          8.653796195983887,
          2.8052480220794678,
          -7.029445171356201,
          9.930848121643066,
          7.164503574371338,
          5.3717474937438965,
          6.60630989074707,
          4.710146427154541,
          -2.094261646270752,
          -6.172670841217041,
          -0.11590739339590073,
          8.875669479370117,
          -6.64670991897583,
          -6.645841598510742,
          9.664749145507812,
          8.959128379821777,
          -7.19895076751709,
          -6.419785976409912,
          -9.433252334594727,
          0.8860527873039246,
          -11.508376121520996,
          1.2517884969711304,
          9.743785858154297,
          9.555747985839844,
          -6.734774112701416,
          3.174372434616089,
          -1.2503201961517334,
          -12.864985466003418,
          6.629480361938477,
          -11.00729751586914,
          0.32653188705444336,
          -1.4895840883255005,
          -7.852158069610596,
          -5.0163655281066895,
          5.931805610656738,
          5.419272422790527,
          -9.104798316955566,
          6.7627363204956055,
          0.9181114435195923,
          -2.613762140274048,
          0.8839384913444519,
          2.232340097427368,
          -1.7713984251022339,
          -4.319068431854248,
          2.4290361404418945,
          -8.691693305969238,
          4.653660297393799,
          -4.139303684234619,
          -2.085095167160034,
          -2.64912748336792,
          -4.677357196807861,
          4.374666213989258,
          -10.565906524658203,
          5.0953545570373535,
          -1.353328824043274,
          -13.62759780883789,
          -6.843562126159668,
          -0.48667478561401367,
          7.248029708862305,
          3.100219964981079,
          -6.0714006423950195,
          13.775997161865234,
          8.243779182434082,
          9.48334789276123,
          -2.0999996662139893,
          -2.381917953491211,
          8.931768417358398,
          1.2914516925811768,
          -7.135950088500977,
          -2.235557794570923,
          5.414902687072754,
          -3.2527265548706055,
          -5.209547996520996,
          4.900661468505859,
          -2.0429396629333496,
          5.095891952514648,
          2.619473934173584,
          -3.8532214164733887,
          5.807855606079102,
          -9.653726577758789,
          0.23468095064163208,
          4.243551731109619,
          8.68230152130127,
          1.753142237663269,
          -10.291766166687012,
          6.847795486450195,
          -9.26161003112793,
          -9.463129043579102,
          5.401754379272461,
          -3.6808390617370605,
          -5.304481029510498,
          1.24610435962677,
          6.467261791229248,
          -0.2104911208152771,
          -2.933115005493164,
          4.286618232727051,
          10.914483070373535,
          -1.3226449489593506,
          -3.5882010459899902,
          4.7348432540893555,
          1.8856199979782104,
          5.150735378265381,
          -11.554519653320312,
          -10.679817199707031,
          -3.0081024169921875,
          -9.691359519958496,
          -11.631080627441406,
          2.2617454528808594,
          -4.097968578338623,
          -7.213888168334961,
          5.041374683380127,
          5.734066009521484,
          1.470013976097107,
          -6.81803035736084,
          -9.698381423950195,
          10.982369422912598,
          1.5898529291152954,
          5.993529796600342,
          2.3074562549591064,
          -2.5284950733184814,
          -1.5150257349014282,
          -1.9668896198272705,
          -3.448704957962036,
          1.6448700428009033,
          8.123412132263184,
          1.667181134223938,
          6.002233982086182,
          0.9686675071716309,
          -0.8412607312202454,
          -4.021182060241699,
          -11.588839530944824,
          12.661670684814453,
          4.595175266265869,
          -5.181351184844971,
          -2.1666100025177,
          2.497401237487793,
          -4.010448932647705,
          -1.2809659242630005,
          5.173365592956543,
          -1.4027374982833862,
          -1.3934392929077148,
          1.1496156454086304,
          -6.893773078918457,
          -6.587772369384766,
          5.598693370819092,
          4.307564735412598,
          2.2591404914855957,
          -7.8744049072265625,
          -13.679974555969238,
          3.375333309173584,
          -3.818777084350586,
          9.766880989074707,
          1.962984323501587,
          -11.581679344177246,
          -1.2303597927093506,
          -0.13560567796230316,
          2.075221300125122,
          -3.5137341022491455,
          0.4357445240020752,
          -10.117507934570312,
          1.2636375427246094,
          4.438009262084961,
          -13.182350158691406,
          -0.952843427658081,
          -2.611311674118042,
          -0.9935189485549927,
          11.400513648986816,
          -12.452659606933594,
          -5.847968578338623,
          -10.410419464111328,
          1.4007986783981323,
          0.34843316674232483,
          -0.3364362418651581,
          -4.746753692626953,
          -4.892762660980225,
          -10.133492469787598,
          -0.36930981278419495,
          8.251786231994629,
          2.908665180206299,
          4.065648555755615,
          -2.0607142448425293,
          -4.944573402404785,
          -3.110914945602417,
          10.400141716003418,
          4.296465873718262,
          3.638296365737915,
          -6.290772914886475,
          -0.3712325692176819,
          -14.073469161987305,
          8.991927146911621,
          2.2935497760772705,
          -10.017212867736816,
          0.2854301333427429,
          1.5982919931411743,
          5.589569568634033,
          -13.517643928527832,
          3.9628114700317383,
          3.71610951423645,
          9.422059059143066,
          5.549017429351807,
          -11.551105499267578,
          5.711934566497803,
          5.25642204284668,
          1.8610501289367676,
          -4.582025051116943,
          1.1677508354187012,
          -0.37846890091896057,
          -7.345385551452637,
          -3.6140215396881104,
          -0.9672945737838745,
          1.6494492292404175,
          -10.356520652770996,
          12.549834251403809,
          3.207890033721924,
          -7.3842010498046875,
          0.8769530057907104,
          0.7202543616294861,
          -2.186109781265259,
          -2.786698818206787,
          9.753561019897461,
          -7.777746200561523,
          8.23517894744873,
          -0.27362409234046936,
          -4.357614994049072,
          -0.5461452603340149,
          -1.7338037490844727,
          9.095541000366211,
          5.714841842651367,
          -9.124131202697754,
          -5.076099395751953,
          1.0830092430114746,
          -3.085510015487671,
          8.803535461425781,
          -0.7425323724746704,
          6.795599937438965,
          -3.1797447204589844,
          -4.112270832061768,
          4.553692817687988,
          -9.506143569946289,
          5.860887050628662,
          5.775897979736328,
          -7.626083850860596,
          6.950097560882568,
          -8.936188697814941,
          -10.681989669799805,
          -2.8954834938049316,
          -1.7067534923553467,
          -3.0888168811798096,
          5.368666172027588,
          -7.097695350646973,
          12.764168739318848,
          3.1989033222198486,
          0.9470768570899963,
          0.8642439842224121,
          1.089091181755066,
          -0.24059529602527618,
          -8.942658424377441,
          7.223112106323242,
          2.212400197982788,
          -9.796181678771973,
          1.3416156768798828,
          1.0505481958389282,
          -0.6974636316299438,
          6.573343753814697,
          -1.545471429824829,
          -0.8652433753013611,
          4.7472758293151855,
          8.128911972045898,
          -5.190842151641846,
          4.239009380340576,
          -5.341322898864746,
          -10.492443084716797,
          0.6362279653549194,
          2.981873035430908,
          -5.173925876617432,
          -8.588251113891602,
          0.4875361919403076,
          -8.832608222961426,
          -13.538224220275879,
          0.04742148146033287,
          13.567941665649414,
          -3.3770933151245117,
          0.7979897260665894,
          -5.297129154205322,
          3.935167074203491,
          8.734834671020508,
          5.275485992431641,
          -11.124692916870117,
          5.021684646606445,
          -8.35006332397461,
          -6.167322158813477,
          -13.526335716247559,
          -3.029221534729004,
          5.861730098724365,
          -1.1527472734451294,
          10.351264953613281,
          -2.3027374744415283,
          1.1568942070007324,
          7.335355281829834,
          5.902164936065674,
          -4.550388336181641,
          8.460895538330078,
          -3.173844337463379,
          5.796206951141357,
          3.166489601135254,
          -11.04342269897461,
          9.63032054901123,
          5.249767780303955,
          6.777205944061279,
          6.79915189743042,
          -4.1447038650512695,
          -5.909050464630127,
          9.041829109191895,
          -1.3524409532546997,
          -0.4814109802246094,
          7.024819374084473,
          1.521997094154358,
          -0.6825352907180786,
          -4.118831157684326,
          -8.01172161102295,
          -7.610711574554443,
          13.879889488220215,
          0.164240300655365,
          4.293797969818115,
          2.479534149169922,
          3.3510372638702393,
          4.955588340759277,
          -4.935073375701904,
          8.998074531555176,
          3.7397871017456055,
          -3.5106937885284424,
          10.590873718261719,
          12.791973114013672,
          -1.9394117593765259,
          3.0645933151245117,
          -7.0422868728637695,
          -10.227005004882812,
          -5.497702121734619,
          7.142799377441406,
          3.7567813396453857,
          -3.386977195739746,
          -10.072800636291504,
          -1.496169090270996,
          -1.891850471496582,
          7.0238938331604,
          3.668430805206299,
          -11.368185997009277,
          -4.468635082244873,
          -4.975279331207275,
          9.795940399169922,
          10.789756774902344,
          -9.913290977478027,
          -5.256194591522217,
          4.84137487411499,
          3.089700937271118,
          5.82186222076416,
          -1.1476616859436035,
          6.704810619354248,
          -6.64680814743042,
          -2.1439626216888428,
          7.11223840713501,
          -12.143357276916504,
          0.0077907792292535305,
          5.509803295135498,
          9.945737838745117,
          9.096566200256348,
          7.81919527053833,
          -7.601700305938721,
          0.46989908814430237,
          5.202601909637451,
          -1.7659839391708374,
          4.2192840576171875,
          -2.9063291549682617,
          -8.727210998535156,
          1.3678669929504395,
          4.812766075134277,
          5.3819122314453125,
          11.254716873168945,
          -2.5519330501556396,
          -10.02075481414795,
          -3.689659357070923,
          -11.468572616577148,
          -5.604493141174316,
          0.6613187193870544,
          9.56457805633545,
          3.3586015701293945,
          4.96566915512085,
          8.14327335357666,
          -9.5311918258667,
          0.8849053978919983,
          4.340317249298096,
          -9.39245891571045,
          -9.204389572143555,
          -10.897146224975586,
          -8.017951965332031,
          1.2961410284042358,
          1.1365550756454468,
          13.237031936645508,
          4.61729097366333,
          6.035923957824707,
          6.032073974609375,
          -9.009868621826172,
          -12.564349174499512,
          1.2356935739517212,
          -4.264267921447754,
          4.51234245300293,
          -1.1671562194824219,
          4.0680437088012695,
          -7.795894622802734,
          -3.9768598079681396,
          3.166093349456787,
          -12.948320388793945,
          6.950409889221191,
          -2.2157156467437744,
          9.086394309997559,
          -1.613257884979248,
          2.955695867538452,
          8.017749786376953,
          -6.859307289123535,
          -0.29214194416999817,
          -6.562312126159668,
          -1.3681964874267578,
          -2.288984537124634,
          -4.751774311065674,
          7.9658284187316895,
          6.45610237121582,
          -6.587779521942139,
          8.348630905151367,
          4.249743938446045,
          9.18449878692627,
          11.530281066894531,
          -1.1158479452133179,
          -4.828310012817383,
          10.52807903289795,
          8.270768165588379,
          -2.8355607986450195,
          -0.8277498483657837,
          -8.5988130569458,
          9.843050956726074,
          5.762745380401611,
          -0.06836418062448502,
          -1.5970025062561035,
          -7.642053604125977,
          -5.399090766906738,
          -8.286321640014648,
          -11.044526100158691,
          -13.550390243530273,
          -4.758215427398682,
          6.305148601531982,
          -0.19138988852500916,
          10.768960952758789,
          -1.858952283859253,
          8.380841255187988,
          0.19121690094470978,
          5.713225841522217,
          1.0263479948043823,
          3.9938037395477295,
          1.2420214414596558,
          -5.321026802062988,
          0.06172073632478714,
          -3.1983249187469482,
          10.57903003692627,
          -10.063368797302246,
          6.269840240478516,
          8.495710372924805,
          0.6859313249588013,
          -1.1989436149597168,
          6.786520004272461,
          -10.927803993225098,
          -9.782402992248535,
          8.464293479919434,
          1.0273463726043701,
          2.132338285446167,
          -0.03290439397096634,
          -3.5350184440612793,
          1.3041354417800903,
          6.474952220916748,
          -6.933853626251221,
          2.4687013626098633,
          -3.4644434452056885,
          9.809314727783203,
          6.270531177520752,
          2.840264081954956,
          10.005475997924805,
          2.7807722091674805,
          -1.1041797399520874,
          5.382748603820801,
          2.6182494163513184,
          3.0989131927490234,
          -2.0238919258117676,
          8.947750091552734,
          9.60647201538086,
          7.681469917297363,
          7.610640048980713,
          -6.188626766204834,
          -2.415064811706543,
          -4.369025707244873,
          1.3627419471740723,
          -3.1085050106048584,
          5.6558146476745605,
          2.0727314949035645,
          -11.438570976257324,
          4.988798141479492,
          -4.716678142547607,
          -0.7669841647148132,
          -9.941512107849121,
          -3.7373976707458496,
          -2.4099676609039307,
          9.836264610290527,
          6.564892768859863,
          -5.849836826324463,
          -3.4389724731445312,
          9.423421859741211,
          8.119528770446777,
          9.355963706970215,
          -6.624054908752441,
          5.536728382110596,
          -13.16760540008545,
          9.107873916625977,
          2.7400436401367188,
          -3.1598551273345947,
          6.070672035217285,
          0.4735889434814453,
          -2.0367770195007324,
          11.240212440490723,
          -8.238776206970215,
          -11.007901191711426,
          8.851706504821777,
          -4.153405666351318,
          1.6018273830413818,
          -3.2424473762512207,
          3.561408281326294,
          9.723774909973145,
          4.356197834014893,
          6.725740909576416,
          4.799071788787842,
          12.229867935180664,
          9.875701904296875,
          -2.3030691146850586,
          -10.490557670593262,
          -3.1687519550323486,
          2.5835788249969482,
          -9.385679244995117,
          4.193355560302734,
          -1.3396632671356201,
          2.330935478210449,
          8.117937088012695,
          -11.957451820373535,
          2.740325689315796,
          4.928711891174316,
          -3.5970306396484375
         ],
         "y": [
          3.1124494075775146,
          -4.261313438415527,
          10.050514221191406,
          13.37605094909668,
          9.389777183532715,
          -11.294445037841797,
          2.360140323638916,
          4.733956336975098,
          -12.636630058288574,
          -4.784788131713867,
          -7.53999662399292,
          -7.637863636016846,
          -4.671525478363037,
          2.6178972721099854,
          -15.541624069213867,
          -1.9128159284591675,
          -4.126738548278809,
          -5.411375999450684,
          -6.721156597137451,
          8.244746208190918,
          4.854254245758057,
          -9.063252449035645,
          10.920462608337402,
          -13.602903366088867,
          -7.859541893005371,
          -9.430782318115234,
          5.432116508483887,
          7.109703063964844,
          -1.565581202507019,
          12.48765754699707,
          -13.31908130645752,
          -2.4761159420013428,
          -16.166370391845703,
          -2.764556407928467,
          0.3780285120010376,
          -14.584769248962402,
          7.987921714782715,
          2.0783839225769043,
          -16.113067626953125,
          -13.14790153503418,
          18.288211822509766,
          15.667978286743164,
          -7.748754978179932,
          17.922544479370117,
          11.080097198486328,
          -4.619150638580322,
          -2.532153606414795,
          3.5184073448181152,
          15.244802474975586,
          -10.484071731567383,
          2.630885362625122,
          11.25939655303955,
          -12.388228416442871,
          14.319384574890137,
          -5.635939598083496,
          16.04605484008789,
          5.908903121948242,
          -11.806744575500488,
          3.8645734786987305,
          4.957386016845703,
          13.348614692687988,
          9.210762977600098,
          8.086304664611816,
          16.886375427246094,
          -7.448431968688965,
          -2.385610818862915,
          2.9124059677124023,
          -6.162170886993408,
          -2.8574016094207764,
          2.7693753242492676,
          13.128765106201172,
          -11.436553001403809,
          0.04803122580051422,
          -0.49355247616767883,
          -11.53951644897461,
          -5.041622638702393,
          4.90079402923584,
          9.29483413696289,
          7.607865333557129,
          -9.97645378112793,
          13.225461959838867,
          7.27524471282959,
          -4.38115930557251,
          -15.894068717956543,
          -4.861968040466309,
          -4.693170547485352,
          13.479413986206055,
          11.015507698059082,
          12.708704948425293,
          -5.832902431488037,
          5.740817070007324,
          8.40955924987793,
          -6.682586193084717,
          17.566499710083008,
          -4.0816850662231445,
          -13.545258522033691,
          -2.404567241668701,
          16.333837509155273,
          -4.502231597900391,
          14.422066688537598,
          5.988399982452393,
          -9.77291488647461,
          4.478943824768066,
          -16.841440200805664,
          10.755688667297363,
          -10.574030876159668,
          3.0941109657287598,
          7.468614101409912,
          -2.8800337314605713,
          -10.417778968811035,
          3.457878351211548,
          -5.442980766296387,
          17.762479782104492,
          17.753501892089844,
          -19.181161880493164,
          -10.33161449432373,
          2.647127389907837,
          -5.335983753204346,
          4.325157642364502,
          10.485546112060547,
          -2.6378085613250732,
          7.333204746246338,
          -8.278592109680176,
          -2.8210604190826416,
          -4.44214391708374,
          8.190176010131836,
          -12.780999183654785,
          -15.414234161376953,
          -16.943544387817383,
          11.210712432861328,
          6.152957439422607,
          -8.191996574401855,
          9.665993690490723,
          -14.529629707336426,
          12.441253662109375,
          -0.8915367722511292,
          4.346682548522949,
          7.824766159057617,
          10.270962715148926,
          -6.65963888168335,
          5.980879783630371,
          -6.897328853607178,
          2.1868093013763428,
          -7.136011123657227,
          -1.96626615524292,
          11.977583885192871,
          -2.4622280597686768,
          -15.750161170959473,
          14.95497989654541,
          10.049932479858398,
          11.977367401123047,
          -6.555572032928467,
          2.75425386428833,
          -3.02112078666687,
          -12.767708778381348,
          8.49417495727539,
          -7.557101726531982,
          12.668778419494629,
          -11.581477165222168,
          -3.996746063232422,
          1.014381766319275,
          -15.023822784423828,
          -15.570335388183594,
          9.198850631713867,
          -11.351493835449219,
          -14.492979049682617,
          2.5614173412323,
          10.895018577575684,
          13.1480712890625,
          -16.125341415405273,
          -15.163888931274414,
          17.92129135131836,
          5.749741554260254,
          -15.00102710723877,
          -10.741436004638672,
          -2.9139602184295654,
          11.053889274597168,
          -12.12502670288086,
          -17.045175552368164,
          5.752500534057617,
          -0.8863077759742737,
          18.373544692993164,
          -15.758487701416016,
          16.424848556518555,
          -5.278817176818848,
          -9.007320404052734,
          -9.217841148376465,
          4.862582206726074,
          -2.503257989883423,
          5.869246482849121,
          1.8818752765655518,
          4.21952486038208,
          -2.606822967529297,
          17.650367736816406,
          -4.789235591888428,
          7.612893581390381,
          2.5689022541046143,
          3.1257617473602295,
          -17.79399871826172,
          -10.1438627243042,
          11.23645305633545,
          -7.197085380554199,
          -13.525656700134277,
          -4.223001003265381,
          -2.164618492126465,
          13.176446914672852,
          -8.213589668273926,
          -4.1978068351745605,
          -13.867392539978027,
          8.9447660446167,
          -1.9041999578475952,
          -2.0633819103240967,
          5.330181121826172,
          9.583847999572754,
          -8.818504333496094,
          -13.624881744384766,
          1.4915522336959839,
          3.434063196182251,
          14.46782112121582,
          13.11019229888916,
          2.560670852661133,
          4.259658336639404,
          -2.4239206314086914,
          -7.318361759185791,
          2.6335034370422363,
          -2.8140318393707275,
          -13.668475151062012,
          -6.570436954498291,
          -3.546017646789551,
          16.762771606445312,
          -4.913694381713867,
          -3.2246334552764893,
          -7.1298136711120605,
          2.491684675216675,
          3.9125123023986816,
          0.3590697944164276,
          10.51611614227295,
          17.380186080932617,
          -8.766544342041016,
          2.5322506427764893,
          4.717787742614746,
          3.4124913215637207,
          12.108391761779785,
          -16.1433162689209,
          7.697642803192139,
          10.044448852539062,
          5.798456192016602,
          4.874739646911621,
          14.875235557556152,
          9.945823669433594,
          -14.414981842041016,
          -6.307641506195068,
          -10.081856727600098,
          -9.73841667175293,
          -1.459760069847107,
          12.520974159240723,
          -0.7994968295097351,
          -5.21755838394165,
          -0.5073078870773315,
          1.1429098844528198,
          13.324562072753906,
          -2.81227445602417,
          -15.51501750946045,
          7.864660739898682,
          -13.123576164245605,
          5.059517860412598,
          5.793187618255615,
          -10.939425468444824,
          -15.763209342956543,
          4.708807468414307,
          16.122779846191406,
          -8.798301696777344,
          18.159921646118164,
          5.575355052947998,
          -1.9613709449768066,
          -5.6535162925720215,
          8.217000961303711,
          3.540684223175049,
          5.748467922210693,
          -5.6857757568359375,
          -2.013690710067749,
          14.332880973815918,
          -10.689210891723633,
          0.8247383236885071,
          8.7631196975708,
          12.065277099609375,
          -5.540779113769531,
          -10.7632417678833,
          -3.6260628700256348,
          -5.143906593322754,
          -2.1433515548706055,
          5.571178436279297,
          -2.2359838485717773,
          5.846272945404053,
          10.635184288024902,
          -13.341362953186035,
          -2.1452627182006836,
          -2.1204257011413574,
          7.291466236114502,
          -12.838089942932129,
          -14.957186698913574,
          18.02812957763672,
          -2.3577442169189453,
          -4.484506130218506,
          -3.4052505493164062,
          9.002901077270508,
          -12.753576278686523,
          9.237794876098633,
          16.102859497070312,
          10.022096633911133,
          2.637341022491455,
          -8.725571632385254,
          -4.005570888519287,
          8.2088041305542,
          -2.098642349243164,
          11.11298942565918,
          -8.143054962158203,
          -5.861252784729004,
          5.186466693878174,
          4.429047107696533,
          -2.698221445083618,
          -13.428098678588867,
          -10.260205268859863,
          -14.914957046508789,
          -14.460929870605469,
          1.015455961227417,
          -16.61508560180664,
          15.993001937866211,
          6.689766883850098,
          -9.816632270812988,
          17.78888702392578,
          -15.916154861450195,
          12.219782829284668,
          7.849928379058838,
          -10.458977699279785,
          11.04905891418457,
          -12.763047218322754,
          17.88555335998535,
          4.385330677032471,
          3.1747734546661377,
          15.803047180175781,
          1.7073007822036743,
          16.190027236938477,
          -7.838584899902344,
          11.181417465209961,
          3.563244104385376,
          17.81973648071289,
          17.133026123046875,
          10.33890151977539,
          17.040931701660156,
          15.68202018737793,
          -11.935626029968262,
          -15.639795303344727,
          -6.2410149574279785,
          -12.604357719421387,
          -1.0487195253372192,
          -0.4767396152019501,
          -10.110891342163086,
          9.619096755981445,
          3.596017837524414,
          13.348041534423828,
          7.284131050109863,
          16.53640365600586,
          1.813905954360962,
          -8.70690631866455,
          0.5145636796951294,
          6.932092666625977,
          2.4239375591278076,
          -4.443545818328857,
          -14.488802909851074,
          -11.118959426879883,
          -10.590766906738281,
          -11.138385772705078,
          -4.124337673187256,
          -10.945215225219727,
          -16.571697235107422,
          -1.4791004657745361,
          -4.876343727111816,
          13.119312286376953,
          18.084264755249023,
          9.97919750213623,
          -2.3433291912078857,
          6.424072265625,
          -12.473318099975586,
          13.575254440307617,
          7.837671279907227,
          -6.563875675201416,
          -5.944913864135742,
          -4.298422336578369,
          -4.647993087768555,
          -15.895074844360352,
          3.944124937057495,
          -12.157074928283691,
          -5.592746734619141,
          -5.946803569793701,
          -4.239265441894531,
          1.158379316329956,
          -12.92105484008789,
          -1.214864730834961,
          -14.350994110107422,
          -6.187331676483154,
          -15.256417274475098,
          -3.1894192695617676,
          -13.286880493164062,
          -10.285726547241211,
          1.2390811443328857,
          8.038562774658203,
          3.9347691535949707,
          -0.15766899287700653,
          9.62374210357666,
          16.440980911254883,
          -8.091443061828613,
          -9.068010330200195,
          -0.5659515261650085,
          2.276787757873535,
          4.806035995483398,
          2.144432783126831,
          -13.695728302001953,
          12.226866722106934,
          -5.526371479034424,
          6.393330097198486,
          10.528360366821289,
          -4.606558799743652,
          -7.818229675292969,
          4.470628261566162,
          -4.954131126403809,
          18.04872703552246,
          9.030378341674805,
          -11.990642547607422,
          -13.145261764526367,
          -18.084020614624023,
          2.109464406967163,
          4.7942681312561035,
          -0.9249774217605591,
          -3.51275372505188,
          -5.7032294273376465,
          5.629091262817383,
          -16.538415908813477,
          -15.63271427154541,
          -5.614804267883301,
          3.683723211288452,
          -13.200063705444336,
          -5.936702728271484,
          0.06684603542089462,
          8.511369705200195,
          -18.766109466552734,
          -0.30716386437416077,
          8.67602825164795,
          -3.7437713146209717,
          4.898435592651367,
          -10.15816593170166,
          -6.438979625701904,
          -9.739363670349121,
          -3.3277361392974854,
          15.766852378845215,
          -2.329416275024414,
          12.596302032470703,
          -14.498943328857422,
          -5.294415473937988,
          -12.534070014953613,
          3.2003085613250732,
          -7.896938323974609,
          -2.8028995990753174,
          8.294726371765137,
          -18.021480560302734,
          10.38208293914795,
          -3.022261381149292,
          -2.7724649906158447,
          -14.408194541931152,
          -4.677185535430908,
          4.094512462615967,
          -18.215171813964844,
          5.654422760009766,
          -13.41292667388916,
          5.6191253662109375,
          -14.711969375610352,
          -2.961472749710083,
          -8.174259185791016,
          -12.922168731689453,
          17.347951889038086,
          7.36050271987915,
          -18.394014358520508,
          5.830783367156982,
          12.524654388427734,
          -0.8823563456535339,
          -9.741340637207031,
          -9.937280654907227,
          11.408940315246582,
          5.76649808883667,
          -16.616127014160156,
          -1.2869658470153809,
          -3.343827962875366,
          -17.471174240112305,
          0.7212479710578918,
          10.060505867004395,
          -13.290356636047363,
          10.17577838897705,
          8.850712776184082,
          16.756614685058594,
          12.642568588256836,
          -19.06081771850586,
          8.333008766174316,
          8.935806274414062,
          11.068580627441406,
          -6.515043258666992,
          -6.35768461227417,
          17.638505935668945,
          -0.6417590975761414,
          -2.4084081649780273,
          11.001073837280273,
          1.5701076984405518,
          17.097623825073242,
          16.33257293701172,
          8.531889915466309,
          9.965047836303711,
          -9.578697204589844,
          4.900672912597656,
          5.969883441925049,
          2.8383421897888184,
          -18.42094612121582,
          5.728835105895996,
          8.360836029052734,
          -3.4722330570220947,
          -8.098365783691406,
          -2.503641128540039,
          15.304642677307129,
          -3.1026840209960938,
          -14.720418930053711,
          -4.6793131828308105,
          12.968107223510742,
          -7.0023417472839355,
          8.632064819335938,
          13.979595184326172,
          3.974463701248169,
          10.07577896118164,
          -5.743788242340088,
          18.43073272705078,
          4.9087419509887695,
          13.42341423034668,
          9.000189781188965,
          -14.659767150878906,
          -13.348274230957031,
          -10.854931831359863,
          -8.30133056640625,
          2.6354217529296875,
          13.186812400817871,
          -12.392273902893066,
          4.960123538970947,
          7.261734962463379,
          18.262155532836914,
          -15.621386528015137,
          -4.385221004486084,
          2.744608163833618,
          -0.12012562155723572,
          -1.2603228092193604,
          -14.793133735656738,
          9.484773635864258,
          7.139127254486084,
          -5.079561233520508,
          17.257762908935547,
          -12.690430641174316,
          -2.290574789047241,
          -11.600089073181152,
          -10.608185768127441,
          10.91076946258545,
          -2.938167095184326,
          5.863344192504883,
          0.5763309597969055,
          -10.713269233703613,
          -3.3390820026397705,
          16.510967254638672,
          -16.644041061401367,
          -0.15961365401744843,
          14.926753997802734,
          -14.256897926330566,
          9.30460262298584,
          10.169605255126953,
          8.7980375289917,
          10.413189888000488,
          9.20107650756836,
          -13.559321403503418,
          -7.19607400894165,
          5.063968181610107,
          -3.0681276321411133,
          14.307151794433594,
          11.235880851745605,
          -12.187564849853516,
          7.322335243225098,
          -3.4429852962493896,
          -12.525381088256836,
          -6.630542755126953,
          -13.040946960449219,
          8.139203071594238,
          -9.703378677368164,
          -14.844429016113281,
          -8.284624099731445,
          -19.178680419921875,
          -15.878835678100586,
          6.127903461456299,
          -4.696680545806885,
          -12.541616439819336,
          9.155111312866211,
          -7.247585296630859,
          7.927959442138672,
          7.795530319213867,
          4.710035800933838,
          10.339088439941406,
          -6.758051872253418,
          -11.56074333190918,
          -5.387127876281738,
          5.783401966094971,
          -2.8264691829681396,
          -8.824581146240234,
          -8.147136688232422,
          16.5527400970459,
          -1.4297349452972412,
          -6.5950236320495605,
          0.0012716269120573997,
          7.744542598724365,
          3.3279449939727783,
          13.367816925048828,
          -2.1167352199554443,
          17.107006072998047,
          -0.01909109205007553,
          -5.600869178771973,
          16.563215255737305,
          8.824769973754883,
          -13.208012580871582,
          -10.646438598632812,
          15.969598770141602,
          8.188458442687988,
          -7.342772483825684,
          -8.818159103393555,
          4.128952503204346,
          5.340108394622803,
          -4.14881706237793,
          -6.6156110763549805,
          -12.720553398132324,
          -11.099804878234863,
          -15.516880989074707,
          -4.6590094566345215,
          -16.310447692871094,
          6.2406005859375,
          -2.0434327125549316,
          2.9000940322875977,
          -12.01372241973877,
          -5.091586589813232,
          4.866521835327148,
          1.180755376815796,
          -2.1296753883361816,
          -5.649693012237549,
          14.207368850708008,
          0.1867409199476242,
          7.866476058959961,
          -11.595415115356445,
          -10.362513542175293,
          7.593738555908203,
          7.470508098602295,
          8.482433319091797,
          -8.855417251586914,
          9.452372550964355,
          12.447728157043457,
          -15.989412307739258,
          17.17496681213379,
          -13.960803985595703,
          -8.712706565856934,
          10.924479484558105,
          -11.411184310913086,
          -12.71738338470459,
          -0.9709214568138123,
          -4.074838638305664,
          4.237757205963135,
          15.37113094329834,
          -12.177924156188965,
          14.484844207763672,
          8.849823951721191,
          -9.825666427612305,
          -15.83404541015625,
          16.85194969177246,
          5.831058979034424,
          -1.212611436843872,
          15.647287368774414,
          -2.6678788661956787,
          -11.581734657287598,
          8.384963035583496,
          -1.6095869541168213,
          8.873739242553711,
          5.714906215667725,
          11.515811920166016,
          12.168110847473145,
          -12.285563468933105,
          -15.302556991577148,
          -8.801450729370117,
          -12.002488136291504,
          6.435009479522705,
          -7.970070838928223,
          -15.092399597167969,
          2.8908653259277344,
          -3.4849352836608887,
          -2.6278655529022217,
          8.261528015136719,
          4.6000213623046875,
          -10.671319007873535,
          -6.54807710647583,
          -1.7427297830581665,
          10.198806762695312,
          12.66042423248291,
          -1.3845486640930176,
          -8.461736679077148,
          0.48556825518608093,
          -2.699927806854248,
          -8.377847671508789,
          -3.17946720123291,
          -17.25210952758789,
          12.178711891174316,
          13.082108497619629,
          -5.159616470336914,
          15.588376998901367,
          -7.336639404296875,
          -10.910258293151855,
          9.519580841064453,
          1.607527732849121,
          3.4268505573272705,
          11.143795013427734,
          14.010169982910156,
          15.187579154968262,
          -5.334344863891602,
          8.696324348449707,
          11.086393356323242,
          4.393273830413818,
          8.694875717163086,
          -9.270779609680176,
          -12.63085651397705,
          18.2872257232666,
          -4.760565757751465,
          16.142248153686523,
          -3.108215808868408,
          15.657491683959961,
          2.017228364944458,
          -15.4088716506958,
          -11.062663078308105,
          -17.789899826049805,
          5.771204471588135,
          3.9412667751312256,
          11.720240592956543,
          9.390900611877441,
          -2.42362380027771,
          -1.6709731817245483,
          -6.842276573181152,
          17.56551742553711,
          16.895673751831055,
          -14.817785263061523,
          17.70914077758789,
          3.1535582542419434,
          3.3291001319885254,
          -6.9460954666137695,
          -9.996583938598633,
          -2.573065996170044,
          16.037202835083008,
          -4.806747913360596,
          6.38421106338501,
          3.7732179164886475,
          -8.94591999053955,
          -13.313374519348145,
          4.997364044189453,
          7.569779396057129,
          4.016833782196045,
          -9.11772346496582,
          -2.706188440322876,
          12.77992057800293,
          7.58538818359375,
          5.308785438537598,
          -0.982642650604248,
          2.453761577606201,
          11.379542350769043,
          14.886567115783691,
          12.314616203308105,
          -10.11363410949707,
          -5.361791610717773,
          -15.455546379089355,
          -4.266731262207031,
          -3.755505323410034,
          -14.327091217041016,
          -10.188729286193848,
          -1.5472522974014282,
          4.4550251960754395,
          11.203195571899414,
          14.510960578918457,
          -17.77208709716797,
          2.532151937484741,
          13.495410919189453,
          -12.60050106048584,
          4.888188362121582,
          9.987082481384277,
          -2.1382477283477783,
          6.750161647796631,
          0.04735347256064415,
          -3.791501760482788,
          7.705772876739502,
          -0.5798936486244202,
          -12.694746971130371,
          9.378344535827637,
          -8.586318016052246,
          16.298351287841797,
          4.180479049682617,
          -5.535046577453613,
          3.434582471847534,
          17.74859619140625,
          5.2643890380859375,
          -13.46791934967041,
          7.313254356384277,
          0.353489488363266,
          -5.206120491027832,
          -5.597372531890869,
          -13.285367965698242,
          -16.090553283691406,
          -7.33288049697876,
          14.359723091125488,
          3.9945738315582275,
          10.917632102966309,
          -2.1131398677825928,
          -2.6112520694732666,
          -13.935836791992188,
          -3.4405975341796875,
          -6.106344223022461,
          17.695077896118164,
          8.022920608520508,
          -13.598564147949219,
          -4.481467247009277,
          -3.8374288082122803,
          -13.853719711303711,
          2.4420666694641113,
          -3.949897050857544,
          8.307384490966797,
          -0.3925769329071045,
          -4.94132137298584,
          13.258196830749512,
          8.049381256103516,
          5.190222263336182,
          -18.449094772338867,
          2.4751169681549072,
          -10.312560081481934,
          -12.049646377563477,
          10.725043296813965,
          -2.0714495182037354,
          1.8549920320510864,
          10.986167907714844,
          10.884941101074219,
          12.962890625,
          5.548439025878906,
          7.349924087524414,
          7.378227710723877,
          -13.616645812988281,
          -19.2454833984375,
          4.942465305328369,
          14.046961784362793,
          -10.617548942565918,
          2.019998788833618,
          -14.864642143249512,
          -0.326227068901062,
          -1.4215507507324219,
          2.004072427749634,
          -16.283327102661133,
          -6.303297996520996,
          -6.231436729431152,
          -15.908589363098145,
          -9.930339813232422,
          -5.416342258453369,
          -14.85398006439209,
          5.709195137023926,
          -15.721293449401855,
          17.445510864257812,
          8.155394554138184,
          13.076091766357422,
          2.6520297527313232,
          -1.7868248224258423,
          -7.935235500335693,
          16.608184814453125,
          -12.070260047912598,
          -12.597569465637207,
          3.2933733463287354,
          0.2618398070335388,
          4.919859886169434,
          -12.720538139343262,
          5.708794593811035,
          12.346832275390625,
          -6.376035690307617,
          -1.6582468748092651,
          5.022210597991943,
          -8.481383323669434,
          -19.10218620300293,
          3.3628461360931396,
          7.334123134613037,
          0.08115801215171814,
          2.0333187580108643,
          3.7106359004974365,
          17.08383560180664,
          -9.727646827697754,
          -18.60791778564453,
          14.070023536682129,
          -14.567303657531738,
          -5.530289173126221,
          17.084552764892578,
          -12.440643310546875,
          4.386551856994629,
          4.984052658081055,
          18.025732040405273,
          11.714021682739258,
          3.4207887649536133,
          7.535233020782471,
          -1.852126121520996,
          17.863595962524414,
          8.699752807617188,
          -5.114110469818115,
          14.402132034301758,
          -18.039058685302734,
          -12.808453559875488,
          -8.128630638122559,
          -5.124687194824219,
          8.042201042175293,
          -1.6415241956710815,
          -7.096814155578613,
          -9.046650886535645,
          -0.5149626135826111,
          -12.778921127319336,
          9.911116600036621,
          -5.879054546356201,
          -8.510786056518555,
          4.443414688110352,
          8.070231437683105,
          6.405660152435303,
          -10.773759841918945,
          10.178133010864258,
          7.402227878570557,
          5.209221363067627,
          4.962507247924805,
          -7.5756049156188965,
          -1.9935487508773804,
          -3.4254448413848877,
          11.08879280090332,
          9.667166709899902,
          7.5317702293396,
          11.263473510742188,
          -6.622939109802246,
          -13.135844230651855,
          -4.4961838722229,
          -5.824310302734375,
          -10.22762393951416,
          5.62950325012207,
          -13.991731643676758,
          -7.517522811889648,
          3.2257943153381348,
          8.061485290527344,
          0.40539729595184326,
          8.995495796203613,
          -5.359869003295898,
          5.8967742919921875,
          3.123106002807617,
          -0.5175674557685852,
          5.2269606590271,
          -2.1979832649230957,
          -11.534407615661621,
          9.076888084411621,
          -5.898655414581299,
          5.104241847991943,
          -1.7544078826904297,
          -4.717895030975342,
          5.201783657073975,
          -14.024648666381836,
          10.380660057067871,
          10.132457733154297,
          2.5961341857910156
         ],
         "z": [
          11.829879760742188,
          -3.671816825866699,
          -5.192061424255371,
          10.193982124328613,
          3.5096256732940674,
          -9.26783275604248,
          -14.69262409210205,
          -14.935611724853516,
          6.3371381759643555,
          -0.7342735528945923,
          7.261965274810791,
          6.913219928741455,
          -6.236764907836914,
          12.580665588378906,
          2.6851930618286133,
          -1.2780663967132568,
          2.3420796394348145,
          -3.0049171447753906,
          -8.438621520996094,
          2.5021824836730957,
          4.349278926849365,
          6.189937114715576,
          -6.896697998046875,
          2.5042295455932617,
          -9.034996032714844,
          7.471530914306641,
          -4.24153470993042,
          -6.970794200897217,
          10.605572700500488,
          6.598958492279053,
          0.003924024756997824,
          -7.327634811401367,
          1.8677396774291992,
          9.884525299072266,
          9.956295013427734,
          0.0862155556678772,
          -4.442917346954346,
          -16.09772491455078,
          -5.218017101287842,
          -5.516101837158203,
          -1.6278340816497803,
          8.141098976135254,
          -5.9265007972717285,
          -1.731705665588379,
          -1.402551531791687,
          7.305728435516357,
          -6.728399276733398,
          6.264957904815674,
          -0.6614549160003662,
          5.8311920166015625,
          11.602936744689941,
          -8.40156078338623,
          5.247282981872559,
          9.639006614685059,
          6.7123122215271,
          -1.9026130437850952,
          -8.170278549194336,
          -1.335490345954895,
          2.9476253986358643,
          -5.221522808074951,
          1.5151653289794922,
          6.715140342712402,
          2.0601155757904053,
          -1.4501919746398926,
          6.389513969421387,
          -0.6299921870231628,
          -15.338738441467285,
          -2.116429328918457,
          6.8942461013793945,
          3.8509490489959717,
          -2.059872627258301,
          -8.415947914123535,
          -8.179939270019531,
          -8.656365394592285,
          9.842975616455078,
          2.2131335735321045,
          -15.329141616821289,
          6.119198322296143,
          -0.7663853168487549,
          4.9748430252075195,
          10.04654312133789,
          0.104034423828125,
          -2.768462896347046,
          0.8467674851417542,
          8.282285690307617,
          -2.1317620277404785,
          -5.00852108001709,
          -5.84281063079834,
          -4.710521697998047,
          7.3086676597595215,
          7.946954727172852,
          0.0460856594145298,
          10.182300567626953,
          -2.7944273948669434,
          4.64655065536499,
          2.6177899837493896,
          -4.442287921905518,
          -2.5238375663757324,
          5.962255477905273,
          8.064458847045898,
          5.409280776977539,
          6.336497783660889,
          -6.597601890563965,
          -1.9045791625976562,
          1.4059301614761353,
          1.0562193393707275,
          13.035188674926758,
          0.20476134121418,
          -0.2900959849357605,
          -4.966714382171631,
          -14.329765319824219,
          8.174729347229004,
          -3.433716297149658,
          4.291659355163574,
          -5.571774959564209,
          1.9884397983551025,
          0.7122949361801147,
          4.7761359214782715,
          -14.186647415161133,
          4.584261417388916,
          8.745573043823242,
          -7.500698089599609,
          -3.644841194152832,
          0.966468334197998,
          9.558213233947754,
          1.72559654712677,
          -5.01895809173584,
          -1.6218955516815186,
          0.28772032260894775,
          2.8914737701416016,
          8.155189514160156,
          -10.70871353149414,
          8.986346244812012,
          -1.6511684656143188,
          -3.054288148880005,
          5.872613430023193,
          -11.444863319396973,
          -8.011603355407715,
          -0.2875206768512726,
          6.648142337799072,
          9.356395721435547,
          6.180022239685059,
          2.8509111404418945,
          8.736566543579102,
          -2.4217450618743896,
          -0.7224149107933044,
          -6.180471420288086,
          8.610130310058594,
          -0.6796544194221497,
          -5.182844161987305,
          7.577630043029785,
          7.681146621704102,
          -12.251921653747559,
          -2.0614395141601562,
          0.8907082676887512,
          -7.14456844329834,
          6.922671794891357,
          -5.2477312088012695,
          -3.2223873138427734,
          2.9200332164764404,
          -12.938272476196289,
          4.043209552764893,
          -7.220308303833008,
          6.442718029022217,
          0.19078846275806427,
          -0.4413447082042694,
          10.428583145141602,
          0.06858684122562408,
          5.635350704193115,
          -3.4848544597625732,
          0.4672725200653076,
          3.1563119888305664,
          7.964543342590332,
          0.9886797070503235,
          -2.863229513168335,
          0.41701462864875793,
          -1.1743488311767578,
          -8.21451473236084,
          1.011845588684082,
          -8.180795669555664,
          -7.063783645629883,
          -1.279520869255066,
          3.943716287612915,
          -3.045914649963379,
          -3.772995710372925,
          8.07502269744873,
          7.949533939361572,
          0.9707105755805969,
          -0.6863247752189636,
          -2.8000340461730957,
          -15.856539726257324,
          -6.908967018127441,
          -3.8294878005981445,
          -0.8258126974105835,
          6.82951545715332,
          -3.276520252227783,
          11.132081031799316,
          10.940465927124023,
          2.035004138946533,
          10.648301124572754,
          2.923940420150757,
          -9.485023498535156,
          -5.299906253814697,
          -1.396418571472168,
          -7.373834133148193,
          5.109714984893799,
          -6.239007949829102,
          -3.642406702041626,
          -4.199596405029297,
          6.2847676277160645,
          -1.4200078248977661,
          -3.000349521636963,
          -6.755603790283203,
          3.6106679439544678,
          0.2922896444797516,
          -1.6612446308135986,
          -15.96950912475586,
          10.151705741882324,
          -0.11878164112567902,
          6.420916557312012,
          13.78943157196045,
          -13.531513214111328,
          -4.367321491241455,
          5.740903377532959,
          0.4951033592224121,
          -2.3231313228607178,
          8.832758903503418,
          -1.4141180515289307,
          5.90933084487915,
          -0.1784989833831787,
          12.967817306518555,
          10.086628913879395,
          -0.12983793020248413,
          13.612711906433105,
          3.1626944541931152,
          -4.022170066833496,
          4.492767333984375,
          -2.3518707752227783,
          -5.930352210998535,
          -15.301656723022461,
          4.804739475250244,
          5.167047023773193,
          -1.520944595336914,
          -3.4755656719207764,
          -8.201601028442383,
          0.08849595487117767,
          -14.389102935791016,
          -2.1310462951660156,
          9.706936836242676,
          -8.418708801269531,
          0.19581927359104156,
          9.368916511535645,
          4.972182273864746,
          10.364855766296387,
          -1.434708595275879,
          2.1688899993896484,
          -6.556366920471191,
          4.812763690948486,
          -5.736303806304932,
          -0.15782992541790009,
          2.5527305603027344,
          6.7158708572387695,
          -7.372488498687744,
          -0.5491135120391846,
          8.982159614562988,
          -13.721944808959961,
          -3.5165562629699707,
          -8.861016273498535,
          3.6147890090942383,
          -3.016049861907959,
          -0.10161008685827255,
          0.09397459775209427,
          -1.6712915897369385,
          6.181372165679932,
          0.6665124297142029,
          9.139328956604004,
          -5.886605262756348,
          6.849538803100586,
          9.174764633178711,
          6.482605457305908,
          8.236771583557129,
          8.260647773742676,
          -2.5454161167144775,
          -8.121675491333008,
          -0.4215967357158661,
          7.2255682945251465,
          -3.6445112228393555,
          -8.934494972229004,
          9.13895320892334,
          8.089104652404785,
          -0.06215640529990196,
          -3.407954454421997,
          6.7579827308654785,
          -4.356103897094727,
          0.34069570899009705,
          -1.6113929748535156,
          8.454344749450684,
          -2.637871265411377,
          -4.016278266906738,
          0.9991523623466492,
          -3.1392571926116943,
          -1.4181904792785645,
          -5.725828170776367,
          7.9609856605529785,
          2.221330404281616,
          8.122414588928223,
          5.202645778656006,
          -7.718137741088867,
          6.55502462387085,
          -1.616384506225586,
          0.6036587953567505,
          -5.824398040771484,
          3.125352144241333,
          -6.663956642150879,
          -5.119973659515381,
          -7.103871822357178,
          5.130669593811035,
          12.430916786193848,
          -7.960023880004883,
          -11.42512321472168,
          0.6234164834022522,
          6.341091632843018,
          4.848666667938232,
          3.9291369915008545,
          -2.866640567779541,
          -9.416243553161621,
          -0.08466121554374695,
          6.485276699066162,
          -13.778820991516113,
          5.073492527008057,
          -4.100092887878418,
          -5.541709899902344,
          -2.120590925216675,
          -5.945140361785889,
          -2.422619581222534,
          -5.397016525268555,
          6.557674407958984,
          2.8870277404785156,
          -2.625751495361328,
          10.656436920166016,
          5.093794345855713,
          -0.4810458719730377,
          3.716709613800049,
          -6.026740074157715,
          2.136082172393799,
          -14.906112670898438,
          4.8529863357543945,
          5.468348979949951,
          -5.176967144012451,
          2.509643077850342,
          -1.9846773147583008,
          -8.903670310974121,
          3.8902647495269775,
          5.698555946350098,
          -1.8416796922683716,
          -1.629604458808899,
          -5.595874786376953,
          5.501368522644043,
          8.449861526489258,
          0.09012472629547119,
          -5.063418388366699,
          -2.7068192958831787,
          -0.33440500497817993,
          -15.714296340942383,
          -0.684937596321106,
          -7.719938278198242,
          -6.598484039306641,
          0.9323307275772095,
          3.3217997550964355,
          -2.7643635272979736,
          -8.762336730957031,
          -2.768531560897827,
          0.18552124500274658,
          4.5793776512146,
          -3.9610166549682617,
          -1.1628812551498413,
          10.32865047454834,
          7.505861759185791,
          -5.248394966125488,
          -3.7283811569213867,
          -6.2393574714660645,
          -6.646474361419678,
          -5.227696418762207,
          0.8538144826889038,
          9.664247512817383,
          -6.176919937133789,
          9.594292640686035,
          -1.42080819606781,
          -2.0156972408294678,
          2.6586875915527344,
          -5.741839408874512,
          -2.7507381439208984,
          -8.321989059448242,
          8.015196800231934,
          10.273616790771484,
          12.914514541625977,
          -8.678043365478516,
          -0.18158510327339172,
          5.219149589538574,
          -1.8910778760910034,
          -0.569265604019165,
          2.5266969203948975,
          6.194236755371094,
          4.746825218200684,
          2.067876100540161,
          -7.693921089172363,
          -6.459537982940674,
          -2.1969196796417236,
          8.059587478637695,
          5.789361476898193,
          -1.4710030555725098,
          5.308405876159668,
          7.255561828613281,
          -5.7318596839904785,
          -15.181193351745605,
          -6.0232343673706055,
          -12.563982963562012,
          -0.9855430126190186,
          1.859516978263855,
          12.54451847076416,
          6.694225311279297,
          4.572523593902588,
          12.254029273986816,
          -5.493234157562256,
          7.312413692474365,
          6.28302001953125,
          4.274158000946045,
          8.849568367004395,
          -8.733356475830078,
          -8.725512504577637,
          -3.826000690460205,
          -15.821026802062988,
          1.1115033626556396,
          -6.584498405456543,
          -0.23920802772045135,
          7.560766220092773,
          0.8733494281768799,
          0.20496296882629395,
          4.899041652679443,
          2.5312297344207764,
          6.244574069976807,
          0.17866866290569305,
          11.324458122253418,
          -1.7421941757202148,
          -7.83301305770874,
          -4.20779275894165,
          -8.748700141906738,
          4.978516101837158,
          6.362046241760254,
          -2.230273485183716,
          4.663091659545898,
          -0.9719991087913513,
          6.310929298400879,
          -0.5979653000831604,
          -0.6317951679229736,
          -3.078770399093628,
          6.080192565917969,
          1.9134666919708252,
          3.733215093612671,
          -8.604055404663086,
          -14.712865829467773,
          -9.509353637695312,
          -3.8297436237335205,
          3.965099811553955,
          2.246662139892578,
          -5.02518367767334,
          -1.5102258920669556,
          0.9410930871963501,
          -0.5911839008331299,
          -2.0093765258789062,
          -13.75141429901123,
          1.9819813966751099,
          9.562520980834961,
          -0.9220783710479736,
          -13.47728443145752,
          0.6762909889221191,
          2.7998127937316895,
          -5.74080753326416,
          -4.58862829208374,
          6.046248912811279,
          2.8421733379364014,
          -3.6006064414978027,
          -2.7725181579589844,
          2.793548822402954,
          -3.56916880607605,
          5.839704513549805,
          10.802037239074707,
          2.1124746799468994,
          5.72051477432251,
          1.8766874074935913,
          -5.244826793670654,
          5.545042514801025,
          0.015051823109388351,
          -13.002157211303711,
          -8.298121452331543,
          4.724974155426025,
          -0.8740977644920349,
          -6.767656326293945,
          0.17643395066261292,
          -3.347419023513794,
          -4.9368720054626465,
          0.028819004073739052,
          -8.921567916870117,
          -0.40214821696281433,
          11.161060333251953,
          7.317350387573242,
          5.857550144195557,
          -2.0286548137664795,
          -1.7695744037628174,
          -2.0666468143463135,
          -15.916569709777832,
          -2.7266130447387695,
          3.651524066925049,
          9.44804859161377,
          6.863363265991211,
          10.396613121032715,
          9.273286819458008,
          -7.951492786407471,
          9.948699951171875,
          2.845227003097534,
          -9.686461448669434,
          -5.960741996765137,
          5.866438865661621,
          5.922849178314209,
          6.233529090881348,
          -1.1477502584457397,
          6.360132217407227,
          -4.128314971923828,
          -6.281876087188721,
          -4.790009021759033,
          -0.34095045924186707,
          -0.9844725728034973,
          4.1898884773254395,
          3.4489471912384033,
          -5.276839733123779,
          -4.235692024230957,
          -3.281031608581543,
          4.00545072555542,
          5.444857597351074,
          5.724705219268799,
          -2.415919542312622,
          0.09878906607627869,
          -9.33796215057373,
          10.31262493133545,
          0.5702773332595825,
          1.7917548418045044,
          -8.120423316955566,
          -2.5564796924591064,
          -4.6178483963012695,
          -3.7765963077545166,
          -1.7553983926773071,
          8.205001831054688,
          1.0578621625900269,
          8.053838729858398,
          -6.234692573547363,
          -2.9162397384643555,
          6.764093399047852,
          -7.616454124450684,
          -2.121678113937378,
          2.563601493835449,
          5.113053321838379,
          -5.094510078430176,
          -10.070440292358398,
          -3.9475302696228027,
          -3.6183717250823975,
          6.667796611785889,
          -12.949380874633789,
          -7.642669200897217,
          -4.869874000549316,
          6.7303619384765625,
          6.83311653137207,
          -1.7915533781051636,
          -2.610781192779541,
          9.539377212524414,
          -2.6038095951080322,
          5.053139686584473,
          7.012448787689209,
          -5.685474395751953,
          -8.328869819641113,
          -4.341047763824463,
          2.819981575012207,
          -0.7511779069900513,
          -8.223228454589844,
          3.9832170009613037,
          8.547514915466309,
          2.9336376190185547,
          -2.100599765777588,
          -0.4930160641670227,
          3.226569652557373,
          3.2823352813720703,
          7.254225730895996,
          5.657651901245117,
          0.2195548564195633,
          6.120108127593994,
          -8.688610076904297,
          -4.836315631866455,
          -5.654265880584717,
          1.1055233478546143,
          -9.453011512756348,
          12.891316413879395,
          -8.252986907958984,
          6.652878761291504,
          8.333155632019043,
          3.1080470085144043,
          0.48999375104904175,
          -8.298811912536621,
          -7.428713798522949,
          0.278108686208725,
          -3.4065940380096436,
          5.865499019622803,
          0.903271496295929,
          -4.2233662605285645,
          -1.0127356052398682,
          -9.647007942199707,
          3.7159879207611084,
          9.0387544631958,
          5.928335189819336,
          -8.960047721862793,
          4.525362968444824,
          -1.3647961616516113,
          1.3733875751495361,
          5.958099365234375,
          3.272387742996216,
          8.96519947052002,
          11.166184425354004,
          -2.3954555988311768,
          -4.022011756896973,
          -4.762440204620361,
          1.151610255241394,
          1.5343431234359741,
          2.509438991546631,
          -9.862204551696777,
          -2.145688772201538,
          -1.1028163433074951,
          -3.1528568267822266,
          4.539228916168213,
          10.2876558303833,
          -9.436243057250977,
          -8.914440155029297,
          -2.3957035541534424,
          5.6933183670043945,
          1.8221749067306519,
          -9.55907917022705,
          -1.6157257556915283,
          -12.207928657531738,
          5.916278839111328,
          -2.495661497116089,
          -2.5839807987213135,
          -9.235329627990723,
          -1.8530489206314087,
          9.868775367736816,
          6.940278053283691,
          -5.485857009887695,
          -2.603520631790161,
          6.45470666885376,
          5.1253581047058105,
          3.078233242034912,
          -7.440739631652832,
          -1.3082246780395508,
          -0.28304773569107056,
          -9.797029495239258,
          -3.029545783996582,
          2.494011878967285,
          5.2119903564453125,
          1.6505048274993896,
          -3.3841540813446045,
          -7.5214691162109375,
          -9.750252723693848,
          -2.2950081825256348,
          5.862942695617676,
          -0.2611732482910156,
          -0.74458247423172,
          7.707043647766113,
          -9.827588081359863,
          7.178282737731934,
          -4.112066268920898,
          5.784640789031982,
          4.155206680297852,
          4.569143295288086,
          -13.772663116455078,
          -2.4753215312957764,
          4.9441237449646,
          -3.2911179065704346,
          6.41069221496582,
          9.41040325164795,
          -6.7244791984558105,
          5.126825332641602,
          -9.450806617736816,
          2.9061694145202637,
          -4.954442501068115,
          -8.42267894744873,
          3.514535665512085,
          -2.3253297805786133,
          6.281564712524414,
          -13.353324890136719,
          -5.664360523223877,
          0.852628767490387,
          13.813080787658691,
          5.934268474578857,
          3.0161311626434326,
          2.300894021987915,
          -2.38667893409729,
          -2.6683154106140137,
          -1.8393880128860474,
          -6.987983226776123,
          -7.0671844482421875,
          -5.143678188323975,
          -1.1673239469528198,
          5.747551441192627,
          -9.2705659866333,
          -1.3859926462173462,
          5.278648376464844,
          5.4368391036987305,
          0.20616228878498077,
          7.135469436645508,
          6.276136875152588,
          6.468044757843018,
          -1.7421730756759644,
          -0.6617904305458069,
          4.8236775398254395,
          -9.665035247802734,
          -12.863405227661133,
          -7.240268707275391,
          -8.073246955871582,
          4.473764419555664,
          8.000338554382324,
          7.472149848937988,
          -7.964235305786133,
          -1.497441053390503,
          -0.9610884785652161,
          8.359147071838379,
          -1.7365953922271729,
          3.4241957664489746,
          -2.694629192352295,
          -2.7153968811035156,
          -0.06801064312458038,
          9.53519344329834,
          4.5713629722595215,
          0.6008420586585999,
          2.633286714553833,
          -4.614260196685791,
          -0.8055736422538757,
          -3.1637871265411377,
          6.73268985748291,
          8.370888710021973,
          3.388765335083008,
          -4.440249443054199,
          9.642626762390137,
          8.329453468322754,
          -3.8324930667877197,
          5.851457595825195,
          8.68221378326416,
          -1.8066147565841675,
          -0.1812029629945755,
          10.247188568115234,
          -9.059611320495605,
          1.9585776329040527,
          7.1789727210998535,
          0.04851397126913071,
          4.535407543182373,
          -13.958374977111816,
          -11.801005363464355,
          -1.1324927806854248,
          -0.06288354843854904,
          -13.61308765411377,
          -8.43610954284668,
          -14.563309669494629,
          -4.7225213050842285,
          -5.987068176269531,
          -5.362397193908691,
          -4.7661285400390625,
          -6.6298604011535645,
          -2.3636667728424072,
          -12.545628547668457,
          8.777763366699219,
          9.448405265808105,
          2.153144598007202,
          4.672818183898926,
          4.844982147216797,
          -7.559151649475098,
          -2.6977784633636475,
          10.008700370788574,
          -3.364053964614868,
          4.818980693817139,
          10.197060585021973,
          7.300753116607666,
          -7.063281536102295,
          0.2163238227367401,
          -0.7821525931358337,
          -15.024145126342773,
          1.7325339317321777,
          -9.642641067504883,
          -14.051361083984375,
          -7.091516494750977,
          8.004880905151367,
          6.20020866394043,
          8.901263236999512,
          5.142601013183594,
          -0.1689242571592331,
          -5.389817237854004,
          -4.392795085906982,
          -8.10124397277832,
          5.52264928817749,
          -0.1451672613620758,
          -14.460373878479004,
          4.798037528991699,
          -15.063531875610352,
          3.4620447158813477,
          0.9003016948699951,
          2.4572153091430664,
          -4.362917900085449,
          9.527717590332031,
          2.8061180114746094,
          -3.663712501525879,
          -5.495186805725098,
          -3.9291272163391113,
          -0.7752346992492676,
          7.087388515472412,
          -0.6794245839118958,
          -7.860699653625488,
          -2.0122382640838623,
          0.9889928102493286,
          1.2257496118545532,
          2.6360883712768555,
          11.758233070373535,
          -0.6782839894294739,
          -0.08051669597625732,
          -4.43235969543457,
          -1.128577470779419,
          -0.9079521894454956,
          2.584867238998413,
          -15.197490692138672,
          6.979785442352295,
          8.528642654418945,
          -6.873411655426025,
          5.961076259613037,
          10.079742431640625,
          2.946383237838745,
          -7.691210746765137,
          -4.784252643585205,
          12.887890815734863,
          0.7665576934814453,
          -1.3744964599609375,
          1.32395601272583,
          -6.435332298278809,
          -0.5618763566017151,
          2.6669108867645264,
          -3.6881678104400635,
          -2.4521193504333496,
          9.85941219329834,
          -2.764962911605835,
          -0.5596276521682739,
          -3.7971584796905518,
          1.6667429208755493,
          -4.9757585525512695,
          1.7502543926239014,
          -3.124931573867798,
          0.34252259135246277,
          0.3318081200122833,
          -2.217738628387451,
          4.446469306945801,
          1.6893117427825928,
          1.177741527557373,
          -1.2557035684585571,
          8.562355995178223,
          2.9863193035125732,
          4.788299083709717,
          5.427680969238281,
          -8.677388191223145,
          -3.193113327026367,
          0.9547227025032043,
          -3.2592122554779053,
          3.8362700939178467,
          -2.8388633728027344,
          3.8076260089874268,
          3.6767525672912598,
          -10.376155853271484,
          5.670264720916748,
          -8.752063751220703,
          2.790621280670166,
          5.943171977996826,
          -4.656998634338379,
          -4.979794025421143,
          -4.438937664031982,
          -3.343348741531372,
          2.048100471496582,
          10.555734634399414,
          -2.4912853240966797,
          -2.2036564350128174,
          -3.5222384929656982,
          -5.048977851867676,
          -7.206110000610352,
          -4.051908493041992,
          -8.15655517578125,
          1.8717418909072876,
          -11.834368705749512,
          2.4556243419647217,
          5.888810157775879,
          -4.567604064941406,
          9.797615051269531,
          8.716328620910645,
          5.659508228302002,
          4.074814796447754,
          0.34025683999061584,
          7.248464107513428,
          -13.204207420349121,
          -3.4242630004882812,
          7.938098907470703,
          -14.825719833374023,
          3.1713130474090576,
          -4.745019435882568,
          -2.6822783946990967,
          -8.001051902770996,
          5.7879767417907715,
          0.7790411710739136,
          -3.851835012435913,
          5.103054046630859,
          -5.708199501037598,
          11.67792797088623,
          -6.612074375152588,
          4.106158256530762,
          -8.687446594238281,
          -4.875942230224609,
          6.652141571044922,
          2.781662940979004,
          5.869433879852295,
          -4.159911155700684,
          -5.466517925262451,
          -14.354857444763184,
          -6.261247158050537,
          -5.174607276916504,
          -2.909834861755371,
          -7.834465503692627,
          -3.7875044345855713,
          -8.132085800170898,
          -2.8253626823425293,
          -6.0390777587890625,
          -3.4345881938934326,
          7.287800312042236,
          -7.139468669891357,
          8.926060676574707,
          3.1289255619049072,
          2.566060781478882,
          -0.8587334752082825,
          -8.90177059173584,
          8.495940208435059,
          -2.270023822784424,
          4.620565891265869,
          8.251091003417969,
          2.6312522888183594,
          -9.317543029785156,
          -14.27590560913086,
          4.899130344390869,
          -1.8368901014328003,
          -8.925371170043945,
          3.7094337940216064,
          -13.316366195678711,
          -0.4361419677734375,
          -2.173459768295288,
          -13.630634307861328,
          6.520053863525391,
          9.898717880249023,
          5.085904121398926,
          2.397094249725342,
          9.834054946899414,
          -2.131025791168213,
          -6.638472557067871,
          -8.150647163391113,
          -3.4524829387664795,
          -6.333085060119629,
          -0.2525846064090729,
          -14.94999885559082
         ]
        }
       ],
       "layout": {
        "coloraxis": {
         "colorbar": {
          "title": {
           "text": "Anomaly"
          }
         },
         "colorscale": [
          [
           0,
           "#0d0887"
          ],
          [
           0.1111111111111111,
           "#46039f"
          ],
          [
           0.2222222222222222,
           "#7201a8"
          ],
          [
           0.3333333333333333,
           "#9c179e"
          ],
          [
           0.4444444444444444,
           "#bd3786"
          ],
          [
           0.5555555555555556,
           "#d8576b"
          ],
          [
           0.6666666666666666,
           "#ed7953"
          ],
          [
           0.7777777777777778,
           "#fb9f3a"
          ],
          [
           0.8888888888888888,
           "#fdca26"
          ],
          [
           1,
           "#f0f921"
          ]
         ]
        },
        "height": 800,
        "legend": {
         "tracegroupgap": 0
        },
        "scene": {
         "domain": {
          "x": [
           0,
           1
          ],
          "y": [
           0,
           1
          ]
         },
         "xaxis": {
          "title": {
           "text": "0"
          }
         },
         "yaxis": {
          "title": {
           "text": "1"
          }
         },
         "zaxis": {
          "title": {
           "text": "2"
          }
         }
        },
        "template": {
         "data": {
          "bar": [
           {
            "error_x": {
             "color": "#2a3f5f"
            },
            "error_y": {
             "color": "#2a3f5f"
            },
            "marker": {
             "line": {
              "color": "#E5ECF6",
              "width": 0.5
             }
            },
            "type": "bar"
           }
          ],
          "barpolar": [
           {
            "marker": {
             "line": {
              "color": "#E5ECF6",
              "width": 0.5
             }
            },
            "type": "barpolar"
           }
          ],
          "carpet": [
           {
            "aaxis": {
             "endlinecolor": "#2a3f5f",
             "gridcolor": "white",
             "linecolor": "white",
             "minorgridcolor": "white",
             "startlinecolor": "#2a3f5f"
            },
            "baxis": {
             "endlinecolor": "#2a3f5f",
             "gridcolor": "white",
             "linecolor": "white",
             "minorgridcolor": "white",
             "startlinecolor": "#2a3f5f"
            },
            "type": "carpet"
           }
          ],
          "choropleth": [
           {
            "colorbar": {
             "outlinewidth": 0,
             "ticks": ""
            },
            "type": "choropleth"
           }
          ],
          "contour": [
           {
            "colorbar": {
             "outlinewidth": 0,
             "ticks": ""
            },
            "colorscale": [
             [
              0,
              "#0d0887"
             ],
             [
              0.1111111111111111,
              "#46039f"
             ],
             [
              0.2222222222222222,
              "#7201a8"
             ],
             [
              0.3333333333333333,
              "#9c179e"
             ],
             [
              0.4444444444444444,
              "#bd3786"
             ],
             [
              0.5555555555555556,
              "#d8576b"
             ],
             [
              0.6666666666666666,
              "#ed7953"
             ],
             [
              0.7777777777777778,
              "#fb9f3a"
             ],
             [
              0.8888888888888888,
              "#fdca26"
             ],
             [
              1,
              "#f0f921"
             ]
            ],
            "type": "contour"
           }
          ],
          "contourcarpet": [
           {
            "colorbar": {
             "outlinewidth": 0,
             "ticks": ""
            },
            "type": "contourcarpet"
           }
          ],
          "heatmap": [
           {
            "colorbar": {
             "outlinewidth": 0,
             "ticks": ""
            },
            "colorscale": [
             [
              0,
              "#0d0887"
             ],
             [
              0.1111111111111111,
              "#46039f"
             ],
             [
              0.2222222222222222,
              "#7201a8"
             ],
             [
              0.3333333333333333,
              "#9c179e"
             ],
             [
              0.4444444444444444,
              "#bd3786"
             ],
             [
              0.5555555555555556,
              "#d8576b"
             ],
             [
              0.6666666666666666,
              "#ed7953"
             ],
             [
              0.7777777777777778,
              "#fb9f3a"
             ],
             [
              0.8888888888888888,
              "#fdca26"
             ],
             [
              1,
              "#f0f921"
             ]
            ],
            "type": "heatmap"
           }
          ],
          "heatmapgl": [
           {
            "colorbar": {
             "outlinewidth": 0,
             "ticks": ""
            },
            "colorscale": [
             [
              0,
              "#0d0887"
             ],
             [
              0.1111111111111111,
              "#46039f"
             ],
             [
              0.2222222222222222,
              "#7201a8"
             ],
             [
              0.3333333333333333,
              "#9c179e"
             ],
             [
              0.4444444444444444,
              "#bd3786"
             ],
             [
              0.5555555555555556,
              "#d8576b"
             ],
             [
              0.6666666666666666,
              "#ed7953"
             ],
             [
              0.7777777777777778,
              "#fb9f3a"
             ],
             [
              0.8888888888888888,
              "#fdca26"
             ],
             [
              1,
              "#f0f921"
             ]
            ],
            "type": "heatmapgl"
           }
          ],
          "histogram": [
           {
            "marker": {
             "colorbar": {
              "outlinewidth": 0,
              "ticks": ""
             }
            },
            "type": "histogram"
           }
          ],
          "histogram2d": [
           {
            "colorbar": {
             "outlinewidth": 0,
             "ticks": ""
            },
            "colorscale": [
             [
              0,
              "#0d0887"
             ],
             [
              0.1111111111111111,
              "#46039f"
             ],
             [
              0.2222222222222222,
              "#7201a8"
             ],
             [
              0.3333333333333333,
              "#9c179e"
             ],
             [
              0.4444444444444444,
              "#bd3786"
             ],
             [
              0.5555555555555556,
              "#d8576b"
             ],
             [
              0.6666666666666666,
              "#ed7953"
             ],
             [
              0.7777777777777778,
              "#fb9f3a"
             ],
             [
              0.8888888888888888,
              "#fdca26"
             ],
             [
              1,
              "#f0f921"
             ]
            ],
            "type": "histogram2d"
           }
          ],
          "histogram2dcontour": [
           {
            "colorbar": {
             "outlinewidth": 0,
             "ticks": ""
            },
            "colorscale": [
             [
              0,
              "#0d0887"
             ],
             [
              0.1111111111111111,
              "#46039f"
             ],
             [
              0.2222222222222222,
              "#7201a8"
             ],
             [
              0.3333333333333333,
              "#9c179e"
             ],
             [
              0.4444444444444444,
              "#bd3786"
             ],
             [
              0.5555555555555556,
              "#d8576b"
             ],
             [
              0.6666666666666666,
              "#ed7953"
             ],
             [
              0.7777777777777778,
              "#fb9f3a"
             ],
             [
              0.8888888888888888,
              "#fdca26"
             ],
             [
              1,
              "#f0f921"
             ]
            ],
            "type": "histogram2dcontour"
           }
          ],
          "mesh3d": [
           {
            "colorbar": {
             "outlinewidth": 0,
             "ticks": ""
            },
            "type": "mesh3d"
           }
          ],
          "parcoords": [
           {
            "line": {
             "colorbar": {
              "outlinewidth": 0,
              "ticks": ""
             }
            },
            "type": "parcoords"
           }
          ],
          "pie": [
           {
            "automargin": true,
            "type": "pie"
           }
          ],
          "scatter": [
           {
            "marker": {
             "colorbar": {
              "outlinewidth": 0,
              "ticks": ""
             }
            },
            "type": "scatter"
           }
          ],
          "scatter3d": [
           {
            "line": {
             "colorbar": {
              "outlinewidth": 0,
              "ticks": ""
             }
            },
            "marker": {
             "colorbar": {
              "outlinewidth": 0,
              "ticks": ""
             }
            },
            "type": "scatter3d"
           }
          ],
          "scattercarpet": [
           {
            "marker": {
             "colorbar": {
              "outlinewidth": 0,
              "ticks": ""
             }
            },
            "type": "scattercarpet"
           }
          ],
          "scattergeo": [
           {
            "marker": {
             "colorbar": {
              "outlinewidth": 0,
              "ticks": ""
             }
            },
            "type": "scattergeo"
           }
          ],
          "scattergl": [
           {
            "marker": {
             "colorbar": {
              "outlinewidth": 0,
              "ticks": ""
             }
            },
            "type": "scattergl"
           }
          ],
          "scattermapbox": [
           {
            "marker": {
             "colorbar": {
              "outlinewidth": 0,
              "ticks": ""
             }
            },
            "type": "scattermapbox"
           }
          ],
          "scatterpolar": [
           {
            "marker": {
             "colorbar": {
              "outlinewidth": 0,
              "ticks": ""
             }
            },
            "type": "scatterpolar"
           }
          ],
          "scatterpolargl": [
           {
            "marker": {
             "colorbar": {
              "outlinewidth": 0,
              "ticks": ""
             }
            },
            "type": "scatterpolargl"
           }
          ],
          "scatterternary": [
           {
            "marker": {
             "colorbar": {
              "outlinewidth": 0,
              "ticks": ""
             }
            },
            "type": "scatterternary"
           }
          ],
          "surface": [
           {
            "colorbar": {
             "outlinewidth": 0,
             "ticks": ""
            },
            "colorscale": [
             [
              0,
              "#0d0887"
             ],
             [
              0.1111111111111111,
              "#46039f"
             ],
             [
              0.2222222222222222,
              "#7201a8"
             ],
             [
              0.3333333333333333,
              "#9c179e"
             ],
             [
              0.4444444444444444,
              "#bd3786"
             ],
             [
              0.5555555555555556,
              "#d8576b"
             ],
             [
              0.6666666666666666,
              "#ed7953"
             ],
             [
              0.7777777777777778,
              "#fb9f3a"
             ],
             [
              0.8888888888888888,
              "#fdca26"
             ],
             [
              1,
              "#f0f921"
             ]
            ],
            "type": "surface"
           }
          ],
          "table": [
           {
            "cells": {
             "fill": {
              "color": "#EBF0F8"
             },
             "line": {
              "color": "white"
             }
            },
            "header": {
             "fill": {
              "color": "#C8D4E3"
             },
             "line": {
              "color": "white"
             }
            },
            "type": "table"
           }
          ]
         },
         "layout": {
          "annotationdefaults": {
           "arrowcolor": "#2a3f5f",
           "arrowhead": 0,
           "arrowwidth": 1
          },
          "autotypenumbers": "strict",
          "coloraxis": {
           "colorbar": {
            "outlinewidth": 0,
            "ticks": ""
           }
          },
          "colorscale": {
           "diverging": [
            [
             0,
             "#8e0152"
            ],
            [
             0.1,
             "#c51b7d"
            ],
            [
             0.2,
             "#de77ae"
            ],
            [
             0.3,
             "#f1b6da"
            ],
            [
             0.4,
             "#fde0ef"
            ],
            [
             0.5,
             "#f7f7f7"
            ],
            [
             0.6,
             "#e6f5d0"
            ],
            [
             0.7,
             "#b8e186"
            ],
            [
             0.8,
             "#7fbc41"
            ],
            [
             0.9,
             "#4d9221"
            ],
            [
             1,
             "#276419"
            ]
           ],
           "sequential": [
            [
             0,
             "#0d0887"
            ],
            [
             0.1111111111111111,
             "#46039f"
            ],
            [
             0.2222222222222222,
             "#7201a8"
            ],
            [
             0.3333333333333333,
             "#9c179e"
            ],
            [
             0.4444444444444444,
             "#bd3786"
            ],
            [
             0.5555555555555556,
             "#d8576b"
            ],
            [
             0.6666666666666666,
             "#ed7953"
            ],
            [
             0.7777777777777778,
             "#fb9f3a"
            ],
            [
             0.8888888888888888,
             "#fdca26"
            ],
            [
             1,
             "#f0f921"
            ]
           ],
           "sequentialminus": [
            [
             0,
             "#0d0887"
            ],
            [
             0.1111111111111111,
             "#46039f"
            ],
            [
             0.2222222222222222,
             "#7201a8"
            ],
            [
             0.3333333333333333,
             "#9c179e"
            ],
            [
             0.4444444444444444,
             "#bd3786"
            ],
            [
             0.5555555555555556,
             "#d8576b"
            ],
            [
             0.6666666666666666,
             "#ed7953"
            ],
            [
             0.7777777777777778,
             "#fb9f3a"
            ],
            [
             0.8888888888888888,
             "#fdca26"
            ],
            [
             1,
             "#f0f921"
            ]
           ]
          },
          "colorway": [
           "#636efa",
           "#EF553B",
           "#00cc96",
           "#ab63fa",
           "#FFA15A",
           "#19d3f3",
           "#FF6692",
           "#B6E880",
           "#FF97FF",
           "#FECB52"
          ],
          "font": {
           "color": "#2a3f5f"
          },
          "geo": {
           "bgcolor": "white",
           "lakecolor": "white",
           "landcolor": "#E5ECF6",
           "showlakes": true,
           "showland": true,
           "subunitcolor": "white"
          },
          "hoverlabel": {
           "align": "left"
          },
          "hovermode": "closest",
          "mapbox": {
           "style": "light"
          },
          "paper_bgcolor": "white",
          "plot_bgcolor": "#E5ECF6",
          "polar": {
           "angularaxis": {
            "gridcolor": "white",
            "linecolor": "white",
            "ticks": ""
           },
           "bgcolor": "#E5ECF6",
           "radialaxis": {
            "gridcolor": "white",
            "linecolor": "white",
            "ticks": ""
           }
          },
          "scene": {
           "xaxis": {
            "backgroundcolor": "#E5ECF6",
            "gridcolor": "white",
            "gridwidth": 2,
            "linecolor": "white",
            "showbackground": true,
            "ticks": "",
            "zerolinecolor": "white"
           },
           "yaxis": {
            "backgroundcolor": "#E5ECF6",
            "gridcolor": "white",
            "gridwidth": 2,
            "linecolor": "white",
            "showbackground": true,
            "ticks": "",
            "zerolinecolor": "white"
           },
           "zaxis": {
            "backgroundcolor": "#E5ECF6",
            "gridcolor": "white",
            "gridwidth": 2,
            "linecolor": "white",
            "showbackground": true,
            "ticks": "",
            "zerolinecolor": "white"
           }
          },
          "shapedefaults": {
           "line": {
            "color": "#2a3f5f"
           }
          },
          "ternary": {
           "aaxis": {
            "gridcolor": "white",
            "linecolor": "white",
            "ticks": ""
           },
           "baxis": {
            "gridcolor": "white",
            "linecolor": "white",
            "ticks": ""
           },
           "bgcolor": "#E5ECF6",
           "caxis": {
            "gridcolor": "white",
            "linecolor": "white",
            "ticks": ""
           }
          },
          "title": {
           "x": 0.05
          },
          "xaxis": {
           "automargin": true,
           "gridcolor": "white",
           "linecolor": "white",
           "ticks": "",
           "title": {
            "standoff": 15
           },
           "zerolinecolor": "white",
           "zerolinewidth": 2
          },
          "yaxis": {
           "automargin": true,
           "gridcolor": "white",
           "linecolor": "white",
           "ticks": "",
           "title": {
            "standoff": 15
           },
           "zerolinecolor": "white",
           "zerolinewidth": 2
          }
         }
        },
        "title": {
         "text": "3d TSNE Plot for Outliers"
        },
        "width": 900
       }
      }
     },
     "metadata": {}
    }
   ],
   "metadata": {}
  },
  {
   "cell_type": "code",
   "execution_count": 51,
   "source": [
    "prediction= predict_model(iforest, test)\r\n",
    "prediction.head(5)"
   ],
   "outputs": [
    {
     "output_type": "execute_result",
     "data": {
      "text/plain": [
       "   MouseID  DYRK1A_N   ITSN1_N    BDNF_N     NR1_N    NR2A_N    pAKT_N  \\\n",
       "37   320_8  0.530855  0.748072  0.385529  2.573126  5.495063  0.237427   \n",
       "42  320_13  0.454421  0.685278  0.360301  2.392890  4.500000  0.278715   \n",
       "50   321_6  0.457992  0.703492  0.385843  2.904392  6.318467  0.216858   \n",
       "62   322_3  0.395358  0.576313  0.342568  2.356046  5.326220  0.207413   \n",
       "69  322_10  0.346891  0.474287  0.296166  1.983170  3.674147  0.239832   \n",
       "\n",
       "     pBRAF_N  pCAMKII_N   pCREB_N  ...  H3AcK18_N    EGR1_N  H3MeK4_N  \\\n",
       "37  0.187596   2.549676  0.200401  ...   0.143169  0.195167       NaN   \n",
       "42  0.208751   2.586144  0.220602  ...   0.149682  0.203535       NaN   \n",
       "50  0.160666   2.652073  0.197081  ...   0.137983  0.208034       NaN   \n",
       "62  0.168601   3.511544  0.181580  ...        NaN       NaN       NaN   \n",
       "69  0.193081   3.471482  0.184432  ...        NaN       NaN       NaN   \n",
       "\n",
       "      CaNA_N  Genotype  Treatment  Behavior   class  Anomaly  Anomaly_Score  \n",
       "37  1.650846   Control  Memantine       C/S  c-CS-m        0      -0.058297  \n",
       "42  1.615576   Control  Memantine       C/S  c-CS-m        0      -0.070557  \n",
       "50  1.682427   Control  Memantine       C/S  c-CS-m        0      -0.021940  \n",
       "62  1.723145   Control  Memantine       C/S  c-CS-m        0      -0.074313  \n",
       "69  1.538291   Control  Memantine       C/S  c-CS-m        0      -0.081696  \n",
       "\n",
       "[5 rows x 84 columns]"
      ],
      "text/html": [
       "<div>\n",
       "<style scoped>\n",
       "    .dataframe tbody tr th:only-of-type {\n",
       "        vertical-align: middle;\n",
       "    }\n",
       "\n",
       "    .dataframe tbody tr th {\n",
       "        vertical-align: top;\n",
       "    }\n",
       "\n",
       "    .dataframe thead th {\n",
       "        text-align: right;\n",
       "    }\n",
       "</style>\n",
       "<table border=\"1\" class=\"dataframe\">\n",
       "  <thead>\n",
       "    <tr style=\"text-align: right;\">\n",
       "      <th></th>\n",
       "      <th>MouseID</th>\n",
       "      <th>DYRK1A_N</th>\n",
       "      <th>ITSN1_N</th>\n",
       "      <th>BDNF_N</th>\n",
       "      <th>NR1_N</th>\n",
       "      <th>NR2A_N</th>\n",
       "      <th>pAKT_N</th>\n",
       "      <th>pBRAF_N</th>\n",
       "      <th>pCAMKII_N</th>\n",
       "      <th>pCREB_N</th>\n",
       "      <th>...</th>\n",
       "      <th>H3AcK18_N</th>\n",
       "      <th>EGR1_N</th>\n",
       "      <th>H3MeK4_N</th>\n",
       "      <th>CaNA_N</th>\n",
       "      <th>Genotype</th>\n",
       "      <th>Treatment</th>\n",
       "      <th>Behavior</th>\n",
       "      <th>class</th>\n",
       "      <th>Anomaly</th>\n",
       "      <th>Anomaly_Score</th>\n",
       "    </tr>\n",
       "  </thead>\n",
       "  <tbody>\n",
       "    <tr>\n",
       "      <th>37</th>\n",
       "      <td>320_8</td>\n",
       "      <td>0.530855</td>\n",
       "      <td>0.748072</td>\n",
       "      <td>0.385529</td>\n",
       "      <td>2.573126</td>\n",
       "      <td>5.495063</td>\n",
       "      <td>0.237427</td>\n",
       "      <td>0.187596</td>\n",
       "      <td>2.549676</td>\n",
       "      <td>0.200401</td>\n",
       "      <td>...</td>\n",
       "      <td>0.143169</td>\n",
       "      <td>0.195167</td>\n",
       "      <td>NaN</td>\n",
       "      <td>1.650846</td>\n",
       "      <td>Control</td>\n",
       "      <td>Memantine</td>\n",
       "      <td>C/S</td>\n",
       "      <td>c-CS-m</td>\n",
       "      <td>0</td>\n",
       "      <td>-0.058297</td>\n",
       "    </tr>\n",
       "    <tr>\n",
       "      <th>42</th>\n",
       "      <td>320_13</td>\n",
       "      <td>0.454421</td>\n",
       "      <td>0.685278</td>\n",
       "      <td>0.360301</td>\n",
       "      <td>2.392890</td>\n",
       "      <td>4.500000</td>\n",
       "      <td>0.278715</td>\n",
       "      <td>0.208751</td>\n",
       "      <td>2.586144</td>\n",
       "      <td>0.220602</td>\n",
       "      <td>...</td>\n",
       "      <td>0.149682</td>\n",
       "      <td>0.203535</td>\n",
       "      <td>NaN</td>\n",
       "      <td>1.615576</td>\n",
       "      <td>Control</td>\n",
       "      <td>Memantine</td>\n",
       "      <td>C/S</td>\n",
       "      <td>c-CS-m</td>\n",
       "      <td>0</td>\n",
       "      <td>-0.070557</td>\n",
       "    </tr>\n",
       "    <tr>\n",
       "      <th>50</th>\n",
       "      <td>321_6</td>\n",
       "      <td>0.457992</td>\n",
       "      <td>0.703492</td>\n",
       "      <td>0.385843</td>\n",
       "      <td>2.904392</td>\n",
       "      <td>6.318467</td>\n",
       "      <td>0.216858</td>\n",
       "      <td>0.160666</td>\n",
       "      <td>2.652073</td>\n",
       "      <td>0.197081</td>\n",
       "      <td>...</td>\n",
       "      <td>0.137983</td>\n",
       "      <td>0.208034</td>\n",
       "      <td>NaN</td>\n",
       "      <td>1.682427</td>\n",
       "      <td>Control</td>\n",
       "      <td>Memantine</td>\n",
       "      <td>C/S</td>\n",
       "      <td>c-CS-m</td>\n",
       "      <td>0</td>\n",
       "      <td>-0.021940</td>\n",
       "    </tr>\n",
       "    <tr>\n",
       "      <th>62</th>\n",
       "      <td>322_3</td>\n",
       "      <td>0.395358</td>\n",
       "      <td>0.576313</td>\n",
       "      <td>0.342568</td>\n",
       "      <td>2.356046</td>\n",
       "      <td>5.326220</td>\n",
       "      <td>0.207413</td>\n",
       "      <td>0.168601</td>\n",
       "      <td>3.511544</td>\n",
       "      <td>0.181580</td>\n",
       "      <td>...</td>\n",
       "      <td>NaN</td>\n",
       "      <td>NaN</td>\n",
       "      <td>NaN</td>\n",
       "      <td>1.723145</td>\n",
       "      <td>Control</td>\n",
       "      <td>Memantine</td>\n",
       "      <td>C/S</td>\n",
       "      <td>c-CS-m</td>\n",
       "      <td>0</td>\n",
       "      <td>-0.074313</td>\n",
       "    </tr>\n",
       "    <tr>\n",
       "      <th>69</th>\n",
       "      <td>322_10</td>\n",
       "      <td>0.346891</td>\n",
       "      <td>0.474287</td>\n",
       "      <td>0.296166</td>\n",
       "      <td>1.983170</td>\n",
       "      <td>3.674147</td>\n",
       "      <td>0.239832</td>\n",
       "      <td>0.193081</td>\n",
       "      <td>3.471482</td>\n",
       "      <td>0.184432</td>\n",
       "      <td>...</td>\n",
       "      <td>NaN</td>\n",
       "      <td>NaN</td>\n",
       "      <td>NaN</td>\n",
       "      <td>1.538291</td>\n",
       "      <td>Control</td>\n",
       "      <td>Memantine</td>\n",
       "      <td>C/S</td>\n",
       "      <td>c-CS-m</td>\n",
       "      <td>0</td>\n",
       "      <td>-0.081696</td>\n",
       "    </tr>\n",
       "  </tbody>\n",
       "</table>\n",
       "<p>5 rows × 84 columns</p>\n",
       "</div>"
      ]
     },
     "metadata": {},
     "execution_count": 51
    }
   ],
   "metadata": {}
  },
  {
   "cell_type": "code",
   "execution_count": null,
   "source": [],
   "outputs": [],
   "metadata": {}
  },
  {
   "cell_type": "code",
   "execution_count": null,
   "source": [],
   "outputs": [],
   "metadata": {}
  },
  {
   "cell_type": "code",
   "execution_count": null,
   "source": [],
   "outputs": [],
   "metadata": {}
  }
 ],
 "metadata": {
  "orig_nbformat": 4,
  "language_info": {
   "name": "python",
   "version": "3.8.3",
   "mimetype": "text/x-python",
   "codemirror_mode": {
    "name": "ipython",
    "version": 3
   },
   "pygments_lexer": "ipython3",
   "nbconvert_exporter": "python",
   "file_extension": ".py"
  },
  "kernelspec": {
   "name": "python3",
   "display_name": "Python 3.8.3 64-bit ('base': conda)"
  },
  "interpreter": {
   "hash": "dcb604d2064d267903aff93d60be1cda898b5c2541936bbbe6aa0a22a6f03fb3"
  }
 },
 "nbformat": 4,
 "nbformat_minor": 2
}